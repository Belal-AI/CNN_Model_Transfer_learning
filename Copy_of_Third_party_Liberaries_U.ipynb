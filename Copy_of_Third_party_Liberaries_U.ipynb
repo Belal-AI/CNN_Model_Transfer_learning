{
  "cells": [
    {
      "cell_type": "markdown",
      "metadata": {
        "id": "view-in-github",
        "colab_type": "text"
      },
      "source": [
        "<a href=\"https://colab.research.google.com/github/Belal-AI/CNN_Model_Transfer_learning/blob/main/Copy_of_Third_party_Liberaries_U.ipynb\" target=\"_parent\"><img src=\"https://colab.research.google.com/assets/colab-badge.svg\" alt=\"Open In Colab\"/></a>"
      ]
    },
    {
      "cell_type": "markdown",
      "id": "confirmed-competition",
      "metadata": {
        "id": "confirmed-competition"
      },
      "source": [
        "# 01 NumPy\n",
        "\n",
        "NumPy’s main object is the homogeneous multidimensional array. It is a table of elements (usually\n",
        "numbers), all of the same type, indexed by a tuple of non-negative integers. In NumPy dimensions\n",
        "are called axes"
      ]
    },
    {
      "cell_type": "code",
      "source": [
        "import pandas as pd\n",
        "import matplotlib.pyplot as plt\n",
        "import numpy as np"
      ],
      "metadata": {
        "id": "iiKIfuvFN_P4"
      },
      "id": "iiKIfuvFN_P4",
      "execution_count": null,
      "outputs": []
    },
    {
      "cell_type": "code",
      "source": [
        "df=pd.read_csv(\"/content/train.csv\")\n",
        "df"
      ],
      "metadata": {
        "colab": {
          "base_uri": "https://localhost:8080/",
          "height": 487
        },
        "id": "5SiXSgo5OQ9j",
        "outputId": "31e2d940-93da-4212-aed1-af8880d19779"
      },
      "id": "5SiXSgo5OQ9j",
      "execution_count": null,
      "outputs": [
        {
          "output_type": "execute_result",
          "data": {
            "text/plain": [
              "     PassengerId  Survived  Pclass  \\\n",
              "0              1         0       3   \n",
              "1              2         1       1   \n",
              "2              3         1       3   \n",
              "3              4         1       1   \n",
              "4              5         0       3   \n",
              "..           ...       ...     ...   \n",
              "886          887         0       2   \n",
              "887          888         1       1   \n",
              "888          889         0       3   \n",
              "889          890         1       1   \n",
              "890          891         0       3   \n",
              "\n",
              "                                                  Name     Sex   Age  SibSp  \\\n",
              "0                              Braund, Mr. Owen Harris    male  22.0      1   \n",
              "1    Cumings, Mrs. John Bradley (Florence Briggs Th...  female  38.0      1   \n",
              "2                               Heikkinen, Miss. Laina  female  26.0      0   \n",
              "3         Futrelle, Mrs. Jacques Heath (Lily May Peel)  female  35.0      1   \n",
              "4                             Allen, Mr. William Henry    male  35.0      0   \n",
              "..                                                 ...     ...   ...    ...   \n",
              "886                              Montvila, Rev. Juozas    male  27.0      0   \n",
              "887                       Graham, Miss. Margaret Edith  female  19.0      0   \n",
              "888           Johnston, Miss. Catherine Helen \"Carrie\"  female   NaN      1   \n",
              "889                              Behr, Mr. Karl Howell    male  26.0      0   \n",
              "890                                Dooley, Mr. Patrick    male  32.0      0   \n",
              "\n",
              "     Parch            Ticket     Fare Cabin Embarked  \n",
              "0        0         A/5 21171   7.2500   NaN        S  \n",
              "1        0          PC 17599  71.2833   C85        C  \n",
              "2        0  STON/O2. 3101282   7.9250   NaN        S  \n",
              "3        0            113803  53.1000  C123        S  \n",
              "4        0            373450   8.0500   NaN        S  \n",
              "..     ...               ...      ...   ...      ...  \n",
              "886      0            211536  13.0000   NaN        S  \n",
              "887      0            112053  30.0000   B42        S  \n",
              "888      2        W./C. 6607  23.4500   NaN        S  \n",
              "889      0            111369  30.0000  C148        C  \n",
              "890      0            370376   7.7500   NaN        Q  \n",
              "\n",
              "[891 rows x 12 columns]"
            ],
            "text/html": [
              "\n",
              "  <div id=\"df-de9bfe44-2737-4f62-942a-4959bd0581da\" class=\"colab-df-container\">\n",
              "    <div>\n",
              "<style scoped>\n",
              "    .dataframe tbody tr th:only-of-type {\n",
              "        vertical-align: middle;\n",
              "    }\n",
              "\n",
              "    .dataframe tbody tr th {\n",
              "        vertical-align: top;\n",
              "    }\n",
              "\n",
              "    .dataframe thead th {\n",
              "        text-align: right;\n",
              "    }\n",
              "</style>\n",
              "<table border=\"1\" class=\"dataframe\">\n",
              "  <thead>\n",
              "    <tr style=\"text-align: right;\">\n",
              "      <th></th>\n",
              "      <th>PassengerId</th>\n",
              "      <th>Survived</th>\n",
              "      <th>Pclass</th>\n",
              "      <th>Name</th>\n",
              "      <th>Sex</th>\n",
              "      <th>Age</th>\n",
              "      <th>SibSp</th>\n",
              "      <th>Parch</th>\n",
              "      <th>Ticket</th>\n",
              "      <th>Fare</th>\n",
              "      <th>Cabin</th>\n",
              "      <th>Embarked</th>\n",
              "    </tr>\n",
              "  </thead>\n",
              "  <tbody>\n",
              "    <tr>\n",
              "      <th>0</th>\n",
              "      <td>1</td>\n",
              "      <td>0</td>\n",
              "      <td>3</td>\n",
              "      <td>Braund, Mr. Owen Harris</td>\n",
              "      <td>male</td>\n",
              "      <td>22.0</td>\n",
              "      <td>1</td>\n",
              "      <td>0</td>\n",
              "      <td>A/5 21171</td>\n",
              "      <td>7.2500</td>\n",
              "      <td>NaN</td>\n",
              "      <td>S</td>\n",
              "    </tr>\n",
              "    <tr>\n",
              "      <th>1</th>\n",
              "      <td>2</td>\n",
              "      <td>1</td>\n",
              "      <td>1</td>\n",
              "      <td>Cumings, Mrs. John Bradley (Florence Briggs Th...</td>\n",
              "      <td>female</td>\n",
              "      <td>38.0</td>\n",
              "      <td>1</td>\n",
              "      <td>0</td>\n",
              "      <td>PC 17599</td>\n",
              "      <td>71.2833</td>\n",
              "      <td>C85</td>\n",
              "      <td>C</td>\n",
              "    </tr>\n",
              "    <tr>\n",
              "      <th>2</th>\n",
              "      <td>3</td>\n",
              "      <td>1</td>\n",
              "      <td>3</td>\n",
              "      <td>Heikkinen, Miss. Laina</td>\n",
              "      <td>female</td>\n",
              "      <td>26.0</td>\n",
              "      <td>0</td>\n",
              "      <td>0</td>\n",
              "      <td>STON/O2. 3101282</td>\n",
              "      <td>7.9250</td>\n",
              "      <td>NaN</td>\n",
              "      <td>S</td>\n",
              "    </tr>\n",
              "    <tr>\n",
              "      <th>3</th>\n",
              "      <td>4</td>\n",
              "      <td>1</td>\n",
              "      <td>1</td>\n",
              "      <td>Futrelle, Mrs. Jacques Heath (Lily May Peel)</td>\n",
              "      <td>female</td>\n",
              "      <td>35.0</td>\n",
              "      <td>1</td>\n",
              "      <td>0</td>\n",
              "      <td>113803</td>\n",
              "      <td>53.1000</td>\n",
              "      <td>C123</td>\n",
              "      <td>S</td>\n",
              "    </tr>\n",
              "    <tr>\n",
              "      <th>4</th>\n",
              "      <td>5</td>\n",
              "      <td>0</td>\n",
              "      <td>3</td>\n",
              "      <td>Allen, Mr. William Henry</td>\n",
              "      <td>male</td>\n",
              "      <td>35.0</td>\n",
              "      <td>0</td>\n",
              "      <td>0</td>\n",
              "      <td>373450</td>\n",
              "      <td>8.0500</td>\n",
              "      <td>NaN</td>\n",
              "      <td>S</td>\n",
              "    </tr>\n",
              "    <tr>\n",
              "      <th>...</th>\n",
              "      <td>...</td>\n",
              "      <td>...</td>\n",
              "      <td>...</td>\n",
              "      <td>...</td>\n",
              "      <td>...</td>\n",
              "      <td>...</td>\n",
              "      <td>...</td>\n",
              "      <td>...</td>\n",
              "      <td>...</td>\n",
              "      <td>...</td>\n",
              "      <td>...</td>\n",
              "      <td>...</td>\n",
              "    </tr>\n",
              "    <tr>\n",
              "      <th>886</th>\n",
              "      <td>887</td>\n",
              "      <td>0</td>\n",
              "      <td>2</td>\n",
              "      <td>Montvila, Rev. Juozas</td>\n",
              "      <td>male</td>\n",
              "      <td>27.0</td>\n",
              "      <td>0</td>\n",
              "      <td>0</td>\n",
              "      <td>211536</td>\n",
              "      <td>13.0000</td>\n",
              "      <td>NaN</td>\n",
              "      <td>S</td>\n",
              "    </tr>\n",
              "    <tr>\n",
              "      <th>887</th>\n",
              "      <td>888</td>\n",
              "      <td>1</td>\n",
              "      <td>1</td>\n",
              "      <td>Graham, Miss. Margaret Edith</td>\n",
              "      <td>female</td>\n",
              "      <td>19.0</td>\n",
              "      <td>0</td>\n",
              "      <td>0</td>\n",
              "      <td>112053</td>\n",
              "      <td>30.0000</td>\n",
              "      <td>B42</td>\n",
              "      <td>S</td>\n",
              "    </tr>\n",
              "    <tr>\n",
              "      <th>888</th>\n",
              "      <td>889</td>\n",
              "      <td>0</td>\n",
              "      <td>3</td>\n",
              "      <td>Johnston, Miss. Catherine Helen \"Carrie\"</td>\n",
              "      <td>female</td>\n",
              "      <td>NaN</td>\n",
              "      <td>1</td>\n",
              "      <td>2</td>\n",
              "      <td>W./C. 6607</td>\n",
              "      <td>23.4500</td>\n",
              "      <td>NaN</td>\n",
              "      <td>S</td>\n",
              "    </tr>\n",
              "    <tr>\n",
              "      <th>889</th>\n",
              "      <td>890</td>\n",
              "      <td>1</td>\n",
              "      <td>1</td>\n",
              "      <td>Behr, Mr. Karl Howell</td>\n",
              "      <td>male</td>\n",
              "      <td>26.0</td>\n",
              "      <td>0</td>\n",
              "      <td>0</td>\n",
              "      <td>111369</td>\n",
              "      <td>30.0000</td>\n",
              "      <td>C148</td>\n",
              "      <td>C</td>\n",
              "    </tr>\n",
              "    <tr>\n",
              "      <th>890</th>\n",
              "      <td>891</td>\n",
              "      <td>0</td>\n",
              "      <td>3</td>\n",
              "      <td>Dooley, Mr. Patrick</td>\n",
              "      <td>male</td>\n",
              "      <td>32.0</td>\n",
              "      <td>0</td>\n",
              "      <td>0</td>\n",
              "      <td>370376</td>\n",
              "      <td>7.7500</td>\n",
              "      <td>NaN</td>\n",
              "      <td>Q</td>\n",
              "    </tr>\n",
              "  </tbody>\n",
              "</table>\n",
              "<p>891 rows × 12 columns</p>\n",
              "</div>\n",
              "    <div class=\"colab-df-buttons\">\n",
              "\n",
              "  <div class=\"colab-df-container\">\n",
              "    <button class=\"colab-df-convert\" onclick=\"convertToInteractive('df-de9bfe44-2737-4f62-942a-4959bd0581da')\"\n",
              "            title=\"Convert this dataframe to an interactive table.\"\n",
              "            style=\"display:none;\">\n",
              "\n",
              "  <svg xmlns=\"http://www.w3.org/2000/svg\" height=\"24px\" viewBox=\"0 -960 960 960\">\n",
              "    <path d=\"M120-120v-720h720v720H120Zm60-500h600v-160H180v160Zm220 220h160v-160H400v160Zm0 220h160v-160H400v160ZM180-400h160v-160H180v160Zm440 0h160v-160H620v160ZM180-180h160v-160H180v160Zm440 0h160v-160H620v160Z\"/>\n",
              "  </svg>\n",
              "    </button>\n",
              "\n",
              "  <style>\n",
              "    .colab-df-container {\n",
              "      display:flex;\n",
              "      gap: 12px;\n",
              "    }\n",
              "\n",
              "    .colab-df-convert {\n",
              "      background-color: #E8F0FE;\n",
              "      border: none;\n",
              "      border-radius: 50%;\n",
              "      cursor: pointer;\n",
              "      display: none;\n",
              "      fill: #1967D2;\n",
              "      height: 32px;\n",
              "      padding: 0 0 0 0;\n",
              "      width: 32px;\n",
              "    }\n",
              "\n",
              "    .colab-df-convert:hover {\n",
              "      background-color: #E2EBFA;\n",
              "      box-shadow: 0px 1px 2px rgba(60, 64, 67, 0.3), 0px 1px 3px 1px rgba(60, 64, 67, 0.15);\n",
              "      fill: #174EA6;\n",
              "    }\n",
              "\n",
              "    .colab-df-buttons div {\n",
              "      margin-bottom: 4px;\n",
              "    }\n",
              "\n",
              "    [theme=dark] .colab-df-convert {\n",
              "      background-color: #3B4455;\n",
              "      fill: #D2E3FC;\n",
              "    }\n",
              "\n",
              "    [theme=dark] .colab-df-convert:hover {\n",
              "      background-color: #434B5C;\n",
              "      box-shadow: 0px 1px 3px 1px rgba(0, 0, 0, 0.15);\n",
              "      filter: drop-shadow(0px 1px 2px rgba(0, 0, 0, 0.3));\n",
              "      fill: #FFFFFF;\n",
              "    }\n",
              "  </style>\n",
              "\n",
              "    <script>\n",
              "      const buttonEl =\n",
              "        document.querySelector('#df-de9bfe44-2737-4f62-942a-4959bd0581da button.colab-df-convert');\n",
              "      buttonEl.style.display =\n",
              "        google.colab.kernel.accessAllowed ? 'block' : 'none';\n",
              "\n",
              "      async function convertToInteractive(key) {\n",
              "        const element = document.querySelector('#df-de9bfe44-2737-4f62-942a-4959bd0581da');\n",
              "        const dataTable =\n",
              "          await google.colab.kernel.invokeFunction('convertToInteractive',\n",
              "                                                    [key], {});\n",
              "        if (!dataTable) return;\n",
              "\n",
              "        const docLinkHtml = 'Like what you see? Visit the ' +\n",
              "          '<a target=\"_blank\" href=https://colab.research.google.com/notebooks/data_table.ipynb>data table notebook</a>'\n",
              "          + ' to learn more about interactive tables.';\n",
              "        element.innerHTML = '';\n",
              "        dataTable['output_type'] = 'display_data';\n",
              "        await google.colab.output.renderOutput(dataTable, element);\n",
              "        const docLink = document.createElement('div');\n",
              "        docLink.innerHTML = docLinkHtml;\n",
              "        element.appendChild(docLink);\n",
              "      }\n",
              "    </script>\n",
              "  </div>\n",
              "\n",
              "\n",
              "<div id=\"df-c72efb4a-3e15-4218-82b6-7f17eb0f06ce\">\n",
              "  <button class=\"colab-df-quickchart\" onclick=\"quickchart('df-c72efb4a-3e15-4218-82b6-7f17eb0f06ce')\"\n",
              "            title=\"Suggest charts\"\n",
              "            style=\"display:none;\">\n",
              "\n",
              "<svg xmlns=\"http://www.w3.org/2000/svg\" height=\"24px\"viewBox=\"0 0 24 24\"\n",
              "     width=\"24px\">\n",
              "    <g>\n",
              "        <path d=\"M19 3H5c-1.1 0-2 .9-2 2v14c0 1.1.9 2 2 2h14c1.1 0 2-.9 2-2V5c0-1.1-.9-2-2-2zM9 17H7v-7h2v7zm4 0h-2V7h2v10zm4 0h-2v-4h2v4z\"/>\n",
              "    </g>\n",
              "</svg>\n",
              "  </button>\n",
              "\n",
              "<style>\n",
              "  .colab-df-quickchart {\n",
              "      --bg-color: #E8F0FE;\n",
              "      --fill-color: #1967D2;\n",
              "      --hover-bg-color: #E2EBFA;\n",
              "      --hover-fill-color: #174EA6;\n",
              "      --disabled-fill-color: #AAA;\n",
              "      --disabled-bg-color: #DDD;\n",
              "  }\n",
              "\n",
              "  [theme=dark] .colab-df-quickchart {\n",
              "      --bg-color: #3B4455;\n",
              "      --fill-color: #D2E3FC;\n",
              "      --hover-bg-color: #434B5C;\n",
              "      --hover-fill-color: #FFFFFF;\n",
              "      --disabled-bg-color: #3B4455;\n",
              "      --disabled-fill-color: #666;\n",
              "  }\n",
              "\n",
              "  .colab-df-quickchart {\n",
              "    background-color: var(--bg-color);\n",
              "    border: none;\n",
              "    border-radius: 50%;\n",
              "    cursor: pointer;\n",
              "    display: none;\n",
              "    fill: var(--fill-color);\n",
              "    height: 32px;\n",
              "    padding: 0;\n",
              "    width: 32px;\n",
              "  }\n",
              "\n",
              "  .colab-df-quickchart:hover {\n",
              "    background-color: var(--hover-bg-color);\n",
              "    box-shadow: 0 1px 2px rgba(60, 64, 67, 0.3), 0 1px 3px 1px rgba(60, 64, 67, 0.15);\n",
              "    fill: var(--button-hover-fill-color);\n",
              "  }\n",
              "\n",
              "  .colab-df-quickchart-complete:disabled,\n",
              "  .colab-df-quickchart-complete:disabled:hover {\n",
              "    background-color: var(--disabled-bg-color);\n",
              "    fill: var(--disabled-fill-color);\n",
              "    box-shadow: none;\n",
              "  }\n",
              "\n",
              "  .colab-df-spinner {\n",
              "    border: 2px solid var(--fill-color);\n",
              "    border-color: transparent;\n",
              "    border-bottom-color: var(--fill-color);\n",
              "    animation:\n",
              "      spin 1s steps(1) infinite;\n",
              "  }\n",
              "\n",
              "  @keyframes spin {\n",
              "    0% {\n",
              "      border-color: transparent;\n",
              "      border-bottom-color: var(--fill-color);\n",
              "      border-left-color: var(--fill-color);\n",
              "    }\n",
              "    20% {\n",
              "      border-color: transparent;\n",
              "      border-left-color: var(--fill-color);\n",
              "      border-top-color: var(--fill-color);\n",
              "    }\n",
              "    30% {\n",
              "      border-color: transparent;\n",
              "      border-left-color: var(--fill-color);\n",
              "      border-top-color: var(--fill-color);\n",
              "      border-right-color: var(--fill-color);\n",
              "    }\n",
              "    40% {\n",
              "      border-color: transparent;\n",
              "      border-right-color: var(--fill-color);\n",
              "      border-top-color: var(--fill-color);\n",
              "    }\n",
              "    60% {\n",
              "      border-color: transparent;\n",
              "      border-right-color: var(--fill-color);\n",
              "    }\n",
              "    80% {\n",
              "      border-color: transparent;\n",
              "      border-right-color: var(--fill-color);\n",
              "      border-bottom-color: var(--fill-color);\n",
              "    }\n",
              "    90% {\n",
              "      border-color: transparent;\n",
              "      border-bottom-color: var(--fill-color);\n",
              "    }\n",
              "  }\n",
              "</style>\n",
              "\n",
              "  <script>\n",
              "    async function quickchart(key) {\n",
              "      const quickchartButtonEl =\n",
              "        document.querySelector('#' + key + ' button');\n",
              "      quickchartButtonEl.disabled = true;  // To prevent multiple clicks.\n",
              "      quickchartButtonEl.classList.add('colab-df-spinner');\n",
              "      try {\n",
              "        const charts = await google.colab.kernel.invokeFunction(\n",
              "            'suggestCharts', [key], {});\n",
              "      } catch (error) {\n",
              "        console.error('Error during call to suggestCharts:', error);\n",
              "      }\n",
              "      quickchartButtonEl.classList.remove('colab-df-spinner');\n",
              "      quickchartButtonEl.classList.add('colab-df-quickchart-complete');\n",
              "    }\n",
              "    (() => {\n",
              "      let quickchartButtonEl =\n",
              "        document.querySelector('#df-c72efb4a-3e15-4218-82b6-7f17eb0f06ce button');\n",
              "      quickchartButtonEl.style.display =\n",
              "        google.colab.kernel.accessAllowed ? 'block' : 'none';\n",
              "    })();\n",
              "  </script>\n",
              "</div>\n",
              "\n",
              "  <div id=\"id_64a03748-10a0-445d-9fb0-067666f399ac\">\n",
              "    <style>\n",
              "      .colab-df-generate {\n",
              "        background-color: #E8F0FE;\n",
              "        border: none;\n",
              "        border-radius: 50%;\n",
              "        cursor: pointer;\n",
              "        display: none;\n",
              "        fill: #1967D2;\n",
              "        height: 32px;\n",
              "        padding: 0 0 0 0;\n",
              "        width: 32px;\n",
              "      }\n",
              "\n",
              "      .colab-df-generate:hover {\n",
              "        background-color: #E2EBFA;\n",
              "        box-shadow: 0px 1px 2px rgba(60, 64, 67, 0.3), 0px 1px 3px 1px rgba(60, 64, 67, 0.15);\n",
              "        fill: #174EA6;\n",
              "      }\n",
              "\n",
              "      [theme=dark] .colab-df-generate {\n",
              "        background-color: #3B4455;\n",
              "        fill: #D2E3FC;\n",
              "      }\n",
              "\n",
              "      [theme=dark] .colab-df-generate:hover {\n",
              "        background-color: #434B5C;\n",
              "        box-shadow: 0px 1px 3px 1px rgba(0, 0, 0, 0.15);\n",
              "        filter: drop-shadow(0px 1px 2px rgba(0, 0, 0, 0.3));\n",
              "        fill: #FFFFFF;\n",
              "      }\n",
              "    </style>\n",
              "    <button class=\"colab-df-generate\" onclick=\"generateWithVariable('df')\"\n",
              "            title=\"Generate code using this dataframe.\"\n",
              "            style=\"display:none;\">\n",
              "\n",
              "  <svg xmlns=\"http://www.w3.org/2000/svg\" height=\"24px\"viewBox=\"0 0 24 24\"\n",
              "       width=\"24px\">\n",
              "    <path d=\"M7,19H8.4L18.45,9,17,7.55,7,17.6ZM5,21V16.75L18.45,3.32a2,2,0,0,1,2.83,0l1.4,1.43a1.91,1.91,0,0,1,.58,1.4,1.91,1.91,0,0,1-.58,1.4L9.25,21ZM18.45,9,17,7.55Zm-12,3A5.31,5.31,0,0,0,4.9,8.1,5.31,5.31,0,0,0,1,6.5,5.31,5.31,0,0,0,4.9,4.9,5.31,5.31,0,0,0,6.5,1,5.31,5.31,0,0,0,8.1,4.9,5.31,5.31,0,0,0,12,6.5,5.46,5.46,0,0,0,6.5,12Z\"/>\n",
              "  </svg>\n",
              "    </button>\n",
              "    <script>\n",
              "      (() => {\n",
              "      const buttonEl =\n",
              "        document.querySelector('#id_64a03748-10a0-445d-9fb0-067666f399ac button.colab-df-generate');\n",
              "      buttonEl.style.display =\n",
              "        google.colab.kernel.accessAllowed ? 'block' : 'none';\n",
              "\n",
              "      buttonEl.onclick = () => {\n",
              "        google.colab.notebook.generateWithVariable('df');\n",
              "      }\n",
              "      })();\n",
              "    </script>\n",
              "  </div>\n",
              "\n",
              "    </div>\n",
              "  </div>\n"
            ],
            "application/vnd.google.colaboratory.intrinsic+json": {
              "type": "dataframe",
              "variable_name": "df",
              "summary": "{\n  \"name\": \"df\",\n  \"rows\": 891,\n  \"fields\": [\n    {\n      \"column\": \"PassengerId\",\n      \"properties\": {\n        \"dtype\": \"number\",\n        \"std\": 257,\n        \"min\": 1,\n        \"max\": 891,\n        \"num_unique_values\": 891,\n        \"samples\": [\n          710,\n          440,\n          841\n        ],\n        \"semantic_type\": \"\",\n        \"description\": \"\"\n      }\n    },\n    {\n      \"column\": \"Survived\",\n      \"properties\": {\n        \"dtype\": \"number\",\n        \"std\": 0,\n        \"min\": 0,\n        \"max\": 1,\n        \"num_unique_values\": 2,\n        \"samples\": [\n          1,\n          0\n        ],\n        \"semantic_type\": \"\",\n        \"description\": \"\"\n      }\n    },\n    {\n      \"column\": \"Pclass\",\n      \"properties\": {\n        \"dtype\": \"number\",\n        \"std\": 0,\n        \"min\": 1,\n        \"max\": 3,\n        \"num_unique_values\": 3,\n        \"samples\": [\n          3,\n          1\n        ],\n        \"semantic_type\": \"\",\n        \"description\": \"\"\n      }\n    },\n    {\n      \"column\": \"Name\",\n      \"properties\": {\n        \"dtype\": \"string\",\n        \"num_unique_values\": 891,\n        \"samples\": [\n          \"Moubarek, Master. Halim Gonios (\\\"William George\\\")\",\n          \"Kvillner, Mr. Johan Henrik Johannesson\"\n        ],\n        \"semantic_type\": \"\",\n        \"description\": \"\"\n      }\n    },\n    {\n      \"column\": \"Sex\",\n      \"properties\": {\n        \"dtype\": \"category\",\n        \"num_unique_values\": 2,\n        \"samples\": [\n          \"female\",\n          \"male\"\n        ],\n        \"semantic_type\": \"\",\n        \"description\": \"\"\n      }\n    },\n    {\n      \"column\": \"Age\",\n      \"properties\": {\n        \"dtype\": \"number\",\n        \"std\": 14.526497332334044,\n        \"min\": 0.42,\n        \"max\": 80.0,\n        \"num_unique_values\": 88,\n        \"samples\": [\n          0.75,\n          22.0\n        ],\n        \"semantic_type\": \"\",\n        \"description\": \"\"\n      }\n    },\n    {\n      \"column\": \"SibSp\",\n      \"properties\": {\n        \"dtype\": \"number\",\n        \"std\": 1,\n        \"min\": 0,\n        \"max\": 8,\n        \"num_unique_values\": 7,\n        \"samples\": [\n          1,\n          0\n        ],\n        \"semantic_type\": \"\",\n        \"description\": \"\"\n      }\n    },\n    {\n      \"column\": \"Parch\",\n      \"properties\": {\n        \"dtype\": \"number\",\n        \"std\": 0,\n        \"min\": 0,\n        \"max\": 6,\n        \"num_unique_values\": 7,\n        \"samples\": [\n          0,\n          1\n        ],\n        \"semantic_type\": \"\",\n        \"description\": \"\"\n      }\n    },\n    {\n      \"column\": \"Ticket\",\n      \"properties\": {\n        \"dtype\": \"string\",\n        \"num_unique_values\": 681,\n        \"samples\": [\n          \"11774\",\n          \"248740\"\n        ],\n        \"semantic_type\": \"\",\n        \"description\": \"\"\n      }\n    },\n    {\n      \"column\": \"Fare\",\n      \"properties\": {\n        \"dtype\": \"number\",\n        \"std\": 49.693428597180905,\n        \"min\": 0.0,\n        \"max\": 512.3292,\n        \"num_unique_values\": 248,\n        \"samples\": [\n          11.2417,\n          51.8625\n        ],\n        \"semantic_type\": \"\",\n        \"description\": \"\"\n      }\n    },\n    {\n      \"column\": \"Cabin\",\n      \"properties\": {\n        \"dtype\": \"category\",\n        \"num_unique_values\": 147,\n        \"samples\": [\n          \"D45\",\n          \"B49\"\n        ],\n        \"semantic_type\": \"\",\n        \"description\": \"\"\n      }\n    },\n    {\n      \"column\": \"Embarked\",\n      \"properties\": {\n        \"dtype\": \"category\",\n        \"num_unique_values\": 3,\n        \"samples\": [\n          \"S\",\n          \"C\"\n        ],\n        \"semantic_type\": \"\",\n        \"description\": \"\"\n      }\n    }\n  ]\n}"
            }
          },
          "metadata": {},
          "execution_count": 2
        }
      ]
    },
    {
      "cell_type": "code",
      "source": [
        "df.describe()"
      ],
      "metadata": {
        "colab": {
          "base_uri": "https://localhost:8080/",
          "height": 297
        },
        "id": "N0GqbYgc3ne_",
        "outputId": "7bcb33e1-6d8d-41fd-d3ae-f8a2ff37bda2"
      },
      "id": "N0GqbYgc3ne_",
      "execution_count": null,
      "outputs": [
        {
          "output_type": "execute_result",
          "data": {
            "text/plain": [
              "       PassengerId    Survived      Pclass         Age       SibSp  \\\n",
              "count   891.000000  891.000000  891.000000  714.000000  891.000000   \n",
              "mean    446.000000    0.383838    2.308642   29.699118    0.523008   \n",
              "std     257.353842    0.486592    0.836071   14.526497    1.102743   \n",
              "min       1.000000    0.000000    1.000000    0.420000    0.000000   \n",
              "25%     223.500000    0.000000    2.000000   20.125000    0.000000   \n",
              "50%     446.000000    0.000000    3.000000   28.000000    0.000000   \n",
              "75%     668.500000    1.000000    3.000000   38.000000    1.000000   \n",
              "max     891.000000    1.000000    3.000000   80.000000    8.000000   \n",
              "\n",
              "            Parch        Fare  \n",
              "count  891.000000  891.000000  \n",
              "mean     0.381594   32.204208  \n",
              "std      0.806057   49.693429  \n",
              "min      0.000000    0.000000  \n",
              "25%      0.000000    7.910400  \n",
              "50%      0.000000   14.454200  \n",
              "75%      0.000000   31.000000  \n",
              "max      6.000000  512.329200  "
            ],
            "text/html": [
              "\n",
              "  <div id=\"df-3e0eb37f-58ef-48af-bace-ffe62e2bd8bb\" class=\"colab-df-container\">\n",
              "    <div>\n",
              "<style scoped>\n",
              "    .dataframe tbody tr th:only-of-type {\n",
              "        vertical-align: middle;\n",
              "    }\n",
              "\n",
              "    .dataframe tbody tr th {\n",
              "        vertical-align: top;\n",
              "    }\n",
              "\n",
              "    .dataframe thead th {\n",
              "        text-align: right;\n",
              "    }\n",
              "</style>\n",
              "<table border=\"1\" class=\"dataframe\">\n",
              "  <thead>\n",
              "    <tr style=\"text-align: right;\">\n",
              "      <th></th>\n",
              "      <th>PassengerId</th>\n",
              "      <th>Survived</th>\n",
              "      <th>Pclass</th>\n",
              "      <th>Age</th>\n",
              "      <th>SibSp</th>\n",
              "      <th>Parch</th>\n",
              "      <th>Fare</th>\n",
              "    </tr>\n",
              "  </thead>\n",
              "  <tbody>\n",
              "    <tr>\n",
              "      <th>count</th>\n",
              "      <td>891.000000</td>\n",
              "      <td>891.000000</td>\n",
              "      <td>891.000000</td>\n",
              "      <td>714.000000</td>\n",
              "      <td>891.000000</td>\n",
              "      <td>891.000000</td>\n",
              "      <td>891.000000</td>\n",
              "    </tr>\n",
              "    <tr>\n",
              "      <th>mean</th>\n",
              "      <td>446.000000</td>\n",
              "      <td>0.383838</td>\n",
              "      <td>2.308642</td>\n",
              "      <td>29.699118</td>\n",
              "      <td>0.523008</td>\n",
              "      <td>0.381594</td>\n",
              "      <td>32.204208</td>\n",
              "    </tr>\n",
              "    <tr>\n",
              "      <th>std</th>\n",
              "      <td>257.353842</td>\n",
              "      <td>0.486592</td>\n",
              "      <td>0.836071</td>\n",
              "      <td>14.526497</td>\n",
              "      <td>1.102743</td>\n",
              "      <td>0.806057</td>\n",
              "      <td>49.693429</td>\n",
              "    </tr>\n",
              "    <tr>\n",
              "      <th>min</th>\n",
              "      <td>1.000000</td>\n",
              "      <td>0.000000</td>\n",
              "      <td>1.000000</td>\n",
              "      <td>0.420000</td>\n",
              "      <td>0.000000</td>\n",
              "      <td>0.000000</td>\n",
              "      <td>0.000000</td>\n",
              "    </tr>\n",
              "    <tr>\n",
              "      <th>25%</th>\n",
              "      <td>223.500000</td>\n",
              "      <td>0.000000</td>\n",
              "      <td>2.000000</td>\n",
              "      <td>20.125000</td>\n",
              "      <td>0.000000</td>\n",
              "      <td>0.000000</td>\n",
              "      <td>7.910400</td>\n",
              "    </tr>\n",
              "    <tr>\n",
              "      <th>50%</th>\n",
              "      <td>446.000000</td>\n",
              "      <td>0.000000</td>\n",
              "      <td>3.000000</td>\n",
              "      <td>28.000000</td>\n",
              "      <td>0.000000</td>\n",
              "      <td>0.000000</td>\n",
              "      <td>14.454200</td>\n",
              "    </tr>\n",
              "    <tr>\n",
              "      <th>75%</th>\n",
              "      <td>668.500000</td>\n",
              "      <td>1.000000</td>\n",
              "      <td>3.000000</td>\n",
              "      <td>38.000000</td>\n",
              "      <td>1.000000</td>\n",
              "      <td>0.000000</td>\n",
              "      <td>31.000000</td>\n",
              "    </tr>\n",
              "    <tr>\n",
              "      <th>max</th>\n",
              "      <td>891.000000</td>\n",
              "      <td>1.000000</td>\n",
              "      <td>3.000000</td>\n",
              "      <td>80.000000</td>\n",
              "      <td>8.000000</td>\n",
              "      <td>6.000000</td>\n",
              "      <td>512.329200</td>\n",
              "    </tr>\n",
              "  </tbody>\n",
              "</table>\n",
              "</div>\n",
              "    <div class=\"colab-df-buttons\">\n",
              "\n",
              "  <div class=\"colab-df-container\">\n",
              "    <button class=\"colab-df-convert\" onclick=\"convertToInteractive('df-3e0eb37f-58ef-48af-bace-ffe62e2bd8bb')\"\n",
              "            title=\"Convert this dataframe to an interactive table.\"\n",
              "            style=\"display:none;\">\n",
              "\n",
              "  <svg xmlns=\"http://www.w3.org/2000/svg\" height=\"24px\" viewBox=\"0 -960 960 960\">\n",
              "    <path d=\"M120-120v-720h720v720H120Zm60-500h600v-160H180v160Zm220 220h160v-160H400v160Zm0 220h160v-160H400v160ZM180-400h160v-160H180v160Zm440 0h160v-160H620v160ZM180-180h160v-160H180v160Zm440 0h160v-160H620v160Z\"/>\n",
              "  </svg>\n",
              "    </button>\n",
              "\n",
              "  <style>\n",
              "    .colab-df-container {\n",
              "      display:flex;\n",
              "      gap: 12px;\n",
              "    }\n",
              "\n",
              "    .colab-df-convert {\n",
              "      background-color: #E8F0FE;\n",
              "      border: none;\n",
              "      border-radius: 50%;\n",
              "      cursor: pointer;\n",
              "      display: none;\n",
              "      fill: #1967D2;\n",
              "      height: 32px;\n",
              "      padding: 0 0 0 0;\n",
              "      width: 32px;\n",
              "    }\n",
              "\n",
              "    .colab-df-convert:hover {\n",
              "      background-color: #E2EBFA;\n",
              "      box-shadow: 0px 1px 2px rgba(60, 64, 67, 0.3), 0px 1px 3px 1px rgba(60, 64, 67, 0.15);\n",
              "      fill: #174EA6;\n",
              "    }\n",
              "\n",
              "    .colab-df-buttons div {\n",
              "      margin-bottom: 4px;\n",
              "    }\n",
              "\n",
              "    [theme=dark] .colab-df-convert {\n",
              "      background-color: #3B4455;\n",
              "      fill: #D2E3FC;\n",
              "    }\n",
              "\n",
              "    [theme=dark] .colab-df-convert:hover {\n",
              "      background-color: #434B5C;\n",
              "      box-shadow: 0px 1px 3px 1px rgba(0, 0, 0, 0.15);\n",
              "      filter: drop-shadow(0px 1px 2px rgba(0, 0, 0, 0.3));\n",
              "      fill: #FFFFFF;\n",
              "    }\n",
              "  </style>\n",
              "\n",
              "    <script>\n",
              "      const buttonEl =\n",
              "        document.querySelector('#df-3e0eb37f-58ef-48af-bace-ffe62e2bd8bb button.colab-df-convert');\n",
              "      buttonEl.style.display =\n",
              "        google.colab.kernel.accessAllowed ? 'block' : 'none';\n",
              "\n",
              "      async function convertToInteractive(key) {\n",
              "        const element = document.querySelector('#df-3e0eb37f-58ef-48af-bace-ffe62e2bd8bb');\n",
              "        const dataTable =\n",
              "          await google.colab.kernel.invokeFunction('convertToInteractive',\n",
              "                                                    [key], {});\n",
              "        if (!dataTable) return;\n",
              "\n",
              "        const docLinkHtml = 'Like what you see? Visit the ' +\n",
              "          '<a target=\"_blank\" href=https://colab.research.google.com/notebooks/data_table.ipynb>data table notebook</a>'\n",
              "          + ' to learn more about interactive tables.';\n",
              "        element.innerHTML = '';\n",
              "        dataTable['output_type'] = 'display_data';\n",
              "        await google.colab.output.renderOutput(dataTable, element);\n",
              "        const docLink = document.createElement('div');\n",
              "        docLink.innerHTML = docLinkHtml;\n",
              "        element.appendChild(docLink);\n",
              "      }\n",
              "    </script>\n",
              "  </div>\n",
              "\n",
              "\n",
              "<div id=\"df-58dc63a7-765d-4d16-8d1c-40f4eecc01ae\">\n",
              "  <button class=\"colab-df-quickchart\" onclick=\"quickchart('df-58dc63a7-765d-4d16-8d1c-40f4eecc01ae')\"\n",
              "            title=\"Suggest charts\"\n",
              "            style=\"display:none;\">\n",
              "\n",
              "<svg xmlns=\"http://www.w3.org/2000/svg\" height=\"24px\"viewBox=\"0 0 24 24\"\n",
              "     width=\"24px\">\n",
              "    <g>\n",
              "        <path d=\"M19 3H5c-1.1 0-2 .9-2 2v14c0 1.1.9 2 2 2h14c1.1 0 2-.9 2-2V5c0-1.1-.9-2-2-2zM9 17H7v-7h2v7zm4 0h-2V7h2v10zm4 0h-2v-4h2v4z\"/>\n",
              "    </g>\n",
              "</svg>\n",
              "  </button>\n",
              "\n",
              "<style>\n",
              "  .colab-df-quickchart {\n",
              "      --bg-color: #E8F0FE;\n",
              "      --fill-color: #1967D2;\n",
              "      --hover-bg-color: #E2EBFA;\n",
              "      --hover-fill-color: #174EA6;\n",
              "      --disabled-fill-color: #AAA;\n",
              "      --disabled-bg-color: #DDD;\n",
              "  }\n",
              "\n",
              "  [theme=dark] .colab-df-quickchart {\n",
              "      --bg-color: #3B4455;\n",
              "      --fill-color: #D2E3FC;\n",
              "      --hover-bg-color: #434B5C;\n",
              "      --hover-fill-color: #FFFFFF;\n",
              "      --disabled-bg-color: #3B4455;\n",
              "      --disabled-fill-color: #666;\n",
              "  }\n",
              "\n",
              "  .colab-df-quickchart {\n",
              "    background-color: var(--bg-color);\n",
              "    border: none;\n",
              "    border-radius: 50%;\n",
              "    cursor: pointer;\n",
              "    display: none;\n",
              "    fill: var(--fill-color);\n",
              "    height: 32px;\n",
              "    padding: 0;\n",
              "    width: 32px;\n",
              "  }\n",
              "\n",
              "  .colab-df-quickchart:hover {\n",
              "    background-color: var(--hover-bg-color);\n",
              "    box-shadow: 0 1px 2px rgba(60, 64, 67, 0.3), 0 1px 3px 1px rgba(60, 64, 67, 0.15);\n",
              "    fill: var(--button-hover-fill-color);\n",
              "  }\n",
              "\n",
              "  .colab-df-quickchart-complete:disabled,\n",
              "  .colab-df-quickchart-complete:disabled:hover {\n",
              "    background-color: var(--disabled-bg-color);\n",
              "    fill: var(--disabled-fill-color);\n",
              "    box-shadow: none;\n",
              "  }\n",
              "\n",
              "  .colab-df-spinner {\n",
              "    border: 2px solid var(--fill-color);\n",
              "    border-color: transparent;\n",
              "    border-bottom-color: var(--fill-color);\n",
              "    animation:\n",
              "      spin 1s steps(1) infinite;\n",
              "  }\n",
              "\n",
              "  @keyframes spin {\n",
              "    0% {\n",
              "      border-color: transparent;\n",
              "      border-bottom-color: var(--fill-color);\n",
              "      border-left-color: var(--fill-color);\n",
              "    }\n",
              "    20% {\n",
              "      border-color: transparent;\n",
              "      border-left-color: var(--fill-color);\n",
              "      border-top-color: var(--fill-color);\n",
              "    }\n",
              "    30% {\n",
              "      border-color: transparent;\n",
              "      border-left-color: var(--fill-color);\n",
              "      border-top-color: var(--fill-color);\n",
              "      border-right-color: var(--fill-color);\n",
              "    }\n",
              "    40% {\n",
              "      border-color: transparent;\n",
              "      border-right-color: var(--fill-color);\n",
              "      border-top-color: var(--fill-color);\n",
              "    }\n",
              "    60% {\n",
              "      border-color: transparent;\n",
              "      border-right-color: var(--fill-color);\n",
              "    }\n",
              "    80% {\n",
              "      border-color: transparent;\n",
              "      border-right-color: var(--fill-color);\n",
              "      border-bottom-color: var(--fill-color);\n",
              "    }\n",
              "    90% {\n",
              "      border-color: transparent;\n",
              "      border-bottom-color: var(--fill-color);\n",
              "    }\n",
              "  }\n",
              "</style>\n",
              "\n",
              "  <script>\n",
              "    async function quickchart(key) {\n",
              "      const quickchartButtonEl =\n",
              "        document.querySelector('#' + key + ' button');\n",
              "      quickchartButtonEl.disabled = true;  // To prevent multiple clicks.\n",
              "      quickchartButtonEl.classList.add('colab-df-spinner');\n",
              "      try {\n",
              "        const charts = await google.colab.kernel.invokeFunction(\n",
              "            'suggestCharts', [key], {});\n",
              "      } catch (error) {\n",
              "        console.error('Error during call to suggestCharts:', error);\n",
              "      }\n",
              "      quickchartButtonEl.classList.remove('colab-df-spinner');\n",
              "      quickchartButtonEl.classList.add('colab-df-quickchart-complete');\n",
              "    }\n",
              "    (() => {\n",
              "      let quickchartButtonEl =\n",
              "        document.querySelector('#df-58dc63a7-765d-4d16-8d1c-40f4eecc01ae button');\n",
              "      quickchartButtonEl.style.display =\n",
              "        google.colab.kernel.accessAllowed ? 'block' : 'none';\n",
              "    })();\n",
              "  </script>\n",
              "</div>\n",
              "\n",
              "    </div>\n",
              "  </div>\n"
            ],
            "application/vnd.google.colaboratory.intrinsic+json": {
              "type": "dataframe",
              "summary": "{\n  \"name\": \"df\",\n  \"rows\": 8,\n  \"fields\": [\n    {\n      \"column\": \"PassengerId\",\n      \"properties\": {\n        \"dtype\": \"number\",\n        \"std\": 320.8159711429856,\n        \"min\": 1.0,\n        \"max\": 891.0,\n        \"num_unique_values\": 6,\n        \"samples\": [\n          891.0,\n          446.0,\n          668.5\n        ],\n        \"semantic_type\": \"\",\n        \"description\": \"\"\n      }\n    },\n    {\n      \"column\": \"Survived\",\n      \"properties\": {\n        \"dtype\": \"number\",\n        \"std\": 314.8713661874558,\n        \"min\": 0.0,\n        \"max\": 891.0,\n        \"num_unique_values\": 5,\n        \"samples\": [\n          0.3838383838383838,\n          1.0,\n          0.4865924542648585\n        ],\n        \"semantic_type\": \"\",\n        \"description\": \"\"\n      }\n    },\n    {\n      \"column\": \"Pclass\",\n      \"properties\": {\n        \"dtype\": \"number\",\n        \"std\": 314.2523437079693,\n        \"min\": 0.8360712409770513,\n        \"max\": 891.0,\n        \"num_unique_values\": 6,\n        \"samples\": [\n          891.0,\n          2.308641975308642,\n          3.0\n        ],\n        \"semantic_type\": \"\",\n        \"description\": \"\"\n      }\n    },\n    {\n      \"column\": \"Age\",\n      \"properties\": {\n        \"dtype\": \"number\",\n        \"std\": 242.9056731818781,\n        \"min\": 0.42,\n        \"max\": 714.0,\n        \"num_unique_values\": 8,\n        \"samples\": [\n          29.69911764705882,\n          28.0,\n          714.0\n        ],\n        \"semantic_type\": \"\",\n        \"description\": \"\"\n      }\n    },\n    {\n      \"column\": \"SibSp\",\n      \"properties\": {\n        \"dtype\": \"number\",\n        \"std\": 314.4908277465442,\n        \"min\": 0.0,\n        \"max\": 891.0,\n        \"num_unique_values\": 6,\n        \"samples\": [\n          891.0,\n          0.5230078563411896,\n          8.0\n        ],\n        \"semantic_type\": \"\",\n        \"description\": \"\"\n      }\n    },\n    {\n      \"column\": \"Parch\",\n      \"properties\": {\n        \"dtype\": \"number\",\n        \"std\": 314.65971717879,\n        \"min\": 0.0,\n        \"max\": 891.0,\n        \"num_unique_values\": 5,\n        \"samples\": [\n          0.38159371492704824,\n          6.0,\n          0.8060572211299559\n        ],\n        \"semantic_type\": \"\",\n        \"description\": \"\"\n      }\n    },\n    {\n      \"column\": \"Fare\",\n      \"properties\": {\n        \"dtype\": \"number\",\n        \"std\": 330.6256632228577,\n        \"min\": 0.0,\n        \"max\": 891.0,\n        \"num_unique_values\": 8,\n        \"samples\": [\n          32.204207968574636,\n          14.4542,\n          891.0\n        ],\n        \"semantic_type\": \"\",\n        \"description\": \"\"\n      }\n    }\n  ]\n}"
            }
          },
          "metadata": {},
          "execution_count": 3
        }
      ]
    },
    {
      "cell_type": "code",
      "source": [
        "df.isna().sum()"
      ],
      "metadata": {
        "colab": {
          "base_uri": "https://localhost:8080/",
          "height": 455
        },
        "id": "PubJKOFuPLLk",
        "outputId": "f14abdee-ce52-4d17-8cb6-2b1ac24a79dc"
      },
      "id": "PubJKOFuPLLk",
      "execution_count": null,
      "outputs": [
        {
          "output_type": "execute_result",
          "data": {
            "text/plain": [
              "PassengerId      0\n",
              "Survived         0\n",
              "Pclass           0\n",
              "Name             0\n",
              "Sex              0\n",
              "Age            177\n",
              "SibSp            0\n",
              "Parch            0\n",
              "Ticket           0\n",
              "Fare             0\n",
              "Cabin          687\n",
              "Embarked         2\n",
              "dtype: int64"
            ],
            "text/html": [
              "<div>\n",
              "<style scoped>\n",
              "    .dataframe tbody tr th:only-of-type {\n",
              "        vertical-align: middle;\n",
              "    }\n",
              "\n",
              "    .dataframe tbody tr th {\n",
              "        vertical-align: top;\n",
              "    }\n",
              "\n",
              "    .dataframe thead th {\n",
              "        text-align: right;\n",
              "    }\n",
              "</style>\n",
              "<table border=\"1\" class=\"dataframe\">\n",
              "  <thead>\n",
              "    <tr style=\"text-align: right;\">\n",
              "      <th></th>\n",
              "      <th>0</th>\n",
              "    </tr>\n",
              "  </thead>\n",
              "  <tbody>\n",
              "    <tr>\n",
              "      <th>PassengerId</th>\n",
              "      <td>0</td>\n",
              "    </tr>\n",
              "    <tr>\n",
              "      <th>Survived</th>\n",
              "      <td>0</td>\n",
              "    </tr>\n",
              "    <tr>\n",
              "      <th>Pclass</th>\n",
              "      <td>0</td>\n",
              "    </tr>\n",
              "    <tr>\n",
              "      <th>Name</th>\n",
              "      <td>0</td>\n",
              "    </tr>\n",
              "    <tr>\n",
              "      <th>Sex</th>\n",
              "      <td>0</td>\n",
              "    </tr>\n",
              "    <tr>\n",
              "      <th>Age</th>\n",
              "      <td>177</td>\n",
              "    </tr>\n",
              "    <tr>\n",
              "      <th>SibSp</th>\n",
              "      <td>0</td>\n",
              "    </tr>\n",
              "    <tr>\n",
              "      <th>Parch</th>\n",
              "      <td>0</td>\n",
              "    </tr>\n",
              "    <tr>\n",
              "      <th>Ticket</th>\n",
              "      <td>0</td>\n",
              "    </tr>\n",
              "    <tr>\n",
              "      <th>Fare</th>\n",
              "      <td>0</td>\n",
              "    </tr>\n",
              "    <tr>\n",
              "      <th>Cabin</th>\n",
              "      <td>687</td>\n",
              "    </tr>\n",
              "    <tr>\n",
              "      <th>Embarked</th>\n",
              "      <td>2</td>\n",
              "    </tr>\n",
              "  </tbody>\n",
              "</table>\n",
              "</div><br><label><b>dtype:</b> int64</label>"
            ]
          },
          "metadata": {},
          "execution_count": 4
        }
      ]
    },
    {
      "cell_type": "code",
      "source": [
        "df['Embarked'].unique()"
      ],
      "metadata": {
        "colab": {
          "base_uri": "https://localhost:8080/"
        },
        "id": "sR5a22jsgsbb",
        "outputId": "60cb5969-b611-48a7-87bd-6ff79d6d2d9e"
      },
      "id": "sR5a22jsgsbb",
      "execution_count": null,
      "outputs": [
        {
          "output_type": "execute_result",
          "data": {
            "text/plain": [
              "array(['S', 'C', 'Q', nan], dtype=object)"
            ]
          },
          "metadata": {},
          "execution_count": 6
        }
      ]
    },
    {
      "cell_type": "code",
      "source": [
        "df.drop('Cabin',axis=1,inplace=True)"
      ],
      "metadata": {
        "id": "ftLo7Ijk5OKb"
      },
      "id": "ftLo7Ijk5OKb",
      "execution_count": null,
      "outputs": []
    },
    {
      "cell_type": "code",
      "source": [
        "df['Embarked'].mode()"
      ],
      "metadata": {
        "colab": {
          "base_uri": "https://localhost:8080/",
          "height": 114
        },
        "id": "ctVGDRUu7sYv",
        "outputId": "c1d85200-1910-40d8-b4dd-62ab4c043470"
      },
      "id": "ctVGDRUu7sYv",
      "execution_count": null,
      "outputs": [
        {
          "output_type": "execute_result",
          "data": {
            "text/plain": [
              "0    S\n",
              "Name: Embarked, dtype: object"
            ],
            "text/html": [
              "<div>\n",
              "<style scoped>\n",
              "    .dataframe tbody tr th:only-of-type {\n",
              "        vertical-align: middle;\n",
              "    }\n",
              "\n",
              "    .dataframe tbody tr th {\n",
              "        vertical-align: top;\n",
              "    }\n",
              "\n",
              "    .dataframe thead th {\n",
              "        text-align: right;\n",
              "    }\n",
              "</style>\n",
              "<table border=\"1\" class=\"dataframe\">\n",
              "  <thead>\n",
              "    <tr style=\"text-align: right;\">\n",
              "      <th></th>\n",
              "      <th>Embarked</th>\n",
              "    </tr>\n",
              "  </thead>\n",
              "  <tbody>\n",
              "    <tr>\n",
              "      <th>0</th>\n",
              "      <td>S</td>\n",
              "    </tr>\n",
              "  </tbody>\n",
              "</table>\n",
              "</div><br><label><b>dtype:</b> object</label>"
            ]
          },
          "metadata": {},
          "execution_count": 8
        }
      ]
    },
    {
      "cell_type": "code",
      "source": [
        "df['Embarked'].unique()\n",
        "df['Embarked'].fillna('S',inplace=True)"
      ],
      "metadata": {
        "id": "wGDVvm657HyW",
        "colab": {
          "base_uri": "https://localhost:8080/"
        },
        "outputId": "af0dfc8f-76c6-4737-c0fe-2e30ce576edc"
      },
      "id": "wGDVvm657HyW",
      "execution_count": null,
      "outputs": [
        {
          "output_type": "stream",
          "name": "stderr",
          "text": [
            "<ipython-input-9-80606671ba11>:2: FutureWarning: A value is trying to be set on a copy of a DataFrame or Series through chained assignment using an inplace method.\n",
            "The behavior will change in pandas 3.0. This inplace method will never work because the intermediate object on which we are setting values always behaves as a copy.\n",
            "\n",
            "For example, when doing 'df[col].method(value, inplace=True)', try using 'df.method({col: value}, inplace=True)' or df[col] = df[col].method(value) instead, to perform the operation inplace on the original object.\n",
            "\n",
            "\n",
            "  df['Embarked'].fillna('S',inplace=True)\n"
          ]
        }
      ]
    },
    {
      "cell_type": "code",
      "source": [
        "df['Age'].mean()"
      ],
      "metadata": {
        "colab": {
          "base_uri": "https://localhost:8080/"
        },
        "id": "I4PiBre944Z7",
        "outputId": "3697a538-dbc3-48a8-b994-a9eb94836373"
      },
      "id": "I4PiBre944Z7",
      "execution_count": null,
      "outputs": [
        {
          "output_type": "execute_result",
          "data": {
            "text/plain": [
              "29.69911764705882"
            ]
          },
          "metadata": {},
          "execution_count": 10
        }
      ]
    },
    {
      "cell_type": "code",
      "source": [
        "df['Age'].fillna(df['Age'].mean(),inplace=True)"
      ],
      "metadata": {
        "colab": {
          "base_uri": "https://localhost:8080/"
        },
        "id": "m7mR74bKP9Ty",
        "outputId": "ed7ecee4-68f3-4141-e61c-c7dfe95d557c"
      },
      "id": "m7mR74bKP9Ty",
      "execution_count": null,
      "outputs": [
        {
          "output_type": "stream",
          "name": "stderr",
          "text": [
            "<ipython-input-11-26113ea9078d>:1: FutureWarning: A value is trying to be set on a copy of a DataFrame or Series through chained assignment using an inplace method.\n",
            "The behavior will change in pandas 3.0. This inplace method will never work because the intermediate object on which we are setting values always behaves as a copy.\n",
            "\n",
            "For example, when doing 'df[col].method(value, inplace=True)', try using 'df.method({col: value}, inplace=True)' or df[col] = df[col].method(value) instead, to perform the operation inplace on the original object.\n",
            "\n",
            "\n",
            "  df['Age'].fillna(df['Age'].mean(),inplace=True)\n"
          ]
        }
      ]
    },
    {
      "cell_type": "code",
      "source": [
        "df['Age']=df['Age'].fillna(df['Age'].mean())"
      ],
      "metadata": {
        "id": "e6ofnLltPzmD"
      },
      "id": "e6ofnLltPzmD",
      "execution_count": null,
      "outputs": []
    },
    {
      "cell_type": "code",
      "source": [
        "df.drop('Name',axis=1,inplace=True)\n",
        "df"
      ],
      "metadata": {
        "colab": {
          "base_uri": "https://localhost:8080/",
          "height": 419
        },
        "id": "fEqle5dFSOq4",
        "outputId": "ee14eb39-fb4d-493d-9732-f4e22b1b7d28"
      },
      "id": "fEqle5dFSOq4",
      "execution_count": null,
      "outputs": [
        {
          "output_type": "execute_result",
          "data": {
            "text/plain": [
              "     PassengerId  Survived  Pclass     Sex        Age  SibSp  Parch  \\\n",
              "0              1         0       3    male  22.000000      1      0   \n",
              "1              2         1       1  female  38.000000      1      0   \n",
              "2              3         1       3  female  26.000000      0      0   \n",
              "3              4         1       1  female  35.000000      1      0   \n",
              "4              5         0       3    male  35.000000      0      0   \n",
              "..           ...       ...     ...     ...        ...    ...    ...   \n",
              "886          887         0       2    male  27.000000      0      0   \n",
              "887          888         1       1  female  19.000000      0      0   \n",
              "888          889         0       3  female  29.699118      1      2   \n",
              "889          890         1       1    male  26.000000      0      0   \n",
              "890          891         0       3    male  32.000000      0      0   \n",
              "\n",
              "               Ticket     Fare Embarked  \n",
              "0           A/5 21171   7.2500        S  \n",
              "1            PC 17599  71.2833        C  \n",
              "2    STON/O2. 3101282   7.9250        S  \n",
              "3              113803  53.1000        S  \n",
              "4              373450   8.0500        S  \n",
              "..                ...      ...      ...  \n",
              "886            211536  13.0000        S  \n",
              "887            112053  30.0000        S  \n",
              "888        W./C. 6607  23.4500        S  \n",
              "889            111369  30.0000        C  \n",
              "890            370376   7.7500        Q  \n",
              "\n",
              "[891 rows x 10 columns]"
            ],
            "text/html": [
              "\n",
              "  <div id=\"df-c51645be-3f57-4a3e-b85b-0e008e32dba2\" class=\"colab-df-container\">\n",
              "    <div>\n",
              "<style scoped>\n",
              "    .dataframe tbody tr th:only-of-type {\n",
              "        vertical-align: middle;\n",
              "    }\n",
              "\n",
              "    .dataframe tbody tr th {\n",
              "        vertical-align: top;\n",
              "    }\n",
              "\n",
              "    .dataframe thead th {\n",
              "        text-align: right;\n",
              "    }\n",
              "</style>\n",
              "<table border=\"1\" class=\"dataframe\">\n",
              "  <thead>\n",
              "    <tr style=\"text-align: right;\">\n",
              "      <th></th>\n",
              "      <th>PassengerId</th>\n",
              "      <th>Survived</th>\n",
              "      <th>Pclass</th>\n",
              "      <th>Sex</th>\n",
              "      <th>Age</th>\n",
              "      <th>SibSp</th>\n",
              "      <th>Parch</th>\n",
              "      <th>Ticket</th>\n",
              "      <th>Fare</th>\n",
              "      <th>Embarked</th>\n",
              "    </tr>\n",
              "  </thead>\n",
              "  <tbody>\n",
              "    <tr>\n",
              "      <th>0</th>\n",
              "      <td>1</td>\n",
              "      <td>0</td>\n",
              "      <td>3</td>\n",
              "      <td>male</td>\n",
              "      <td>22.000000</td>\n",
              "      <td>1</td>\n",
              "      <td>0</td>\n",
              "      <td>A/5 21171</td>\n",
              "      <td>7.2500</td>\n",
              "      <td>S</td>\n",
              "    </tr>\n",
              "    <tr>\n",
              "      <th>1</th>\n",
              "      <td>2</td>\n",
              "      <td>1</td>\n",
              "      <td>1</td>\n",
              "      <td>female</td>\n",
              "      <td>38.000000</td>\n",
              "      <td>1</td>\n",
              "      <td>0</td>\n",
              "      <td>PC 17599</td>\n",
              "      <td>71.2833</td>\n",
              "      <td>C</td>\n",
              "    </tr>\n",
              "    <tr>\n",
              "      <th>2</th>\n",
              "      <td>3</td>\n",
              "      <td>1</td>\n",
              "      <td>3</td>\n",
              "      <td>female</td>\n",
              "      <td>26.000000</td>\n",
              "      <td>0</td>\n",
              "      <td>0</td>\n",
              "      <td>STON/O2. 3101282</td>\n",
              "      <td>7.9250</td>\n",
              "      <td>S</td>\n",
              "    </tr>\n",
              "    <tr>\n",
              "      <th>3</th>\n",
              "      <td>4</td>\n",
              "      <td>1</td>\n",
              "      <td>1</td>\n",
              "      <td>female</td>\n",
              "      <td>35.000000</td>\n",
              "      <td>1</td>\n",
              "      <td>0</td>\n",
              "      <td>113803</td>\n",
              "      <td>53.1000</td>\n",
              "      <td>S</td>\n",
              "    </tr>\n",
              "    <tr>\n",
              "      <th>4</th>\n",
              "      <td>5</td>\n",
              "      <td>0</td>\n",
              "      <td>3</td>\n",
              "      <td>male</td>\n",
              "      <td>35.000000</td>\n",
              "      <td>0</td>\n",
              "      <td>0</td>\n",
              "      <td>373450</td>\n",
              "      <td>8.0500</td>\n",
              "      <td>S</td>\n",
              "    </tr>\n",
              "    <tr>\n",
              "      <th>...</th>\n",
              "      <td>...</td>\n",
              "      <td>...</td>\n",
              "      <td>...</td>\n",
              "      <td>...</td>\n",
              "      <td>...</td>\n",
              "      <td>...</td>\n",
              "      <td>...</td>\n",
              "      <td>...</td>\n",
              "      <td>...</td>\n",
              "      <td>...</td>\n",
              "    </tr>\n",
              "    <tr>\n",
              "      <th>886</th>\n",
              "      <td>887</td>\n",
              "      <td>0</td>\n",
              "      <td>2</td>\n",
              "      <td>male</td>\n",
              "      <td>27.000000</td>\n",
              "      <td>0</td>\n",
              "      <td>0</td>\n",
              "      <td>211536</td>\n",
              "      <td>13.0000</td>\n",
              "      <td>S</td>\n",
              "    </tr>\n",
              "    <tr>\n",
              "      <th>887</th>\n",
              "      <td>888</td>\n",
              "      <td>1</td>\n",
              "      <td>1</td>\n",
              "      <td>female</td>\n",
              "      <td>19.000000</td>\n",
              "      <td>0</td>\n",
              "      <td>0</td>\n",
              "      <td>112053</td>\n",
              "      <td>30.0000</td>\n",
              "      <td>S</td>\n",
              "    </tr>\n",
              "    <tr>\n",
              "      <th>888</th>\n",
              "      <td>889</td>\n",
              "      <td>0</td>\n",
              "      <td>3</td>\n",
              "      <td>female</td>\n",
              "      <td>29.699118</td>\n",
              "      <td>1</td>\n",
              "      <td>2</td>\n",
              "      <td>W./C. 6607</td>\n",
              "      <td>23.4500</td>\n",
              "      <td>S</td>\n",
              "    </tr>\n",
              "    <tr>\n",
              "      <th>889</th>\n",
              "      <td>890</td>\n",
              "      <td>1</td>\n",
              "      <td>1</td>\n",
              "      <td>male</td>\n",
              "      <td>26.000000</td>\n",
              "      <td>0</td>\n",
              "      <td>0</td>\n",
              "      <td>111369</td>\n",
              "      <td>30.0000</td>\n",
              "      <td>C</td>\n",
              "    </tr>\n",
              "    <tr>\n",
              "      <th>890</th>\n",
              "      <td>891</td>\n",
              "      <td>0</td>\n",
              "      <td>3</td>\n",
              "      <td>male</td>\n",
              "      <td>32.000000</td>\n",
              "      <td>0</td>\n",
              "      <td>0</td>\n",
              "      <td>370376</td>\n",
              "      <td>7.7500</td>\n",
              "      <td>Q</td>\n",
              "    </tr>\n",
              "  </tbody>\n",
              "</table>\n",
              "<p>891 rows × 10 columns</p>\n",
              "</div>\n",
              "    <div class=\"colab-df-buttons\">\n",
              "\n",
              "  <div class=\"colab-df-container\">\n",
              "    <button class=\"colab-df-convert\" onclick=\"convertToInteractive('df-c51645be-3f57-4a3e-b85b-0e008e32dba2')\"\n",
              "            title=\"Convert this dataframe to an interactive table.\"\n",
              "            style=\"display:none;\">\n",
              "\n",
              "  <svg xmlns=\"http://www.w3.org/2000/svg\" height=\"24px\" viewBox=\"0 -960 960 960\">\n",
              "    <path d=\"M120-120v-720h720v720H120Zm60-500h600v-160H180v160Zm220 220h160v-160H400v160Zm0 220h160v-160H400v160ZM180-400h160v-160H180v160Zm440 0h160v-160H620v160ZM180-180h160v-160H180v160Zm440 0h160v-160H620v160Z\"/>\n",
              "  </svg>\n",
              "    </button>\n",
              "\n",
              "  <style>\n",
              "    .colab-df-container {\n",
              "      display:flex;\n",
              "      gap: 12px;\n",
              "    }\n",
              "\n",
              "    .colab-df-convert {\n",
              "      background-color: #E8F0FE;\n",
              "      border: none;\n",
              "      border-radius: 50%;\n",
              "      cursor: pointer;\n",
              "      display: none;\n",
              "      fill: #1967D2;\n",
              "      height: 32px;\n",
              "      padding: 0 0 0 0;\n",
              "      width: 32px;\n",
              "    }\n",
              "\n",
              "    .colab-df-convert:hover {\n",
              "      background-color: #E2EBFA;\n",
              "      box-shadow: 0px 1px 2px rgba(60, 64, 67, 0.3), 0px 1px 3px 1px rgba(60, 64, 67, 0.15);\n",
              "      fill: #174EA6;\n",
              "    }\n",
              "\n",
              "    .colab-df-buttons div {\n",
              "      margin-bottom: 4px;\n",
              "    }\n",
              "\n",
              "    [theme=dark] .colab-df-convert {\n",
              "      background-color: #3B4455;\n",
              "      fill: #D2E3FC;\n",
              "    }\n",
              "\n",
              "    [theme=dark] .colab-df-convert:hover {\n",
              "      background-color: #434B5C;\n",
              "      box-shadow: 0px 1px 3px 1px rgba(0, 0, 0, 0.15);\n",
              "      filter: drop-shadow(0px 1px 2px rgba(0, 0, 0, 0.3));\n",
              "      fill: #FFFFFF;\n",
              "    }\n",
              "  </style>\n",
              "\n",
              "    <script>\n",
              "      const buttonEl =\n",
              "        document.querySelector('#df-c51645be-3f57-4a3e-b85b-0e008e32dba2 button.colab-df-convert');\n",
              "      buttonEl.style.display =\n",
              "        google.colab.kernel.accessAllowed ? 'block' : 'none';\n",
              "\n",
              "      async function convertToInteractive(key) {\n",
              "        const element = document.querySelector('#df-c51645be-3f57-4a3e-b85b-0e008e32dba2');\n",
              "        const dataTable =\n",
              "          await google.colab.kernel.invokeFunction('convertToInteractive',\n",
              "                                                    [key], {});\n",
              "        if (!dataTable) return;\n",
              "\n",
              "        const docLinkHtml = 'Like what you see? Visit the ' +\n",
              "          '<a target=\"_blank\" href=https://colab.research.google.com/notebooks/data_table.ipynb>data table notebook</a>'\n",
              "          + ' to learn more about interactive tables.';\n",
              "        element.innerHTML = '';\n",
              "        dataTable['output_type'] = 'display_data';\n",
              "        await google.colab.output.renderOutput(dataTable, element);\n",
              "        const docLink = document.createElement('div');\n",
              "        docLink.innerHTML = docLinkHtml;\n",
              "        element.appendChild(docLink);\n",
              "      }\n",
              "    </script>\n",
              "  </div>\n",
              "\n",
              "\n",
              "<div id=\"df-d11fc05a-72ed-4674-b950-1546aa37362f\">\n",
              "  <button class=\"colab-df-quickchart\" onclick=\"quickchart('df-d11fc05a-72ed-4674-b950-1546aa37362f')\"\n",
              "            title=\"Suggest charts\"\n",
              "            style=\"display:none;\">\n",
              "\n",
              "<svg xmlns=\"http://www.w3.org/2000/svg\" height=\"24px\"viewBox=\"0 0 24 24\"\n",
              "     width=\"24px\">\n",
              "    <g>\n",
              "        <path d=\"M19 3H5c-1.1 0-2 .9-2 2v14c0 1.1.9 2 2 2h14c1.1 0 2-.9 2-2V5c0-1.1-.9-2-2-2zM9 17H7v-7h2v7zm4 0h-2V7h2v10zm4 0h-2v-4h2v4z\"/>\n",
              "    </g>\n",
              "</svg>\n",
              "  </button>\n",
              "\n",
              "<style>\n",
              "  .colab-df-quickchart {\n",
              "      --bg-color: #E8F0FE;\n",
              "      --fill-color: #1967D2;\n",
              "      --hover-bg-color: #E2EBFA;\n",
              "      --hover-fill-color: #174EA6;\n",
              "      --disabled-fill-color: #AAA;\n",
              "      --disabled-bg-color: #DDD;\n",
              "  }\n",
              "\n",
              "  [theme=dark] .colab-df-quickchart {\n",
              "      --bg-color: #3B4455;\n",
              "      --fill-color: #D2E3FC;\n",
              "      --hover-bg-color: #434B5C;\n",
              "      --hover-fill-color: #FFFFFF;\n",
              "      --disabled-bg-color: #3B4455;\n",
              "      --disabled-fill-color: #666;\n",
              "  }\n",
              "\n",
              "  .colab-df-quickchart {\n",
              "    background-color: var(--bg-color);\n",
              "    border: none;\n",
              "    border-radius: 50%;\n",
              "    cursor: pointer;\n",
              "    display: none;\n",
              "    fill: var(--fill-color);\n",
              "    height: 32px;\n",
              "    padding: 0;\n",
              "    width: 32px;\n",
              "  }\n",
              "\n",
              "  .colab-df-quickchart:hover {\n",
              "    background-color: var(--hover-bg-color);\n",
              "    box-shadow: 0 1px 2px rgba(60, 64, 67, 0.3), 0 1px 3px 1px rgba(60, 64, 67, 0.15);\n",
              "    fill: var(--button-hover-fill-color);\n",
              "  }\n",
              "\n",
              "  .colab-df-quickchart-complete:disabled,\n",
              "  .colab-df-quickchart-complete:disabled:hover {\n",
              "    background-color: var(--disabled-bg-color);\n",
              "    fill: var(--disabled-fill-color);\n",
              "    box-shadow: none;\n",
              "  }\n",
              "\n",
              "  .colab-df-spinner {\n",
              "    border: 2px solid var(--fill-color);\n",
              "    border-color: transparent;\n",
              "    border-bottom-color: var(--fill-color);\n",
              "    animation:\n",
              "      spin 1s steps(1) infinite;\n",
              "  }\n",
              "\n",
              "  @keyframes spin {\n",
              "    0% {\n",
              "      border-color: transparent;\n",
              "      border-bottom-color: var(--fill-color);\n",
              "      border-left-color: var(--fill-color);\n",
              "    }\n",
              "    20% {\n",
              "      border-color: transparent;\n",
              "      border-left-color: var(--fill-color);\n",
              "      border-top-color: var(--fill-color);\n",
              "    }\n",
              "    30% {\n",
              "      border-color: transparent;\n",
              "      border-left-color: var(--fill-color);\n",
              "      border-top-color: var(--fill-color);\n",
              "      border-right-color: var(--fill-color);\n",
              "    }\n",
              "    40% {\n",
              "      border-color: transparent;\n",
              "      border-right-color: var(--fill-color);\n",
              "      border-top-color: var(--fill-color);\n",
              "    }\n",
              "    60% {\n",
              "      border-color: transparent;\n",
              "      border-right-color: var(--fill-color);\n",
              "    }\n",
              "    80% {\n",
              "      border-color: transparent;\n",
              "      border-right-color: var(--fill-color);\n",
              "      border-bottom-color: var(--fill-color);\n",
              "    }\n",
              "    90% {\n",
              "      border-color: transparent;\n",
              "      border-bottom-color: var(--fill-color);\n",
              "    }\n",
              "  }\n",
              "</style>\n",
              "\n",
              "  <script>\n",
              "    async function quickchart(key) {\n",
              "      const quickchartButtonEl =\n",
              "        document.querySelector('#' + key + ' button');\n",
              "      quickchartButtonEl.disabled = true;  // To prevent multiple clicks.\n",
              "      quickchartButtonEl.classList.add('colab-df-spinner');\n",
              "      try {\n",
              "        const charts = await google.colab.kernel.invokeFunction(\n",
              "            'suggestCharts', [key], {});\n",
              "      } catch (error) {\n",
              "        console.error('Error during call to suggestCharts:', error);\n",
              "      }\n",
              "      quickchartButtonEl.classList.remove('colab-df-spinner');\n",
              "      quickchartButtonEl.classList.add('colab-df-quickchart-complete');\n",
              "    }\n",
              "    (() => {\n",
              "      let quickchartButtonEl =\n",
              "        document.querySelector('#df-d11fc05a-72ed-4674-b950-1546aa37362f button');\n",
              "      quickchartButtonEl.style.display =\n",
              "        google.colab.kernel.accessAllowed ? 'block' : 'none';\n",
              "    })();\n",
              "  </script>\n",
              "</div>\n",
              "\n",
              "  <div id=\"id_6adf953d-b4dc-4d7e-a253-421b2f449094\">\n",
              "    <style>\n",
              "      .colab-df-generate {\n",
              "        background-color: #E8F0FE;\n",
              "        border: none;\n",
              "        border-radius: 50%;\n",
              "        cursor: pointer;\n",
              "        display: none;\n",
              "        fill: #1967D2;\n",
              "        height: 32px;\n",
              "        padding: 0 0 0 0;\n",
              "        width: 32px;\n",
              "      }\n",
              "\n",
              "      .colab-df-generate:hover {\n",
              "        background-color: #E2EBFA;\n",
              "        box-shadow: 0px 1px 2px rgba(60, 64, 67, 0.3), 0px 1px 3px 1px rgba(60, 64, 67, 0.15);\n",
              "        fill: #174EA6;\n",
              "      }\n",
              "\n",
              "      [theme=dark] .colab-df-generate {\n",
              "        background-color: #3B4455;\n",
              "        fill: #D2E3FC;\n",
              "      }\n",
              "\n",
              "      [theme=dark] .colab-df-generate:hover {\n",
              "        background-color: #434B5C;\n",
              "        box-shadow: 0px 1px 3px 1px rgba(0, 0, 0, 0.15);\n",
              "        filter: drop-shadow(0px 1px 2px rgba(0, 0, 0, 0.3));\n",
              "        fill: #FFFFFF;\n",
              "      }\n",
              "    </style>\n",
              "    <button class=\"colab-df-generate\" onclick=\"generateWithVariable('df')\"\n",
              "            title=\"Generate code using this dataframe.\"\n",
              "            style=\"display:none;\">\n",
              "\n",
              "  <svg xmlns=\"http://www.w3.org/2000/svg\" height=\"24px\"viewBox=\"0 0 24 24\"\n",
              "       width=\"24px\">\n",
              "    <path d=\"M7,19H8.4L18.45,9,17,7.55,7,17.6ZM5,21V16.75L18.45,3.32a2,2,0,0,1,2.83,0l1.4,1.43a1.91,1.91,0,0,1,.58,1.4,1.91,1.91,0,0,1-.58,1.4L9.25,21ZM18.45,9,17,7.55Zm-12,3A5.31,5.31,0,0,0,4.9,8.1,5.31,5.31,0,0,0,1,6.5,5.31,5.31,0,0,0,4.9,4.9,5.31,5.31,0,0,0,6.5,1,5.31,5.31,0,0,0,8.1,4.9,5.31,5.31,0,0,0,12,6.5,5.46,5.46,0,0,0,6.5,12Z\"/>\n",
              "  </svg>\n",
              "    </button>\n",
              "    <script>\n",
              "      (() => {\n",
              "      const buttonEl =\n",
              "        document.querySelector('#id_6adf953d-b4dc-4d7e-a253-421b2f449094 button.colab-df-generate');\n",
              "      buttonEl.style.display =\n",
              "        google.colab.kernel.accessAllowed ? 'block' : 'none';\n",
              "\n",
              "      buttonEl.onclick = () => {\n",
              "        google.colab.notebook.generateWithVariable('df');\n",
              "      }\n",
              "      })();\n",
              "    </script>\n",
              "  </div>\n",
              "\n",
              "    </div>\n",
              "  </div>\n"
            ],
            "application/vnd.google.colaboratory.intrinsic+json": {
              "type": "dataframe",
              "variable_name": "df",
              "summary": "{\n  \"name\": \"df\",\n  \"rows\": 891,\n  \"fields\": [\n    {\n      \"column\": \"PassengerId\",\n      \"properties\": {\n        \"dtype\": \"number\",\n        \"std\": 257,\n        \"min\": 1,\n        \"max\": 891,\n        \"num_unique_values\": 891,\n        \"samples\": [\n          710,\n          440,\n          841\n        ],\n        \"semantic_type\": \"\",\n        \"description\": \"\"\n      }\n    },\n    {\n      \"column\": \"Survived\",\n      \"properties\": {\n        \"dtype\": \"number\",\n        \"std\": 0,\n        \"min\": 0,\n        \"max\": 1,\n        \"num_unique_values\": 2,\n        \"samples\": [\n          1,\n          0\n        ],\n        \"semantic_type\": \"\",\n        \"description\": \"\"\n      }\n    },\n    {\n      \"column\": \"Pclass\",\n      \"properties\": {\n        \"dtype\": \"number\",\n        \"std\": 0,\n        \"min\": 1,\n        \"max\": 3,\n        \"num_unique_values\": 3,\n        \"samples\": [\n          3,\n          1\n        ],\n        \"semantic_type\": \"\",\n        \"description\": \"\"\n      }\n    },\n    {\n      \"column\": \"Sex\",\n      \"properties\": {\n        \"dtype\": \"category\",\n        \"num_unique_values\": 2,\n        \"samples\": [\n          \"female\",\n          \"male\"\n        ],\n        \"semantic_type\": \"\",\n        \"description\": \"\"\n      }\n    },\n    {\n      \"column\": \"Age\",\n      \"properties\": {\n        \"dtype\": \"number\",\n        \"std\": 13.002015226002884,\n        \"min\": 0.42,\n        \"max\": 80.0,\n        \"num_unique_values\": 89,\n        \"samples\": [\n          59.0,\n          36.5\n        ],\n        \"semantic_type\": \"\",\n        \"description\": \"\"\n      }\n    },\n    {\n      \"column\": \"SibSp\",\n      \"properties\": {\n        \"dtype\": \"number\",\n        \"std\": 1,\n        \"min\": 0,\n        \"max\": 8,\n        \"num_unique_values\": 7,\n        \"samples\": [\n          1,\n          0\n        ],\n        \"semantic_type\": \"\",\n        \"description\": \"\"\n      }\n    },\n    {\n      \"column\": \"Parch\",\n      \"properties\": {\n        \"dtype\": \"number\",\n        \"std\": 0,\n        \"min\": 0,\n        \"max\": 6,\n        \"num_unique_values\": 7,\n        \"samples\": [\n          0,\n          1\n        ],\n        \"semantic_type\": \"\",\n        \"description\": \"\"\n      }\n    },\n    {\n      \"column\": \"Ticket\",\n      \"properties\": {\n        \"dtype\": \"string\",\n        \"num_unique_values\": 681,\n        \"samples\": [\n          \"11774\",\n          \"248740\"\n        ],\n        \"semantic_type\": \"\",\n        \"description\": \"\"\n      }\n    },\n    {\n      \"column\": \"Fare\",\n      \"properties\": {\n        \"dtype\": \"number\",\n        \"std\": 49.693428597180905,\n        \"min\": 0.0,\n        \"max\": 512.3292,\n        \"num_unique_values\": 248,\n        \"samples\": [\n          11.2417,\n          51.8625\n        ],\n        \"semantic_type\": \"\",\n        \"description\": \"\"\n      }\n    },\n    {\n      \"column\": \"Embarked\",\n      \"properties\": {\n        \"dtype\": \"category\",\n        \"num_unique_values\": 3,\n        \"samples\": [\n          \"S\",\n          \"C\"\n        ],\n        \"semantic_type\": \"\",\n        \"description\": \"\"\n      }\n    }\n  ]\n}"
            }
          },
          "metadata": {},
          "execution_count": 14
        }
      ]
    },
    {
      "cell_type": "code",
      "source": [
        "df"
      ],
      "metadata": {
        "colab": {
          "base_uri": "https://localhost:8080/",
          "height": 419
        },
        "id": "XLrZvUyW8DDR",
        "outputId": "21e5cf1c-3cbe-483a-ec3c-32f7807c7f55"
      },
      "id": "XLrZvUyW8DDR",
      "execution_count": null,
      "outputs": [
        {
          "output_type": "execute_result",
          "data": {
            "text/plain": [
              "     PassengerId  Survived  Pclass     Sex        Age  SibSp  Parch  \\\n",
              "0              1         0       3    male  22.000000      1      0   \n",
              "1              2         1       1  female  38.000000      1      0   \n",
              "2              3         1       3  female  26.000000      0      0   \n",
              "3              4         1       1  female  35.000000      1      0   \n",
              "4              5         0       3    male  35.000000      0      0   \n",
              "..           ...       ...     ...     ...        ...    ...    ...   \n",
              "886          887         0       2    male  27.000000      0      0   \n",
              "887          888         1       1  female  19.000000      0      0   \n",
              "888          889         0       3  female  29.699118      1      2   \n",
              "889          890         1       1    male  26.000000      0      0   \n",
              "890          891         0       3    male  32.000000      0      0   \n",
              "\n",
              "               Ticket     Fare Embarked  \n",
              "0           A/5 21171   7.2500        S  \n",
              "1            PC 17599  71.2833        C  \n",
              "2    STON/O2. 3101282   7.9250        S  \n",
              "3              113803  53.1000        S  \n",
              "4              373450   8.0500        S  \n",
              "..                ...      ...      ...  \n",
              "886            211536  13.0000        S  \n",
              "887            112053  30.0000        S  \n",
              "888        W./C. 6607  23.4500        S  \n",
              "889            111369  30.0000        C  \n",
              "890            370376   7.7500        Q  \n",
              "\n",
              "[891 rows x 10 columns]"
            ],
            "text/html": [
              "\n",
              "  <div id=\"df-9318bb21-2474-4e7a-ae7d-9b543a49e133\" class=\"colab-df-container\">\n",
              "    <div>\n",
              "<style scoped>\n",
              "    .dataframe tbody tr th:only-of-type {\n",
              "        vertical-align: middle;\n",
              "    }\n",
              "\n",
              "    .dataframe tbody tr th {\n",
              "        vertical-align: top;\n",
              "    }\n",
              "\n",
              "    .dataframe thead th {\n",
              "        text-align: right;\n",
              "    }\n",
              "</style>\n",
              "<table border=\"1\" class=\"dataframe\">\n",
              "  <thead>\n",
              "    <tr style=\"text-align: right;\">\n",
              "      <th></th>\n",
              "      <th>PassengerId</th>\n",
              "      <th>Survived</th>\n",
              "      <th>Pclass</th>\n",
              "      <th>Sex</th>\n",
              "      <th>Age</th>\n",
              "      <th>SibSp</th>\n",
              "      <th>Parch</th>\n",
              "      <th>Ticket</th>\n",
              "      <th>Fare</th>\n",
              "      <th>Embarked</th>\n",
              "    </tr>\n",
              "  </thead>\n",
              "  <tbody>\n",
              "    <tr>\n",
              "      <th>0</th>\n",
              "      <td>1</td>\n",
              "      <td>0</td>\n",
              "      <td>3</td>\n",
              "      <td>male</td>\n",
              "      <td>22.000000</td>\n",
              "      <td>1</td>\n",
              "      <td>0</td>\n",
              "      <td>A/5 21171</td>\n",
              "      <td>7.2500</td>\n",
              "      <td>S</td>\n",
              "    </tr>\n",
              "    <tr>\n",
              "      <th>1</th>\n",
              "      <td>2</td>\n",
              "      <td>1</td>\n",
              "      <td>1</td>\n",
              "      <td>female</td>\n",
              "      <td>38.000000</td>\n",
              "      <td>1</td>\n",
              "      <td>0</td>\n",
              "      <td>PC 17599</td>\n",
              "      <td>71.2833</td>\n",
              "      <td>C</td>\n",
              "    </tr>\n",
              "    <tr>\n",
              "      <th>2</th>\n",
              "      <td>3</td>\n",
              "      <td>1</td>\n",
              "      <td>3</td>\n",
              "      <td>female</td>\n",
              "      <td>26.000000</td>\n",
              "      <td>0</td>\n",
              "      <td>0</td>\n",
              "      <td>STON/O2. 3101282</td>\n",
              "      <td>7.9250</td>\n",
              "      <td>S</td>\n",
              "    </tr>\n",
              "    <tr>\n",
              "      <th>3</th>\n",
              "      <td>4</td>\n",
              "      <td>1</td>\n",
              "      <td>1</td>\n",
              "      <td>female</td>\n",
              "      <td>35.000000</td>\n",
              "      <td>1</td>\n",
              "      <td>0</td>\n",
              "      <td>113803</td>\n",
              "      <td>53.1000</td>\n",
              "      <td>S</td>\n",
              "    </tr>\n",
              "    <tr>\n",
              "      <th>4</th>\n",
              "      <td>5</td>\n",
              "      <td>0</td>\n",
              "      <td>3</td>\n",
              "      <td>male</td>\n",
              "      <td>35.000000</td>\n",
              "      <td>0</td>\n",
              "      <td>0</td>\n",
              "      <td>373450</td>\n",
              "      <td>8.0500</td>\n",
              "      <td>S</td>\n",
              "    </tr>\n",
              "    <tr>\n",
              "      <th>...</th>\n",
              "      <td>...</td>\n",
              "      <td>...</td>\n",
              "      <td>...</td>\n",
              "      <td>...</td>\n",
              "      <td>...</td>\n",
              "      <td>...</td>\n",
              "      <td>...</td>\n",
              "      <td>...</td>\n",
              "      <td>...</td>\n",
              "      <td>...</td>\n",
              "    </tr>\n",
              "    <tr>\n",
              "      <th>886</th>\n",
              "      <td>887</td>\n",
              "      <td>0</td>\n",
              "      <td>2</td>\n",
              "      <td>male</td>\n",
              "      <td>27.000000</td>\n",
              "      <td>0</td>\n",
              "      <td>0</td>\n",
              "      <td>211536</td>\n",
              "      <td>13.0000</td>\n",
              "      <td>S</td>\n",
              "    </tr>\n",
              "    <tr>\n",
              "      <th>887</th>\n",
              "      <td>888</td>\n",
              "      <td>1</td>\n",
              "      <td>1</td>\n",
              "      <td>female</td>\n",
              "      <td>19.000000</td>\n",
              "      <td>0</td>\n",
              "      <td>0</td>\n",
              "      <td>112053</td>\n",
              "      <td>30.0000</td>\n",
              "      <td>S</td>\n",
              "    </tr>\n",
              "    <tr>\n",
              "      <th>888</th>\n",
              "      <td>889</td>\n",
              "      <td>0</td>\n",
              "      <td>3</td>\n",
              "      <td>female</td>\n",
              "      <td>29.699118</td>\n",
              "      <td>1</td>\n",
              "      <td>2</td>\n",
              "      <td>W./C. 6607</td>\n",
              "      <td>23.4500</td>\n",
              "      <td>S</td>\n",
              "    </tr>\n",
              "    <tr>\n",
              "      <th>889</th>\n",
              "      <td>890</td>\n",
              "      <td>1</td>\n",
              "      <td>1</td>\n",
              "      <td>male</td>\n",
              "      <td>26.000000</td>\n",
              "      <td>0</td>\n",
              "      <td>0</td>\n",
              "      <td>111369</td>\n",
              "      <td>30.0000</td>\n",
              "      <td>C</td>\n",
              "    </tr>\n",
              "    <tr>\n",
              "      <th>890</th>\n",
              "      <td>891</td>\n",
              "      <td>0</td>\n",
              "      <td>3</td>\n",
              "      <td>male</td>\n",
              "      <td>32.000000</td>\n",
              "      <td>0</td>\n",
              "      <td>0</td>\n",
              "      <td>370376</td>\n",
              "      <td>7.7500</td>\n",
              "      <td>Q</td>\n",
              "    </tr>\n",
              "  </tbody>\n",
              "</table>\n",
              "<p>891 rows × 10 columns</p>\n",
              "</div>\n",
              "    <div class=\"colab-df-buttons\">\n",
              "\n",
              "  <div class=\"colab-df-container\">\n",
              "    <button class=\"colab-df-convert\" onclick=\"convertToInteractive('df-9318bb21-2474-4e7a-ae7d-9b543a49e133')\"\n",
              "            title=\"Convert this dataframe to an interactive table.\"\n",
              "            style=\"display:none;\">\n",
              "\n",
              "  <svg xmlns=\"http://www.w3.org/2000/svg\" height=\"24px\" viewBox=\"0 -960 960 960\">\n",
              "    <path d=\"M120-120v-720h720v720H120Zm60-500h600v-160H180v160Zm220 220h160v-160H400v160Zm0 220h160v-160H400v160ZM180-400h160v-160H180v160Zm440 0h160v-160H620v160ZM180-180h160v-160H180v160Zm440 0h160v-160H620v160Z\"/>\n",
              "  </svg>\n",
              "    </button>\n",
              "\n",
              "  <style>\n",
              "    .colab-df-container {\n",
              "      display:flex;\n",
              "      gap: 12px;\n",
              "    }\n",
              "\n",
              "    .colab-df-convert {\n",
              "      background-color: #E8F0FE;\n",
              "      border: none;\n",
              "      border-radius: 50%;\n",
              "      cursor: pointer;\n",
              "      display: none;\n",
              "      fill: #1967D2;\n",
              "      height: 32px;\n",
              "      padding: 0 0 0 0;\n",
              "      width: 32px;\n",
              "    }\n",
              "\n",
              "    .colab-df-convert:hover {\n",
              "      background-color: #E2EBFA;\n",
              "      box-shadow: 0px 1px 2px rgba(60, 64, 67, 0.3), 0px 1px 3px 1px rgba(60, 64, 67, 0.15);\n",
              "      fill: #174EA6;\n",
              "    }\n",
              "\n",
              "    .colab-df-buttons div {\n",
              "      margin-bottom: 4px;\n",
              "    }\n",
              "\n",
              "    [theme=dark] .colab-df-convert {\n",
              "      background-color: #3B4455;\n",
              "      fill: #D2E3FC;\n",
              "    }\n",
              "\n",
              "    [theme=dark] .colab-df-convert:hover {\n",
              "      background-color: #434B5C;\n",
              "      box-shadow: 0px 1px 3px 1px rgba(0, 0, 0, 0.15);\n",
              "      filter: drop-shadow(0px 1px 2px rgba(0, 0, 0, 0.3));\n",
              "      fill: #FFFFFF;\n",
              "    }\n",
              "  </style>\n",
              "\n",
              "    <script>\n",
              "      const buttonEl =\n",
              "        document.querySelector('#df-9318bb21-2474-4e7a-ae7d-9b543a49e133 button.colab-df-convert');\n",
              "      buttonEl.style.display =\n",
              "        google.colab.kernel.accessAllowed ? 'block' : 'none';\n",
              "\n",
              "      async function convertToInteractive(key) {\n",
              "        const element = document.querySelector('#df-9318bb21-2474-4e7a-ae7d-9b543a49e133');\n",
              "        const dataTable =\n",
              "          await google.colab.kernel.invokeFunction('convertToInteractive',\n",
              "                                                    [key], {});\n",
              "        if (!dataTable) return;\n",
              "\n",
              "        const docLinkHtml = 'Like what you see? Visit the ' +\n",
              "          '<a target=\"_blank\" href=https://colab.research.google.com/notebooks/data_table.ipynb>data table notebook</a>'\n",
              "          + ' to learn more about interactive tables.';\n",
              "        element.innerHTML = '';\n",
              "        dataTable['output_type'] = 'display_data';\n",
              "        await google.colab.output.renderOutput(dataTable, element);\n",
              "        const docLink = document.createElement('div');\n",
              "        docLink.innerHTML = docLinkHtml;\n",
              "        element.appendChild(docLink);\n",
              "      }\n",
              "    </script>\n",
              "  </div>\n",
              "\n",
              "\n",
              "<div id=\"df-6aa8fe91-d053-4914-ad45-5ebd9cd95516\">\n",
              "  <button class=\"colab-df-quickchart\" onclick=\"quickchart('df-6aa8fe91-d053-4914-ad45-5ebd9cd95516')\"\n",
              "            title=\"Suggest charts\"\n",
              "            style=\"display:none;\">\n",
              "\n",
              "<svg xmlns=\"http://www.w3.org/2000/svg\" height=\"24px\"viewBox=\"0 0 24 24\"\n",
              "     width=\"24px\">\n",
              "    <g>\n",
              "        <path d=\"M19 3H5c-1.1 0-2 .9-2 2v14c0 1.1.9 2 2 2h14c1.1 0 2-.9 2-2V5c0-1.1-.9-2-2-2zM9 17H7v-7h2v7zm4 0h-2V7h2v10zm4 0h-2v-4h2v4z\"/>\n",
              "    </g>\n",
              "</svg>\n",
              "  </button>\n",
              "\n",
              "<style>\n",
              "  .colab-df-quickchart {\n",
              "      --bg-color: #E8F0FE;\n",
              "      --fill-color: #1967D2;\n",
              "      --hover-bg-color: #E2EBFA;\n",
              "      --hover-fill-color: #174EA6;\n",
              "      --disabled-fill-color: #AAA;\n",
              "      --disabled-bg-color: #DDD;\n",
              "  }\n",
              "\n",
              "  [theme=dark] .colab-df-quickchart {\n",
              "      --bg-color: #3B4455;\n",
              "      --fill-color: #D2E3FC;\n",
              "      --hover-bg-color: #434B5C;\n",
              "      --hover-fill-color: #FFFFFF;\n",
              "      --disabled-bg-color: #3B4455;\n",
              "      --disabled-fill-color: #666;\n",
              "  }\n",
              "\n",
              "  .colab-df-quickchart {\n",
              "    background-color: var(--bg-color);\n",
              "    border: none;\n",
              "    border-radius: 50%;\n",
              "    cursor: pointer;\n",
              "    display: none;\n",
              "    fill: var(--fill-color);\n",
              "    height: 32px;\n",
              "    padding: 0;\n",
              "    width: 32px;\n",
              "  }\n",
              "\n",
              "  .colab-df-quickchart:hover {\n",
              "    background-color: var(--hover-bg-color);\n",
              "    box-shadow: 0 1px 2px rgba(60, 64, 67, 0.3), 0 1px 3px 1px rgba(60, 64, 67, 0.15);\n",
              "    fill: var(--button-hover-fill-color);\n",
              "  }\n",
              "\n",
              "  .colab-df-quickchart-complete:disabled,\n",
              "  .colab-df-quickchart-complete:disabled:hover {\n",
              "    background-color: var(--disabled-bg-color);\n",
              "    fill: var(--disabled-fill-color);\n",
              "    box-shadow: none;\n",
              "  }\n",
              "\n",
              "  .colab-df-spinner {\n",
              "    border: 2px solid var(--fill-color);\n",
              "    border-color: transparent;\n",
              "    border-bottom-color: var(--fill-color);\n",
              "    animation:\n",
              "      spin 1s steps(1) infinite;\n",
              "  }\n",
              "\n",
              "  @keyframes spin {\n",
              "    0% {\n",
              "      border-color: transparent;\n",
              "      border-bottom-color: var(--fill-color);\n",
              "      border-left-color: var(--fill-color);\n",
              "    }\n",
              "    20% {\n",
              "      border-color: transparent;\n",
              "      border-left-color: var(--fill-color);\n",
              "      border-top-color: var(--fill-color);\n",
              "    }\n",
              "    30% {\n",
              "      border-color: transparent;\n",
              "      border-left-color: var(--fill-color);\n",
              "      border-top-color: var(--fill-color);\n",
              "      border-right-color: var(--fill-color);\n",
              "    }\n",
              "    40% {\n",
              "      border-color: transparent;\n",
              "      border-right-color: var(--fill-color);\n",
              "      border-top-color: var(--fill-color);\n",
              "    }\n",
              "    60% {\n",
              "      border-color: transparent;\n",
              "      border-right-color: var(--fill-color);\n",
              "    }\n",
              "    80% {\n",
              "      border-color: transparent;\n",
              "      border-right-color: var(--fill-color);\n",
              "      border-bottom-color: var(--fill-color);\n",
              "    }\n",
              "    90% {\n",
              "      border-color: transparent;\n",
              "      border-bottom-color: var(--fill-color);\n",
              "    }\n",
              "  }\n",
              "</style>\n",
              "\n",
              "  <script>\n",
              "    async function quickchart(key) {\n",
              "      const quickchartButtonEl =\n",
              "        document.querySelector('#' + key + ' button');\n",
              "      quickchartButtonEl.disabled = true;  // To prevent multiple clicks.\n",
              "      quickchartButtonEl.classList.add('colab-df-spinner');\n",
              "      try {\n",
              "        const charts = await google.colab.kernel.invokeFunction(\n",
              "            'suggestCharts', [key], {});\n",
              "      } catch (error) {\n",
              "        console.error('Error during call to suggestCharts:', error);\n",
              "      }\n",
              "      quickchartButtonEl.classList.remove('colab-df-spinner');\n",
              "      quickchartButtonEl.classList.add('colab-df-quickchart-complete');\n",
              "    }\n",
              "    (() => {\n",
              "      let quickchartButtonEl =\n",
              "        document.querySelector('#df-6aa8fe91-d053-4914-ad45-5ebd9cd95516 button');\n",
              "      quickchartButtonEl.style.display =\n",
              "        google.colab.kernel.accessAllowed ? 'block' : 'none';\n",
              "    })();\n",
              "  </script>\n",
              "</div>\n",
              "\n",
              "  <div id=\"id_bc7dcf8c-6474-4022-ba40-71c096fefd33\">\n",
              "    <style>\n",
              "      .colab-df-generate {\n",
              "        background-color: #E8F0FE;\n",
              "        border: none;\n",
              "        border-radius: 50%;\n",
              "        cursor: pointer;\n",
              "        display: none;\n",
              "        fill: #1967D2;\n",
              "        height: 32px;\n",
              "        padding: 0 0 0 0;\n",
              "        width: 32px;\n",
              "      }\n",
              "\n",
              "      .colab-df-generate:hover {\n",
              "        background-color: #E2EBFA;\n",
              "        box-shadow: 0px 1px 2px rgba(60, 64, 67, 0.3), 0px 1px 3px 1px rgba(60, 64, 67, 0.15);\n",
              "        fill: #174EA6;\n",
              "      }\n",
              "\n",
              "      [theme=dark] .colab-df-generate {\n",
              "        background-color: #3B4455;\n",
              "        fill: #D2E3FC;\n",
              "      }\n",
              "\n",
              "      [theme=dark] .colab-df-generate:hover {\n",
              "        background-color: #434B5C;\n",
              "        box-shadow: 0px 1px 3px 1px rgba(0, 0, 0, 0.15);\n",
              "        filter: drop-shadow(0px 1px 2px rgba(0, 0, 0, 0.3));\n",
              "        fill: #FFFFFF;\n",
              "      }\n",
              "    </style>\n",
              "    <button class=\"colab-df-generate\" onclick=\"generateWithVariable('df')\"\n",
              "            title=\"Generate code using this dataframe.\"\n",
              "            style=\"display:none;\">\n",
              "\n",
              "  <svg xmlns=\"http://www.w3.org/2000/svg\" height=\"24px\"viewBox=\"0 0 24 24\"\n",
              "       width=\"24px\">\n",
              "    <path d=\"M7,19H8.4L18.45,9,17,7.55,7,17.6ZM5,21V16.75L18.45,3.32a2,2,0,0,1,2.83,0l1.4,1.43a1.91,1.91,0,0,1,.58,1.4,1.91,1.91,0,0,1-.58,1.4L9.25,21ZM18.45,9,17,7.55Zm-12,3A5.31,5.31,0,0,0,4.9,8.1,5.31,5.31,0,0,0,1,6.5,5.31,5.31,0,0,0,4.9,4.9,5.31,5.31,0,0,0,6.5,1,5.31,5.31,0,0,0,8.1,4.9,5.31,5.31,0,0,0,12,6.5,5.46,5.46,0,0,0,6.5,12Z\"/>\n",
              "  </svg>\n",
              "    </button>\n",
              "    <script>\n",
              "      (() => {\n",
              "      const buttonEl =\n",
              "        document.querySelector('#id_bc7dcf8c-6474-4022-ba40-71c096fefd33 button.colab-df-generate');\n",
              "      buttonEl.style.display =\n",
              "        google.colab.kernel.accessAllowed ? 'block' : 'none';\n",
              "\n",
              "      buttonEl.onclick = () => {\n",
              "        google.colab.notebook.generateWithVariable('df');\n",
              "      }\n",
              "      })();\n",
              "    </script>\n",
              "  </div>\n",
              "\n",
              "    </div>\n",
              "  </div>\n"
            ],
            "application/vnd.google.colaboratory.intrinsic+json": {
              "type": "dataframe",
              "variable_name": "df",
              "summary": "{\n  \"name\": \"df\",\n  \"rows\": 891,\n  \"fields\": [\n    {\n      \"column\": \"PassengerId\",\n      \"properties\": {\n        \"dtype\": \"number\",\n        \"std\": 257,\n        \"min\": 1,\n        \"max\": 891,\n        \"num_unique_values\": 891,\n        \"samples\": [\n          710,\n          440,\n          841\n        ],\n        \"semantic_type\": \"\",\n        \"description\": \"\"\n      }\n    },\n    {\n      \"column\": \"Survived\",\n      \"properties\": {\n        \"dtype\": \"number\",\n        \"std\": 0,\n        \"min\": 0,\n        \"max\": 1,\n        \"num_unique_values\": 2,\n        \"samples\": [\n          1,\n          0\n        ],\n        \"semantic_type\": \"\",\n        \"description\": \"\"\n      }\n    },\n    {\n      \"column\": \"Pclass\",\n      \"properties\": {\n        \"dtype\": \"number\",\n        \"std\": 0,\n        \"min\": 1,\n        \"max\": 3,\n        \"num_unique_values\": 3,\n        \"samples\": [\n          3,\n          1\n        ],\n        \"semantic_type\": \"\",\n        \"description\": \"\"\n      }\n    },\n    {\n      \"column\": \"Sex\",\n      \"properties\": {\n        \"dtype\": \"category\",\n        \"num_unique_values\": 2,\n        \"samples\": [\n          \"female\",\n          \"male\"\n        ],\n        \"semantic_type\": \"\",\n        \"description\": \"\"\n      }\n    },\n    {\n      \"column\": \"Age\",\n      \"properties\": {\n        \"dtype\": \"number\",\n        \"std\": 13.002015226002884,\n        \"min\": 0.42,\n        \"max\": 80.0,\n        \"num_unique_values\": 89,\n        \"samples\": [\n          59.0,\n          36.5\n        ],\n        \"semantic_type\": \"\",\n        \"description\": \"\"\n      }\n    },\n    {\n      \"column\": \"SibSp\",\n      \"properties\": {\n        \"dtype\": \"number\",\n        \"std\": 1,\n        \"min\": 0,\n        \"max\": 8,\n        \"num_unique_values\": 7,\n        \"samples\": [\n          1,\n          0\n        ],\n        \"semantic_type\": \"\",\n        \"description\": \"\"\n      }\n    },\n    {\n      \"column\": \"Parch\",\n      \"properties\": {\n        \"dtype\": \"number\",\n        \"std\": 0,\n        \"min\": 0,\n        \"max\": 6,\n        \"num_unique_values\": 7,\n        \"samples\": [\n          0,\n          1\n        ],\n        \"semantic_type\": \"\",\n        \"description\": \"\"\n      }\n    },\n    {\n      \"column\": \"Ticket\",\n      \"properties\": {\n        \"dtype\": \"string\",\n        \"num_unique_values\": 681,\n        \"samples\": [\n          \"11774\",\n          \"248740\"\n        ],\n        \"semantic_type\": \"\",\n        \"description\": \"\"\n      }\n    },\n    {\n      \"column\": \"Fare\",\n      \"properties\": {\n        \"dtype\": \"number\",\n        \"std\": 49.693428597180905,\n        \"min\": 0.0,\n        \"max\": 512.3292,\n        \"num_unique_values\": 248,\n        \"samples\": [\n          11.2417,\n          51.8625\n        ],\n        \"semantic_type\": \"\",\n        \"description\": \"\"\n      }\n    },\n    {\n      \"column\": \"Embarked\",\n      \"properties\": {\n        \"dtype\": \"category\",\n        \"num_unique_values\": 3,\n        \"samples\": [\n          \"S\",\n          \"C\"\n        ],\n        \"semantic_type\": \"\",\n        \"description\": \"\"\n      }\n    }\n  ]\n}"
            }
          },
          "metadata": {},
          "execution_count": 15
        }
      ]
    },
    {
      "cell_type": "code",
      "source": [
        "df.drop(['PassengerId','Ticket'],axis=1,inplace=True)\n",
        "df"
      ],
      "metadata": {
        "colab": {
          "base_uri": "https://localhost:8080/",
          "height": 419
        },
        "id": "Lv1AfQQEXL_c",
        "outputId": "1135bf09-7ca0-439d-8f4b-7fd013920ec8"
      },
      "id": "Lv1AfQQEXL_c",
      "execution_count": null,
      "outputs": [
        {
          "output_type": "execute_result",
          "data": {
            "text/plain": [
              "     Survived  Pclass     Sex        Age  SibSp  Parch     Fare Embarked\n",
              "0           0       3    male  22.000000      1      0   7.2500        S\n",
              "1           1       1  female  38.000000      1      0  71.2833        C\n",
              "2           1       3  female  26.000000      0      0   7.9250        S\n",
              "3           1       1  female  35.000000      1      0  53.1000        S\n",
              "4           0       3    male  35.000000      0      0   8.0500        S\n",
              "..        ...     ...     ...        ...    ...    ...      ...      ...\n",
              "886         0       2    male  27.000000      0      0  13.0000        S\n",
              "887         1       1  female  19.000000      0      0  30.0000        S\n",
              "888         0       3  female  29.699118      1      2  23.4500        S\n",
              "889         1       1    male  26.000000      0      0  30.0000        C\n",
              "890         0       3    male  32.000000      0      0   7.7500        Q\n",
              "\n",
              "[891 rows x 8 columns]"
            ],
            "text/html": [
              "\n",
              "  <div id=\"df-c2ef79d6-38fe-46d6-8b6f-f93538dbbf96\" class=\"colab-df-container\">\n",
              "    <div>\n",
              "<style scoped>\n",
              "    .dataframe tbody tr th:only-of-type {\n",
              "        vertical-align: middle;\n",
              "    }\n",
              "\n",
              "    .dataframe tbody tr th {\n",
              "        vertical-align: top;\n",
              "    }\n",
              "\n",
              "    .dataframe thead th {\n",
              "        text-align: right;\n",
              "    }\n",
              "</style>\n",
              "<table border=\"1\" class=\"dataframe\">\n",
              "  <thead>\n",
              "    <tr style=\"text-align: right;\">\n",
              "      <th></th>\n",
              "      <th>Survived</th>\n",
              "      <th>Pclass</th>\n",
              "      <th>Sex</th>\n",
              "      <th>Age</th>\n",
              "      <th>SibSp</th>\n",
              "      <th>Parch</th>\n",
              "      <th>Fare</th>\n",
              "      <th>Embarked</th>\n",
              "    </tr>\n",
              "  </thead>\n",
              "  <tbody>\n",
              "    <tr>\n",
              "      <th>0</th>\n",
              "      <td>0</td>\n",
              "      <td>3</td>\n",
              "      <td>male</td>\n",
              "      <td>22.000000</td>\n",
              "      <td>1</td>\n",
              "      <td>0</td>\n",
              "      <td>7.2500</td>\n",
              "      <td>S</td>\n",
              "    </tr>\n",
              "    <tr>\n",
              "      <th>1</th>\n",
              "      <td>1</td>\n",
              "      <td>1</td>\n",
              "      <td>female</td>\n",
              "      <td>38.000000</td>\n",
              "      <td>1</td>\n",
              "      <td>0</td>\n",
              "      <td>71.2833</td>\n",
              "      <td>C</td>\n",
              "    </tr>\n",
              "    <tr>\n",
              "      <th>2</th>\n",
              "      <td>1</td>\n",
              "      <td>3</td>\n",
              "      <td>female</td>\n",
              "      <td>26.000000</td>\n",
              "      <td>0</td>\n",
              "      <td>0</td>\n",
              "      <td>7.9250</td>\n",
              "      <td>S</td>\n",
              "    </tr>\n",
              "    <tr>\n",
              "      <th>3</th>\n",
              "      <td>1</td>\n",
              "      <td>1</td>\n",
              "      <td>female</td>\n",
              "      <td>35.000000</td>\n",
              "      <td>1</td>\n",
              "      <td>0</td>\n",
              "      <td>53.1000</td>\n",
              "      <td>S</td>\n",
              "    </tr>\n",
              "    <tr>\n",
              "      <th>4</th>\n",
              "      <td>0</td>\n",
              "      <td>3</td>\n",
              "      <td>male</td>\n",
              "      <td>35.000000</td>\n",
              "      <td>0</td>\n",
              "      <td>0</td>\n",
              "      <td>8.0500</td>\n",
              "      <td>S</td>\n",
              "    </tr>\n",
              "    <tr>\n",
              "      <th>...</th>\n",
              "      <td>...</td>\n",
              "      <td>...</td>\n",
              "      <td>...</td>\n",
              "      <td>...</td>\n",
              "      <td>...</td>\n",
              "      <td>...</td>\n",
              "      <td>...</td>\n",
              "      <td>...</td>\n",
              "    </tr>\n",
              "    <tr>\n",
              "      <th>886</th>\n",
              "      <td>0</td>\n",
              "      <td>2</td>\n",
              "      <td>male</td>\n",
              "      <td>27.000000</td>\n",
              "      <td>0</td>\n",
              "      <td>0</td>\n",
              "      <td>13.0000</td>\n",
              "      <td>S</td>\n",
              "    </tr>\n",
              "    <tr>\n",
              "      <th>887</th>\n",
              "      <td>1</td>\n",
              "      <td>1</td>\n",
              "      <td>female</td>\n",
              "      <td>19.000000</td>\n",
              "      <td>0</td>\n",
              "      <td>0</td>\n",
              "      <td>30.0000</td>\n",
              "      <td>S</td>\n",
              "    </tr>\n",
              "    <tr>\n",
              "      <th>888</th>\n",
              "      <td>0</td>\n",
              "      <td>3</td>\n",
              "      <td>female</td>\n",
              "      <td>29.699118</td>\n",
              "      <td>1</td>\n",
              "      <td>2</td>\n",
              "      <td>23.4500</td>\n",
              "      <td>S</td>\n",
              "    </tr>\n",
              "    <tr>\n",
              "      <th>889</th>\n",
              "      <td>1</td>\n",
              "      <td>1</td>\n",
              "      <td>male</td>\n",
              "      <td>26.000000</td>\n",
              "      <td>0</td>\n",
              "      <td>0</td>\n",
              "      <td>30.0000</td>\n",
              "      <td>C</td>\n",
              "    </tr>\n",
              "    <tr>\n",
              "      <th>890</th>\n",
              "      <td>0</td>\n",
              "      <td>3</td>\n",
              "      <td>male</td>\n",
              "      <td>32.000000</td>\n",
              "      <td>0</td>\n",
              "      <td>0</td>\n",
              "      <td>7.7500</td>\n",
              "      <td>Q</td>\n",
              "    </tr>\n",
              "  </tbody>\n",
              "</table>\n",
              "<p>891 rows × 8 columns</p>\n",
              "</div>\n",
              "    <div class=\"colab-df-buttons\">\n",
              "\n",
              "  <div class=\"colab-df-container\">\n",
              "    <button class=\"colab-df-convert\" onclick=\"convertToInteractive('df-c2ef79d6-38fe-46d6-8b6f-f93538dbbf96')\"\n",
              "            title=\"Convert this dataframe to an interactive table.\"\n",
              "            style=\"display:none;\">\n",
              "\n",
              "  <svg xmlns=\"http://www.w3.org/2000/svg\" height=\"24px\" viewBox=\"0 -960 960 960\">\n",
              "    <path d=\"M120-120v-720h720v720H120Zm60-500h600v-160H180v160Zm220 220h160v-160H400v160Zm0 220h160v-160H400v160ZM180-400h160v-160H180v160Zm440 0h160v-160H620v160ZM180-180h160v-160H180v160Zm440 0h160v-160H620v160Z\"/>\n",
              "  </svg>\n",
              "    </button>\n",
              "\n",
              "  <style>\n",
              "    .colab-df-container {\n",
              "      display:flex;\n",
              "      gap: 12px;\n",
              "    }\n",
              "\n",
              "    .colab-df-convert {\n",
              "      background-color: #E8F0FE;\n",
              "      border: none;\n",
              "      border-radius: 50%;\n",
              "      cursor: pointer;\n",
              "      display: none;\n",
              "      fill: #1967D2;\n",
              "      height: 32px;\n",
              "      padding: 0 0 0 0;\n",
              "      width: 32px;\n",
              "    }\n",
              "\n",
              "    .colab-df-convert:hover {\n",
              "      background-color: #E2EBFA;\n",
              "      box-shadow: 0px 1px 2px rgba(60, 64, 67, 0.3), 0px 1px 3px 1px rgba(60, 64, 67, 0.15);\n",
              "      fill: #174EA6;\n",
              "    }\n",
              "\n",
              "    .colab-df-buttons div {\n",
              "      margin-bottom: 4px;\n",
              "    }\n",
              "\n",
              "    [theme=dark] .colab-df-convert {\n",
              "      background-color: #3B4455;\n",
              "      fill: #D2E3FC;\n",
              "    }\n",
              "\n",
              "    [theme=dark] .colab-df-convert:hover {\n",
              "      background-color: #434B5C;\n",
              "      box-shadow: 0px 1px 3px 1px rgba(0, 0, 0, 0.15);\n",
              "      filter: drop-shadow(0px 1px 2px rgba(0, 0, 0, 0.3));\n",
              "      fill: #FFFFFF;\n",
              "    }\n",
              "  </style>\n",
              "\n",
              "    <script>\n",
              "      const buttonEl =\n",
              "        document.querySelector('#df-c2ef79d6-38fe-46d6-8b6f-f93538dbbf96 button.colab-df-convert');\n",
              "      buttonEl.style.display =\n",
              "        google.colab.kernel.accessAllowed ? 'block' : 'none';\n",
              "\n",
              "      async function convertToInteractive(key) {\n",
              "        const element = document.querySelector('#df-c2ef79d6-38fe-46d6-8b6f-f93538dbbf96');\n",
              "        const dataTable =\n",
              "          await google.colab.kernel.invokeFunction('convertToInteractive',\n",
              "                                                    [key], {});\n",
              "        if (!dataTable) return;\n",
              "\n",
              "        const docLinkHtml = 'Like what you see? Visit the ' +\n",
              "          '<a target=\"_blank\" href=https://colab.research.google.com/notebooks/data_table.ipynb>data table notebook</a>'\n",
              "          + ' to learn more about interactive tables.';\n",
              "        element.innerHTML = '';\n",
              "        dataTable['output_type'] = 'display_data';\n",
              "        await google.colab.output.renderOutput(dataTable, element);\n",
              "        const docLink = document.createElement('div');\n",
              "        docLink.innerHTML = docLinkHtml;\n",
              "        element.appendChild(docLink);\n",
              "      }\n",
              "    </script>\n",
              "  </div>\n",
              "\n",
              "\n",
              "<div id=\"df-356ab97e-581d-4e64-9f82-1e2bbfde5132\">\n",
              "  <button class=\"colab-df-quickchart\" onclick=\"quickchart('df-356ab97e-581d-4e64-9f82-1e2bbfde5132')\"\n",
              "            title=\"Suggest charts\"\n",
              "            style=\"display:none;\">\n",
              "\n",
              "<svg xmlns=\"http://www.w3.org/2000/svg\" height=\"24px\"viewBox=\"0 0 24 24\"\n",
              "     width=\"24px\">\n",
              "    <g>\n",
              "        <path d=\"M19 3H5c-1.1 0-2 .9-2 2v14c0 1.1.9 2 2 2h14c1.1 0 2-.9 2-2V5c0-1.1-.9-2-2-2zM9 17H7v-7h2v7zm4 0h-2V7h2v10zm4 0h-2v-4h2v4z\"/>\n",
              "    </g>\n",
              "</svg>\n",
              "  </button>\n",
              "\n",
              "<style>\n",
              "  .colab-df-quickchart {\n",
              "      --bg-color: #E8F0FE;\n",
              "      --fill-color: #1967D2;\n",
              "      --hover-bg-color: #E2EBFA;\n",
              "      --hover-fill-color: #174EA6;\n",
              "      --disabled-fill-color: #AAA;\n",
              "      --disabled-bg-color: #DDD;\n",
              "  }\n",
              "\n",
              "  [theme=dark] .colab-df-quickchart {\n",
              "      --bg-color: #3B4455;\n",
              "      --fill-color: #D2E3FC;\n",
              "      --hover-bg-color: #434B5C;\n",
              "      --hover-fill-color: #FFFFFF;\n",
              "      --disabled-bg-color: #3B4455;\n",
              "      --disabled-fill-color: #666;\n",
              "  }\n",
              "\n",
              "  .colab-df-quickchart {\n",
              "    background-color: var(--bg-color);\n",
              "    border: none;\n",
              "    border-radius: 50%;\n",
              "    cursor: pointer;\n",
              "    display: none;\n",
              "    fill: var(--fill-color);\n",
              "    height: 32px;\n",
              "    padding: 0;\n",
              "    width: 32px;\n",
              "  }\n",
              "\n",
              "  .colab-df-quickchart:hover {\n",
              "    background-color: var(--hover-bg-color);\n",
              "    box-shadow: 0 1px 2px rgba(60, 64, 67, 0.3), 0 1px 3px 1px rgba(60, 64, 67, 0.15);\n",
              "    fill: var(--button-hover-fill-color);\n",
              "  }\n",
              "\n",
              "  .colab-df-quickchart-complete:disabled,\n",
              "  .colab-df-quickchart-complete:disabled:hover {\n",
              "    background-color: var(--disabled-bg-color);\n",
              "    fill: var(--disabled-fill-color);\n",
              "    box-shadow: none;\n",
              "  }\n",
              "\n",
              "  .colab-df-spinner {\n",
              "    border: 2px solid var(--fill-color);\n",
              "    border-color: transparent;\n",
              "    border-bottom-color: var(--fill-color);\n",
              "    animation:\n",
              "      spin 1s steps(1) infinite;\n",
              "  }\n",
              "\n",
              "  @keyframes spin {\n",
              "    0% {\n",
              "      border-color: transparent;\n",
              "      border-bottom-color: var(--fill-color);\n",
              "      border-left-color: var(--fill-color);\n",
              "    }\n",
              "    20% {\n",
              "      border-color: transparent;\n",
              "      border-left-color: var(--fill-color);\n",
              "      border-top-color: var(--fill-color);\n",
              "    }\n",
              "    30% {\n",
              "      border-color: transparent;\n",
              "      border-left-color: var(--fill-color);\n",
              "      border-top-color: var(--fill-color);\n",
              "      border-right-color: var(--fill-color);\n",
              "    }\n",
              "    40% {\n",
              "      border-color: transparent;\n",
              "      border-right-color: var(--fill-color);\n",
              "      border-top-color: var(--fill-color);\n",
              "    }\n",
              "    60% {\n",
              "      border-color: transparent;\n",
              "      border-right-color: var(--fill-color);\n",
              "    }\n",
              "    80% {\n",
              "      border-color: transparent;\n",
              "      border-right-color: var(--fill-color);\n",
              "      border-bottom-color: var(--fill-color);\n",
              "    }\n",
              "    90% {\n",
              "      border-color: transparent;\n",
              "      border-bottom-color: var(--fill-color);\n",
              "    }\n",
              "  }\n",
              "</style>\n",
              "\n",
              "  <script>\n",
              "    async function quickchart(key) {\n",
              "      const quickchartButtonEl =\n",
              "        document.querySelector('#' + key + ' button');\n",
              "      quickchartButtonEl.disabled = true;  // To prevent multiple clicks.\n",
              "      quickchartButtonEl.classList.add('colab-df-spinner');\n",
              "      try {\n",
              "        const charts = await google.colab.kernel.invokeFunction(\n",
              "            'suggestCharts', [key], {});\n",
              "      } catch (error) {\n",
              "        console.error('Error during call to suggestCharts:', error);\n",
              "      }\n",
              "      quickchartButtonEl.classList.remove('colab-df-spinner');\n",
              "      quickchartButtonEl.classList.add('colab-df-quickchart-complete');\n",
              "    }\n",
              "    (() => {\n",
              "      let quickchartButtonEl =\n",
              "        document.querySelector('#df-356ab97e-581d-4e64-9f82-1e2bbfde5132 button');\n",
              "      quickchartButtonEl.style.display =\n",
              "        google.colab.kernel.accessAllowed ? 'block' : 'none';\n",
              "    })();\n",
              "  </script>\n",
              "</div>\n",
              "\n",
              "  <div id=\"id_39ad14d6-0a3c-46b5-8c99-2185ab6d76ba\">\n",
              "    <style>\n",
              "      .colab-df-generate {\n",
              "        background-color: #E8F0FE;\n",
              "        border: none;\n",
              "        border-radius: 50%;\n",
              "        cursor: pointer;\n",
              "        display: none;\n",
              "        fill: #1967D2;\n",
              "        height: 32px;\n",
              "        padding: 0 0 0 0;\n",
              "        width: 32px;\n",
              "      }\n",
              "\n",
              "      .colab-df-generate:hover {\n",
              "        background-color: #E2EBFA;\n",
              "        box-shadow: 0px 1px 2px rgba(60, 64, 67, 0.3), 0px 1px 3px 1px rgba(60, 64, 67, 0.15);\n",
              "        fill: #174EA6;\n",
              "      }\n",
              "\n",
              "      [theme=dark] .colab-df-generate {\n",
              "        background-color: #3B4455;\n",
              "        fill: #D2E3FC;\n",
              "      }\n",
              "\n",
              "      [theme=dark] .colab-df-generate:hover {\n",
              "        background-color: #434B5C;\n",
              "        box-shadow: 0px 1px 3px 1px rgba(0, 0, 0, 0.15);\n",
              "        filter: drop-shadow(0px 1px 2px rgba(0, 0, 0, 0.3));\n",
              "        fill: #FFFFFF;\n",
              "      }\n",
              "    </style>\n",
              "    <button class=\"colab-df-generate\" onclick=\"generateWithVariable('df')\"\n",
              "            title=\"Generate code using this dataframe.\"\n",
              "            style=\"display:none;\">\n",
              "\n",
              "  <svg xmlns=\"http://www.w3.org/2000/svg\" height=\"24px\"viewBox=\"0 0 24 24\"\n",
              "       width=\"24px\">\n",
              "    <path d=\"M7,19H8.4L18.45,9,17,7.55,7,17.6ZM5,21V16.75L18.45,3.32a2,2,0,0,1,2.83,0l1.4,1.43a1.91,1.91,0,0,1,.58,1.4,1.91,1.91,0,0,1-.58,1.4L9.25,21ZM18.45,9,17,7.55Zm-12,3A5.31,5.31,0,0,0,4.9,8.1,5.31,5.31,0,0,0,1,6.5,5.31,5.31,0,0,0,4.9,4.9,5.31,5.31,0,0,0,6.5,1,5.31,5.31,0,0,0,8.1,4.9,5.31,5.31,0,0,0,12,6.5,5.46,5.46,0,0,0,6.5,12Z\"/>\n",
              "  </svg>\n",
              "    </button>\n",
              "    <script>\n",
              "      (() => {\n",
              "      const buttonEl =\n",
              "        document.querySelector('#id_39ad14d6-0a3c-46b5-8c99-2185ab6d76ba button.colab-df-generate');\n",
              "      buttonEl.style.display =\n",
              "        google.colab.kernel.accessAllowed ? 'block' : 'none';\n",
              "\n",
              "      buttonEl.onclick = () => {\n",
              "        google.colab.notebook.generateWithVariable('df');\n",
              "      }\n",
              "      })();\n",
              "    </script>\n",
              "  </div>\n",
              "\n",
              "    </div>\n",
              "  </div>\n"
            ],
            "application/vnd.google.colaboratory.intrinsic+json": {
              "type": "dataframe",
              "variable_name": "df",
              "summary": "{\n  \"name\": \"df\",\n  \"rows\": 891,\n  \"fields\": [\n    {\n      \"column\": \"Survived\",\n      \"properties\": {\n        \"dtype\": \"number\",\n        \"std\": 0,\n        \"min\": 0,\n        \"max\": 1,\n        \"num_unique_values\": 2,\n        \"samples\": [\n          1,\n          0\n        ],\n        \"semantic_type\": \"\",\n        \"description\": \"\"\n      }\n    },\n    {\n      \"column\": \"Pclass\",\n      \"properties\": {\n        \"dtype\": \"number\",\n        \"std\": 0,\n        \"min\": 1,\n        \"max\": 3,\n        \"num_unique_values\": 3,\n        \"samples\": [\n          3,\n          1\n        ],\n        \"semantic_type\": \"\",\n        \"description\": \"\"\n      }\n    },\n    {\n      \"column\": \"Sex\",\n      \"properties\": {\n        \"dtype\": \"category\",\n        \"num_unique_values\": 2,\n        \"samples\": [\n          \"female\",\n          \"male\"\n        ],\n        \"semantic_type\": \"\",\n        \"description\": \"\"\n      }\n    },\n    {\n      \"column\": \"Age\",\n      \"properties\": {\n        \"dtype\": \"number\",\n        \"std\": 13.002015226002884,\n        \"min\": 0.42,\n        \"max\": 80.0,\n        \"num_unique_values\": 89,\n        \"samples\": [\n          59.0,\n          36.5\n        ],\n        \"semantic_type\": \"\",\n        \"description\": \"\"\n      }\n    },\n    {\n      \"column\": \"SibSp\",\n      \"properties\": {\n        \"dtype\": \"number\",\n        \"std\": 1,\n        \"min\": 0,\n        \"max\": 8,\n        \"num_unique_values\": 7,\n        \"samples\": [\n          1,\n          0\n        ],\n        \"semantic_type\": \"\",\n        \"description\": \"\"\n      }\n    },\n    {\n      \"column\": \"Parch\",\n      \"properties\": {\n        \"dtype\": \"number\",\n        \"std\": 0,\n        \"min\": 0,\n        \"max\": 6,\n        \"num_unique_values\": 7,\n        \"samples\": [\n          0,\n          1\n        ],\n        \"semantic_type\": \"\",\n        \"description\": \"\"\n      }\n    },\n    {\n      \"column\": \"Fare\",\n      \"properties\": {\n        \"dtype\": \"number\",\n        \"std\": 49.693428597180905,\n        \"min\": 0.0,\n        \"max\": 512.3292,\n        \"num_unique_values\": 248,\n        \"samples\": [\n          11.2417,\n          51.8625\n        ],\n        \"semantic_type\": \"\",\n        \"description\": \"\"\n      }\n    },\n    {\n      \"column\": \"Embarked\",\n      \"properties\": {\n        \"dtype\": \"category\",\n        \"num_unique_values\": 3,\n        \"samples\": [\n          \"S\",\n          \"C\"\n        ],\n        \"semantic_type\": \"\",\n        \"description\": \"\"\n      }\n    }\n  ]\n}"
            }
          },
          "metadata": {},
          "execution_count": 17
        }
      ]
    },
    {
      "cell_type": "code",
      "source": [
        "df=pd.get_dummies(df,dtype = int)"
      ],
      "metadata": {
        "id": "KctNMU2yZqC_"
      },
      "id": "KctNMU2yZqC_",
      "execution_count": null,
      "outputs": []
    },
    {
      "cell_type": "code",
      "source": [
        "y=df['Survived']\n",
        "X=df.drop('Survived',axis=1)"
      ],
      "metadata": {
        "id": "mTFvJTiilzHa"
      },
      "id": "mTFvJTiilzHa",
      "execution_count": null,
      "outputs": []
    },
    {
      "cell_type": "code",
      "source": [
        "X"
      ],
      "metadata": {
        "colab": {
          "base_uri": "https://localhost:8080/",
          "height": 419
        },
        "id": "B1BqE83AnRqh",
        "outputId": "35aa2037-f387-413f-839b-199226974e34"
      },
      "id": "B1BqE83AnRqh",
      "execution_count": null,
      "outputs": [
        {
          "output_type": "execute_result",
          "data": {
            "text/plain": [
              "     Pclass        Age  SibSp  Parch     Fare  Sex_female  Sex_male  \\\n",
              "0         3  22.000000      1      0   7.2500           0         1   \n",
              "1         1  38.000000      1      0  71.2833           1         0   \n",
              "2         3  26.000000      0      0   7.9250           1         0   \n",
              "3         1  35.000000      1      0  53.1000           1         0   \n",
              "4         3  35.000000      0      0   8.0500           0         1   \n",
              "..      ...        ...    ...    ...      ...         ...       ...   \n",
              "886       2  27.000000      0      0  13.0000           0         1   \n",
              "887       1  19.000000      0      0  30.0000           1         0   \n",
              "888       3  29.699118      1      2  23.4500           1         0   \n",
              "889       1  26.000000      0      0  30.0000           0         1   \n",
              "890       3  32.000000      0      0   7.7500           0         1   \n",
              "\n",
              "     Embarked_C  Embarked_Q  Embarked_S  \n",
              "0             0           0           1  \n",
              "1             1           0           0  \n",
              "2             0           0           1  \n",
              "3             0           0           1  \n",
              "4             0           0           1  \n",
              "..          ...         ...         ...  \n",
              "886           0           0           1  \n",
              "887           0           0           1  \n",
              "888           0           0           1  \n",
              "889           1           0           0  \n",
              "890           0           1           0  \n",
              "\n",
              "[891 rows x 10 columns]"
            ],
            "text/html": [
              "\n",
              "  <div id=\"df-417b451f-7a21-4ad2-b9af-1a06cd881c3a\" class=\"colab-df-container\">\n",
              "    <div>\n",
              "<style scoped>\n",
              "    .dataframe tbody tr th:only-of-type {\n",
              "        vertical-align: middle;\n",
              "    }\n",
              "\n",
              "    .dataframe tbody tr th {\n",
              "        vertical-align: top;\n",
              "    }\n",
              "\n",
              "    .dataframe thead th {\n",
              "        text-align: right;\n",
              "    }\n",
              "</style>\n",
              "<table border=\"1\" class=\"dataframe\">\n",
              "  <thead>\n",
              "    <tr style=\"text-align: right;\">\n",
              "      <th></th>\n",
              "      <th>Pclass</th>\n",
              "      <th>Age</th>\n",
              "      <th>SibSp</th>\n",
              "      <th>Parch</th>\n",
              "      <th>Fare</th>\n",
              "      <th>Sex_female</th>\n",
              "      <th>Sex_male</th>\n",
              "      <th>Embarked_C</th>\n",
              "      <th>Embarked_Q</th>\n",
              "      <th>Embarked_S</th>\n",
              "    </tr>\n",
              "  </thead>\n",
              "  <tbody>\n",
              "    <tr>\n",
              "      <th>0</th>\n",
              "      <td>3</td>\n",
              "      <td>22.000000</td>\n",
              "      <td>1</td>\n",
              "      <td>0</td>\n",
              "      <td>7.2500</td>\n",
              "      <td>0</td>\n",
              "      <td>1</td>\n",
              "      <td>0</td>\n",
              "      <td>0</td>\n",
              "      <td>1</td>\n",
              "    </tr>\n",
              "    <tr>\n",
              "      <th>1</th>\n",
              "      <td>1</td>\n",
              "      <td>38.000000</td>\n",
              "      <td>1</td>\n",
              "      <td>0</td>\n",
              "      <td>71.2833</td>\n",
              "      <td>1</td>\n",
              "      <td>0</td>\n",
              "      <td>1</td>\n",
              "      <td>0</td>\n",
              "      <td>0</td>\n",
              "    </tr>\n",
              "    <tr>\n",
              "      <th>2</th>\n",
              "      <td>3</td>\n",
              "      <td>26.000000</td>\n",
              "      <td>0</td>\n",
              "      <td>0</td>\n",
              "      <td>7.9250</td>\n",
              "      <td>1</td>\n",
              "      <td>0</td>\n",
              "      <td>0</td>\n",
              "      <td>0</td>\n",
              "      <td>1</td>\n",
              "    </tr>\n",
              "    <tr>\n",
              "      <th>3</th>\n",
              "      <td>1</td>\n",
              "      <td>35.000000</td>\n",
              "      <td>1</td>\n",
              "      <td>0</td>\n",
              "      <td>53.1000</td>\n",
              "      <td>1</td>\n",
              "      <td>0</td>\n",
              "      <td>0</td>\n",
              "      <td>0</td>\n",
              "      <td>1</td>\n",
              "    </tr>\n",
              "    <tr>\n",
              "      <th>4</th>\n",
              "      <td>3</td>\n",
              "      <td>35.000000</td>\n",
              "      <td>0</td>\n",
              "      <td>0</td>\n",
              "      <td>8.0500</td>\n",
              "      <td>0</td>\n",
              "      <td>1</td>\n",
              "      <td>0</td>\n",
              "      <td>0</td>\n",
              "      <td>1</td>\n",
              "    </tr>\n",
              "    <tr>\n",
              "      <th>...</th>\n",
              "      <td>...</td>\n",
              "      <td>...</td>\n",
              "      <td>...</td>\n",
              "      <td>...</td>\n",
              "      <td>...</td>\n",
              "      <td>...</td>\n",
              "      <td>...</td>\n",
              "      <td>...</td>\n",
              "      <td>...</td>\n",
              "      <td>...</td>\n",
              "    </tr>\n",
              "    <tr>\n",
              "      <th>886</th>\n",
              "      <td>2</td>\n",
              "      <td>27.000000</td>\n",
              "      <td>0</td>\n",
              "      <td>0</td>\n",
              "      <td>13.0000</td>\n",
              "      <td>0</td>\n",
              "      <td>1</td>\n",
              "      <td>0</td>\n",
              "      <td>0</td>\n",
              "      <td>1</td>\n",
              "    </tr>\n",
              "    <tr>\n",
              "      <th>887</th>\n",
              "      <td>1</td>\n",
              "      <td>19.000000</td>\n",
              "      <td>0</td>\n",
              "      <td>0</td>\n",
              "      <td>30.0000</td>\n",
              "      <td>1</td>\n",
              "      <td>0</td>\n",
              "      <td>0</td>\n",
              "      <td>0</td>\n",
              "      <td>1</td>\n",
              "    </tr>\n",
              "    <tr>\n",
              "      <th>888</th>\n",
              "      <td>3</td>\n",
              "      <td>29.699118</td>\n",
              "      <td>1</td>\n",
              "      <td>2</td>\n",
              "      <td>23.4500</td>\n",
              "      <td>1</td>\n",
              "      <td>0</td>\n",
              "      <td>0</td>\n",
              "      <td>0</td>\n",
              "      <td>1</td>\n",
              "    </tr>\n",
              "    <tr>\n",
              "      <th>889</th>\n",
              "      <td>1</td>\n",
              "      <td>26.000000</td>\n",
              "      <td>0</td>\n",
              "      <td>0</td>\n",
              "      <td>30.0000</td>\n",
              "      <td>0</td>\n",
              "      <td>1</td>\n",
              "      <td>1</td>\n",
              "      <td>0</td>\n",
              "      <td>0</td>\n",
              "    </tr>\n",
              "    <tr>\n",
              "      <th>890</th>\n",
              "      <td>3</td>\n",
              "      <td>32.000000</td>\n",
              "      <td>0</td>\n",
              "      <td>0</td>\n",
              "      <td>7.7500</td>\n",
              "      <td>0</td>\n",
              "      <td>1</td>\n",
              "      <td>0</td>\n",
              "      <td>1</td>\n",
              "      <td>0</td>\n",
              "    </tr>\n",
              "  </tbody>\n",
              "</table>\n",
              "<p>891 rows × 10 columns</p>\n",
              "</div>\n",
              "    <div class=\"colab-df-buttons\">\n",
              "\n",
              "  <div class=\"colab-df-container\">\n",
              "    <button class=\"colab-df-convert\" onclick=\"convertToInteractive('df-417b451f-7a21-4ad2-b9af-1a06cd881c3a')\"\n",
              "            title=\"Convert this dataframe to an interactive table.\"\n",
              "            style=\"display:none;\">\n",
              "\n",
              "  <svg xmlns=\"http://www.w3.org/2000/svg\" height=\"24px\" viewBox=\"0 -960 960 960\">\n",
              "    <path d=\"M120-120v-720h720v720H120Zm60-500h600v-160H180v160Zm220 220h160v-160H400v160Zm0 220h160v-160H400v160ZM180-400h160v-160H180v160Zm440 0h160v-160H620v160ZM180-180h160v-160H180v160Zm440 0h160v-160H620v160Z\"/>\n",
              "  </svg>\n",
              "    </button>\n",
              "\n",
              "  <style>\n",
              "    .colab-df-container {\n",
              "      display:flex;\n",
              "      gap: 12px;\n",
              "    }\n",
              "\n",
              "    .colab-df-convert {\n",
              "      background-color: #E8F0FE;\n",
              "      border: none;\n",
              "      border-radius: 50%;\n",
              "      cursor: pointer;\n",
              "      display: none;\n",
              "      fill: #1967D2;\n",
              "      height: 32px;\n",
              "      padding: 0 0 0 0;\n",
              "      width: 32px;\n",
              "    }\n",
              "\n",
              "    .colab-df-convert:hover {\n",
              "      background-color: #E2EBFA;\n",
              "      box-shadow: 0px 1px 2px rgba(60, 64, 67, 0.3), 0px 1px 3px 1px rgba(60, 64, 67, 0.15);\n",
              "      fill: #174EA6;\n",
              "    }\n",
              "\n",
              "    .colab-df-buttons div {\n",
              "      margin-bottom: 4px;\n",
              "    }\n",
              "\n",
              "    [theme=dark] .colab-df-convert {\n",
              "      background-color: #3B4455;\n",
              "      fill: #D2E3FC;\n",
              "    }\n",
              "\n",
              "    [theme=dark] .colab-df-convert:hover {\n",
              "      background-color: #434B5C;\n",
              "      box-shadow: 0px 1px 3px 1px rgba(0, 0, 0, 0.15);\n",
              "      filter: drop-shadow(0px 1px 2px rgba(0, 0, 0, 0.3));\n",
              "      fill: #FFFFFF;\n",
              "    }\n",
              "  </style>\n",
              "\n",
              "    <script>\n",
              "      const buttonEl =\n",
              "        document.querySelector('#df-417b451f-7a21-4ad2-b9af-1a06cd881c3a button.colab-df-convert');\n",
              "      buttonEl.style.display =\n",
              "        google.colab.kernel.accessAllowed ? 'block' : 'none';\n",
              "\n",
              "      async function convertToInteractive(key) {\n",
              "        const element = document.querySelector('#df-417b451f-7a21-4ad2-b9af-1a06cd881c3a');\n",
              "        const dataTable =\n",
              "          await google.colab.kernel.invokeFunction('convertToInteractive',\n",
              "                                                    [key], {});\n",
              "        if (!dataTable) return;\n",
              "\n",
              "        const docLinkHtml = 'Like what you see? Visit the ' +\n",
              "          '<a target=\"_blank\" href=https://colab.research.google.com/notebooks/data_table.ipynb>data table notebook</a>'\n",
              "          + ' to learn more about interactive tables.';\n",
              "        element.innerHTML = '';\n",
              "        dataTable['output_type'] = 'display_data';\n",
              "        await google.colab.output.renderOutput(dataTable, element);\n",
              "        const docLink = document.createElement('div');\n",
              "        docLink.innerHTML = docLinkHtml;\n",
              "        element.appendChild(docLink);\n",
              "      }\n",
              "    </script>\n",
              "  </div>\n",
              "\n",
              "\n",
              "<div id=\"df-f832cc77-6706-49c9-96f9-4b7edffa0372\">\n",
              "  <button class=\"colab-df-quickchart\" onclick=\"quickchart('df-f832cc77-6706-49c9-96f9-4b7edffa0372')\"\n",
              "            title=\"Suggest charts\"\n",
              "            style=\"display:none;\">\n",
              "\n",
              "<svg xmlns=\"http://www.w3.org/2000/svg\" height=\"24px\"viewBox=\"0 0 24 24\"\n",
              "     width=\"24px\">\n",
              "    <g>\n",
              "        <path d=\"M19 3H5c-1.1 0-2 .9-2 2v14c0 1.1.9 2 2 2h14c1.1 0 2-.9 2-2V5c0-1.1-.9-2-2-2zM9 17H7v-7h2v7zm4 0h-2V7h2v10zm4 0h-2v-4h2v4z\"/>\n",
              "    </g>\n",
              "</svg>\n",
              "  </button>\n",
              "\n",
              "<style>\n",
              "  .colab-df-quickchart {\n",
              "      --bg-color: #E8F0FE;\n",
              "      --fill-color: #1967D2;\n",
              "      --hover-bg-color: #E2EBFA;\n",
              "      --hover-fill-color: #174EA6;\n",
              "      --disabled-fill-color: #AAA;\n",
              "      --disabled-bg-color: #DDD;\n",
              "  }\n",
              "\n",
              "  [theme=dark] .colab-df-quickchart {\n",
              "      --bg-color: #3B4455;\n",
              "      --fill-color: #D2E3FC;\n",
              "      --hover-bg-color: #434B5C;\n",
              "      --hover-fill-color: #FFFFFF;\n",
              "      --disabled-bg-color: #3B4455;\n",
              "      --disabled-fill-color: #666;\n",
              "  }\n",
              "\n",
              "  .colab-df-quickchart {\n",
              "    background-color: var(--bg-color);\n",
              "    border: none;\n",
              "    border-radius: 50%;\n",
              "    cursor: pointer;\n",
              "    display: none;\n",
              "    fill: var(--fill-color);\n",
              "    height: 32px;\n",
              "    padding: 0;\n",
              "    width: 32px;\n",
              "  }\n",
              "\n",
              "  .colab-df-quickchart:hover {\n",
              "    background-color: var(--hover-bg-color);\n",
              "    box-shadow: 0 1px 2px rgba(60, 64, 67, 0.3), 0 1px 3px 1px rgba(60, 64, 67, 0.15);\n",
              "    fill: var(--button-hover-fill-color);\n",
              "  }\n",
              "\n",
              "  .colab-df-quickchart-complete:disabled,\n",
              "  .colab-df-quickchart-complete:disabled:hover {\n",
              "    background-color: var(--disabled-bg-color);\n",
              "    fill: var(--disabled-fill-color);\n",
              "    box-shadow: none;\n",
              "  }\n",
              "\n",
              "  .colab-df-spinner {\n",
              "    border: 2px solid var(--fill-color);\n",
              "    border-color: transparent;\n",
              "    border-bottom-color: var(--fill-color);\n",
              "    animation:\n",
              "      spin 1s steps(1) infinite;\n",
              "  }\n",
              "\n",
              "  @keyframes spin {\n",
              "    0% {\n",
              "      border-color: transparent;\n",
              "      border-bottom-color: var(--fill-color);\n",
              "      border-left-color: var(--fill-color);\n",
              "    }\n",
              "    20% {\n",
              "      border-color: transparent;\n",
              "      border-left-color: var(--fill-color);\n",
              "      border-top-color: var(--fill-color);\n",
              "    }\n",
              "    30% {\n",
              "      border-color: transparent;\n",
              "      border-left-color: var(--fill-color);\n",
              "      border-top-color: var(--fill-color);\n",
              "      border-right-color: var(--fill-color);\n",
              "    }\n",
              "    40% {\n",
              "      border-color: transparent;\n",
              "      border-right-color: var(--fill-color);\n",
              "      border-top-color: var(--fill-color);\n",
              "    }\n",
              "    60% {\n",
              "      border-color: transparent;\n",
              "      border-right-color: var(--fill-color);\n",
              "    }\n",
              "    80% {\n",
              "      border-color: transparent;\n",
              "      border-right-color: var(--fill-color);\n",
              "      border-bottom-color: var(--fill-color);\n",
              "    }\n",
              "    90% {\n",
              "      border-color: transparent;\n",
              "      border-bottom-color: var(--fill-color);\n",
              "    }\n",
              "  }\n",
              "</style>\n",
              "\n",
              "  <script>\n",
              "    async function quickchart(key) {\n",
              "      const quickchartButtonEl =\n",
              "        document.querySelector('#' + key + ' button');\n",
              "      quickchartButtonEl.disabled = true;  // To prevent multiple clicks.\n",
              "      quickchartButtonEl.classList.add('colab-df-spinner');\n",
              "      try {\n",
              "        const charts = await google.colab.kernel.invokeFunction(\n",
              "            'suggestCharts', [key], {});\n",
              "      } catch (error) {\n",
              "        console.error('Error during call to suggestCharts:', error);\n",
              "      }\n",
              "      quickchartButtonEl.classList.remove('colab-df-spinner');\n",
              "      quickchartButtonEl.classList.add('colab-df-quickchart-complete');\n",
              "    }\n",
              "    (() => {\n",
              "      let quickchartButtonEl =\n",
              "        document.querySelector('#df-f832cc77-6706-49c9-96f9-4b7edffa0372 button');\n",
              "      quickchartButtonEl.style.display =\n",
              "        google.colab.kernel.accessAllowed ? 'block' : 'none';\n",
              "    })();\n",
              "  </script>\n",
              "</div>\n",
              "\n",
              "  <div id=\"id_e6326e33-8efd-424b-a7ac-86dd0cf95600\">\n",
              "    <style>\n",
              "      .colab-df-generate {\n",
              "        background-color: #E8F0FE;\n",
              "        border: none;\n",
              "        border-radius: 50%;\n",
              "        cursor: pointer;\n",
              "        display: none;\n",
              "        fill: #1967D2;\n",
              "        height: 32px;\n",
              "        padding: 0 0 0 0;\n",
              "        width: 32px;\n",
              "      }\n",
              "\n",
              "      .colab-df-generate:hover {\n",
              "        background-color: #E2EBFA;\n",
              "        box-shadow: 0px 1px 2px rgba(60, 64, 67, 0.3), 0px 1px 3px 1px rgba(60, 64, 67, 0.15);\n",
              "        fill: #174EA6;\n",
              "      }\n",
              "\n",
              "      [theme=dark] .colab-df-generate {\n",
              "        background-color: #3B4455;\n",
              "        fill: #D2E3FC;\n",
              "      }\n",
              "\n",
              "      [theme=dark] .colab-df-generate:hover {\n",
              "        background-color: #434B5C;\n",
              "        box-shadow: 0px 1px 3px 1px rgba(0, 0, 0, 0.15);\n",
              "        filter: drop-shadow(0px 1px 2px rgba(0, 0, 0, 0.3));\n",
              "        fill: #FFFFFF;\n",
              "      }\n",
              "    </style>\n",
              "    <button class=\"colab-df-generate\" onclick=\"generateWithVariable('X')\"\n",
              "            title=\"Generate code using this dataframe.\"\n",
              "            style=\"display:none;\">\n",
              "\n",
              "  <svg xmlns=\"http://www.w3.org/2000/svg\" height=\"24px\"viewBox=\"0 0 24 24\"\n",
              "       width=\"24px\">\n",
              "    <path d=\"M7,19H8.4L18.45,9,17,7.55,7,17.6ZM5,21V16.75L18.45,3.32a2,2,0,0,1,2.83,0l1.4,1.43a1.91,1.91,0,0,1,.58,1.4,1.91,1.91,0,0,1-.58,1.4L9.25,21ZM18.45,9,17,7.55Zm-12,3A5.31,5.31,0,0,0,4.9,8.1,5.31,5.31,0,0,0,1,6.5,5.31,5.31,0,0,0,4.9,4.9,5.31,5.31,0,0,0,6.5,1,5.31,5.31,0,0,0,8.1,4.9,5.31,5.31,0,0,0,12,6.5,5.46,5.46,0,0,0,6.5,12Z\"/>\n",
              "  </svg>\n",
              "    </button>\n",
              "    <script>\n",
              "      (() => {\n",
              "      const buttonEl =\n",
              "        document.querySelector('#id_e6326e33-8efd-424b-a7ac-86dd0cf95600 button.colab-df-generate');\n",
              "      buttonEl.style.display =\n",
              "        google.colab.kernel.accessAllowed ? 'block' : 'none';\n",
              "\n",
              "      buttonEl.onclick = () => {\n",
              "        google.colab.notebook.generateWithVariable('X');\n",
              "      }\n",
              "      })();\n",
              "    </script>\n",
              "  </div>\n",
              "\n",
              "    </div>\n",
              "  </div>\n"
            ],
            "application/vnd.google.colaboratory.intrinsic+json": {
              "type": "dataframe",
              "variable_name": "X",
              "summary": "{\n  \"name\": \"X\",\n  \"rows\": 891,\n  \"fields\": [\n    {\n      \"column\": \"Pclass\",\n      \"properties\": {\n        \"dtype\": \"number\",\n        \"std\": 0,\n        \"min\": 1,\n        \"max\": 3,\n        \"num_unique_values\": 3,\n        \"samples\": [\n          3,\n          1,\n          2\n        ],\n        \"semantic_type\": \"\",\n        \"description\": \"\"\n      }\n    },\n    {\n      \"column\": \"Age\",\n      \"properties\": {\n        \"dtype\": \"number\",\n        \"std\": 13.002015226002884,\n        \"min\": 0.42,\n        \"max\": 80.0,\n        \"num_unique_values\": 89,\n        \"samples\": [\n          59.0,\n          36.5,\n          28.5\n        ],\n        \"semantic_type\": \"\",\n        \"description\": \"\"\n      }\n    },\n    {\n      \"column\": \"SibSp\",\n      \"properties\": {\n        \"dtype\": \"number\",\n        \"std\": 1,\n        \"min\": 0,\n        \"max\": 8,\n        \"num_unique_values\": 7,\n        \"samples\": [\n          1,\n          0,\n          5\n        ],\n        \"semantic_type\": \"\",\n        \"description\": \"\"\n      }\n    },\n    {\n      \"column\": \"Parch\",\n      \"properties\": {\n        \"dtype\": \"number\",\n        \"std\": 0,\n        \"min\": 0,\n        \"max\": 6,\n        \"num_unique_values\": 7,\n        \"samples\": [\n          0,\n          1,\n          4\n        ],\n        \"semantic_type\": \"\",\n        \"description\": \"\"\n      }\n    },\n    {\n      \"column\": \"Fare\",\n      \"properties\": {\n        \"dtype\": \"number\",\n        \"std\": 49.693428597180905,\n        \"min\": 0.0,\n        \"max\": 512.3292,\n        \"num_unique_values\": 248,\n        \"samples\": [\n          11.2417,\n          51.8625,\n          7.725\n        ],\n        \"semantic_type\": \"\",\n        \"description\": \"\"\n      }\n    },\n    {\n      \"column\": \"Sex_female\",\n      \"properties\": {\n        \"dtype\": \"number\",\n        \"std\": 0,\n        \"min\": 0,\n        \"max\": 1,\n        \"num_unique_values\": 2,\n        \"samples\": [\n          1,\n          0\n        ],\n        \"semantic_type\": \"\",\n        \"description\": \"\"\n      }\n    },\n    {\n      \"column\": \"Sex_male\",\n      \"properties\": {\n        \"dtype\": \"number\",\n        \"std\": 0,\n        \"min\": 0,\n        \"max\": 1,\n        \"num_unique_values\": 2,\n        \"samples\": [\n          0,\n          1\n        ],\n        \"semantic_type\": \"\",\n        \"description\": \"\"\n      }\n    },\n    {\n      \"column\": \"Embarked_C\",\n      \"properties\": {\n        \"dtype\": \"number\",\n        \"std\": 0,\n        \"min\": 0,\n        \"max\": 1,\n        \"num_unique_values\": 2,\n        \"samples\": [\n          1,\n          0\n        ],\n        \"semantic_type\": \"\",\n        \"description\": \"\"\n      }\n    },\n    {\n      \"column\": \"Embarked_Q\",\n      \"properties\": {\n        \"dtype\": \"number\",\n        \"std\": 0,\n        \"min\": 0,\n        \"max\": 1,\n        \"num_unique_values\": 2,\n        \"samples\": [\n          1,\n          0\n        ],\n        \"semantic_type\": \"\",\n        \"description\": \"\"\n      }\n    },\n    {\n      \"column\": \"Embarked_S\",\n      \"properties\": {\n        \"dtype\": \"number\",\n        \"std\": 0,\n        \"min\": 0,\n        \"max\": 1,\n        \"num_unique_values\": 2,\n        \"samples\": [\n          0,\n          1\n        ],\n        \"semantic_type\": \"\",\n        \"description\": \"\"\n      }\n    }\n  ]\n}"
            }
          },
          "metadata": {},
          "execution_count": 21
        }
      ]
    },
    {
      "cell_type": "code",
      "source": [
        "from sklearn.preprocessing import MinMaxScaler\n",
        "\n",
        "\n",
        "scaler = MinMaxScaler()\n",
        "\n",
        "X_scaled = scaler.fit_transform(X)\n",
        "\n",
        "X_scaled = pd.DataFrame(X_scaled, columns=X.columns)\n",
        "\n"
      ],
      "metadata": {
        "id": "J_lph1BRljxc"
      },
      "id": "J_lph1BRljxc",
      "execution_count": null,
      "outputs": []
    },
    {
      "cell_type": "code",
      "source": [
        "X_scaled"
      ],
      "metadata": {
        "colab": {
          "base_uri": "https://localhost:8080/",
          "height": 419
        },
        "id": "neFDTnwvnqp0",
        "outputId": "d3f106d2-7c1f-4146-f9c1-34f1bbed23ae"
      },
      "id": "neFDTnwvnqp0",
      "execution_count": null,
      "outputs": [
        {
          "output_type": "execute_result",
          "data": {
            "text/plain": [
              "     Pclass       Age  SibSp     Parch      Fare  Sex_female  Sex_male  \\\n",
              "0       1.0  0.271174  0.125  0.000000  0.014151         0.0       1.0   \n",
              "1       0.0  0.472229  0.125  0.000000  0.139136         1.0       0.0   \n",
              "2       1.0  0.321438  0.000  0.000000  0.015469         1.0       0.0   \n",
              "3       0.0  0.434531  0.125  0.000000  0.103644         1.0       0.0   \n",
              "4       1.0  0.434531  0.000  0.000000  0.015713         0.0       1.0   \n",
              "..      ...       ...    ...       ...       ...         ...       ...   \n",
              "886     0.5  0.334004  0.000  0.000000  0.025374         0.0       1.0   \n",
              "887     0.0  0.233476  0.000  0.000000  0.058556         1.0       0.0   \n",
              "888     1.0  0.367921  0.125  0.333333  0.045771         1.0       0.0   \n",
              "889     0.0  0.321438  0.000  0.000000  0.058556         0.0       1.0   \n",
              "890     1.0  0.396833  0.000  0.000000  0.015127         0.0       1.0   \n",
              "\n",
              "     Embarked_C  Embarked_Q  Embarked_S  \n",
              "0           0.0         0.0         1.0  \n",
              "1           1.0         0.0         0.0  \n",
              "2           0.0         0.0         1.0  \n",
              "3           0.0         0.0         1.0  \n",
              "4           0.0         0.0         1.0  \n",
              "..          ...         ...         ...  \n",
              "886         0.0         0.0         1.0  \n",
              "887         0.0         0.0         1.0  \n",
              "888         0.0         0.0         1.0  \n",
              "889         1.0         0.0         0.0  \n",
              "890         0.0         1.0         0.0  \n",
              "\n",
              "[891 rows x 10 columns]"
            ],
            "text/html": [
              "\n",
              "  <div id=\"df-d5e40876-d677-4895-9318-a3c21fd41326\" class=\"colab-df-container\">\n",
              "    <div>\n",
              "<style scoped>\n",
              "    .dataframe tbody tr th:only-of-type {\n",
              "        vertical-align: middle;\n",
              "    }\n",
              "\n",
              "    .dataframe tbody tr th {\n",
              "        vertical-align: top;\n",
              "    }\n",
              "\n",
              "    .dataframe thead th {\n",
              "        text-align: right;\n",
              "    }\n",
              "</style>\n",
              "<table border=\"1\" class=\"dataframe\">\n",
              "  <thead>\n",
              "    <tr style=\"text-align: right;\">\n",
              "      <th></th>\n",
              "      <th>Pclass</th>\n",
              "      <th>Age</th>\n",
              "      <th>SibSp</th>\n",
              "      <th>Parch</th>\n",
              "      <th>Fare</th>\n",
              "      <th>Sex_female</th>\n",
              "      <th>Sex_male</th>\n",
              "      <th>Embarked_C</th>\n",
              "      <th>Embarked_Q</th>\n",
              "      <th>Embarked_S</th>\n",
              "    </tr>\n",
              "  </thead>\n",
              "  <tbody>\n",
              "    <tr>\n",
              "      <th>0</th>\n",
              "      <td>1.0</td>\n",
              "      <td>0.271174</td>\n",
              "      <td>0.125</td>\n",
              "      <td>0.000000</td>\n",
              "      <td>0.014151</td>\n",
              "      <td>0.0</td>\n",
              "      <td>1.0</td>\n",
              "      <td>0.0</td>\n",
              "      <td>0.0</td>\n",
              "      <td>1.0</td>\n",
              "    </tr>\n",
              "    <tr>\n",
              "      <th>1</th>\n",
              "      <td>0.0</td>\n",
              "      <td>0.472229</td>\n",
              "      <td>0.125</td>\n",
              "      <td>0.000000</td>\n",
              "      <td>0.139136</td>\n",
              "      <td>1.0</td>\n",
              "      <td>0.0</td>\n",
              "      <td>1.0</td>\n",
              "      <td>0.0</td>\n",
              "      <td>0.0</td>\n",
              "    </tr>\n",
              "    <tr>\n",
              "      <th>2</th>\n",
              "      <td>1.0</td>\n",
              "      <td>0.321438</td>\n",
              "      <td>0.000</td>\n",
              "      <td>0.000000</td>\n",
              "      <td>0.015469</td>\n",
              "      <td>1.0</td>\n",
              "      <td>0.0</td>\n",
              "      <td>0.0</td>\n",
              "      <td>0.0</td>\n",
              "      <td>1.0</td>\n",
              "    </tr>\n",
              "    <tr>\n",
              "      <th>3</th>\n",
              "      <td>0.0</td>\n",
              "      <td>0.434531</td>\n",
              "      <td>0.125</td>\n",
              "      <td>0.000000</td>\n",
              "      <td>0.103644</td>\n",
              "      <td>1.0</td>\n",
              "      <td>0.0</td>\n",
              "      <td>0.0</td>\n",
              "      <td>0.0</td>\n",
              "      <td>1.0</td>\n",
              "    </tr>\n",
              "    <tr>\n",
              "      <th>4</th>\n",
              "      <td>1.0</td>\n",
              "      <td>0.434531</td>\n",
              "      <td>0.000</td>\n",
              "      <td>0.000000</td>\n",
              "      <td>0.015713</td>\n",
              "      <td>0.0</td>\n",
              "      <td>1.0</td>\n",
              "      <td>0.0</td>\n",
              "      <td>0.0</td>\n",
              "      <td>1.0</td>\n",
              "    </tr>\n",
              "    <tr>\n",
              "      <th>...</th>\n",
              "      <td>...</td>\n",
              "      <td>...</td>\n",
              "      <td>...</td>\n",
              "      <td>...</td>\n",
              "      <td>...</td>\n",
              "      <td>...</td>\n",
              "      <td>...</td>\n",
              "      <td>...</td>\n",
              "      <td>...</td>\n",
              "      <td>...</td>\n",
              "    </tr>\n",
              "    <tr>\n",
              "      <th>886</th>\n",
              "      <td>0.5</td>\n",
              "      <td>0.334004</td>\n",
              "      <td>0.000</td>\n",
              "      <td>0.000000</td>\n",
              "      <td>0.025374</td>\n",
              "      <td>0.0</td>\n",
              "      <td>1.0</td>\n",
              "      <td>0.0</td>\n",
              "      <td>0.0</td>\n",
              "      <td>1.0</td>\n",
              "    </tr>\n",
              "    <tr>\n",
              "      <th>887</th>\n",
              "      <td>0.0</td>\n",
              "      <td>0.233476</td>\n",
              "      <td>0.000</td>\n",
              "      <td>0.000000</td>\n",
              "      <td>0.058556</td>\n",
              "      <td>1.0</td>\n",
              "      <td>0.0</td>\n",
              "      <td>0.0</td>\n",
              "      <td>0.0</td>\n",
              "      <td>1.0</td>\n",
              "    </tr>\n",
              "    <tr>\n",
              "      <th>888</th>\n",
              "      <td>1.0</td>\n",
              "      <td>0.367921</td>\n",
              "      <td>0.125</td>\n",
              "      <td>0.333333</td>\n",
              "      <td>0.045771</td>\n",
              "      <td>1.0</td>\n",
              "      <td>0.0</td>\n",
              "      <td>0.0</td>\n",
              "      <td>0.0</td>\n",
              "      <td>1.0</td>\n",
              "    </tr>\n",
              "    <tr>\n",
              "      <th>889</th>\n",
              "      <td>0.0</td>\n",
              "      <td>0.321438</td>\n",
              "      <td>0.000</td>\n",
              "      <td>0.000000</td>\n",
              "      <td>0.058556</td>\n",
              "      <td>0.0</td>\n",
              "      <td>1.0</td>\n",
              "      <td>1.0</td>\n",
              "      <td>0.0</td>\n",
              "      <td>0.0</td>\n",
              "    </tr>\n",
              "    <tr>\n",
              "      <th>890</th>\n",
              "      <td>1.0</td>\n",
              "      <td>0.396833</td>\n",
              "      <td>0.000</td>\n",
              "      <td>0.000000</td>\n",
              "      <td>0.015127</td>\n",
              "      <td>0.0</td>\n",
              "      <td>1.0</td>\n",
              "      <td>0.0</td>\n",
              "      <td>1.0</td>\n",
              "      <td>0.0</td>\n",
              "    </tr>\n",
              "  </tbody>\n",
              "</table>\n",
              "<p>891 rows × 10 columns</p>\n",
              "</div>\n",
              "    <div class=\"colab-df-buttons\">\n",
              "\n",
              "  <div class=\"colab-df-container\">\n",
              "    <button class=\"colab-df-convert\" onclick=\"convertToInteractive('df-d5e40876-d677-4895-9318-a3c21fd41326')\"\n",
              "            title=\"Convert this dataframe to an interactive table.\"\n",
              "            style=\"display:none;\">\n",
              "\n",
              "  <svg xmlns=\"http://www.w3.org/2000/svg\" height=\"24px\" viewBox=\"0 -960 960 960\">\n",
              "    <path d=\"M120-120v-720h720v720H120Zm60-500h600v-160H180v160Zm220 220h160v-160H400v160Zm0 220h160v-160H400v160ZM180-400h160v-160H180v160Zm440 0h160v-160H620v160ZM180-180h160v-160H180v160Zm440 0h160v-160H620v160Z\"/>\n",
              "  </svg>\n",
              "    </button>\n",
              "\n",
              "  <style>\n",
              "    .colab-df-container {\n",
              "      display:flex;\n",
              "      gap: 12px;\n",
              "    }\n",
              "\n",
              "    .colab-df-convert {\n",
              "      background-color: #E8F0FE;\n",
              "      border: none;\n",
              "      border-radius: 50%;\n",
              "      cursor: pointer;\n",
              "      display: none;\n",
              "      fill: #1967D2;\n",
              "      height: 32px;\n",
              "      padding: 0 0 0 0;\n",
              "      width: 32px;\n",
              "    }\n",
              "\n",
              "    .colab-df-convert:hover {\n",
              "      background-color: #E2EBFA;\n",
              "      box-shadow: 0px 1px 2px rgba(60, 64, 67, 0.3), 0px 1px 3px 1px rgba(60, 64, 67, 0.15);\n",
              "      fill: #174EA6;\n",
              "    }\n",
              "\n",
              "    .colab-df-buttons div {\n",
              "      margin-bottom: 4px;\n",
              "    }\n",
              "\n",
              "    [theme=dark] .colab-df-convert {\n",
              "      background-color: #3B4455;\n",
              "      fill: #D2E3FC;\n",
              "    }\n",
              "\n",
              "    [theme=dark] .colab-df-convert:hover {\n",
              "      background-color: #434B5C;\n",
              "      box-shadow: 0px 1px 3px 1px rgba(0, 0, 0, 0.15);\n",
              "      filter: drop-shadow(0px 1px 2px rgba(0, 0, 0, 0.3));\n",
              "      fill: #FFFFFF;\n",
              "    }\n",
              "  </style>\n",
              "\n",
              "    <script>\n",
              "      const buttonEl =\n",
              "        document.querySelector('#df-d5e40876-d677-4895-9318-a3c21fd41326 button.colab-df-convert');\n",
              "      buttonEl.style.display =\n",
              "        google.colab.kernel.accessAllowed ? 'block' : 'none';\n",
              "\n",
              "      async function convertToInteractive(key) {\n",
              "        const element = document.querySelector('#df-d5e40876-d677-4895-9318-a3c21fd41326');\n",
              "        const dataTable =\n",
              "          await google.colab.kernel.invokeFunction('convertToInteractive',\n",
              "                                                    [key], {});\n",
              "        if (!dataTable) return;\n",
              "\n",
              "        const docLinkHtml = 'Like what you see? Visit the ' +\n",
              "          '<a target=\"_blank\" href=https://colab.research.google.com/notebooks/data_table.ipynb>data table notebook</a>'\n",
              "          + ' to learn more about interactive tables.';\n",
              "        element.innerHTML = '';\n",
              "        dataTable['output_type'] = 'display_data';\n",
              "        await google.colab.output.renderOutput(dataTable, element);\n",
              "        const docLink = document.createElement('div');\n",
              "        docLink.innerHTML = docLinkHtml;\n",
              "        element.appendChild(docLink);\n",
              "      }\n",
              "    </script>\n",
              "  </div>\n",
              "\n",
              "\n",
              "<div id=\"df-f031f237-5400-451d-b2b6-523a6f1d342f\">\n",
              "  <button class=\"colab-df-quickchart\" onclick=\"quickchart('df-f031f237-5400-451d-b2b6-523a6f1d342f')\"\n",
              "            title=\"Suggest charts\"\n",
              "            style=\"display:none;\">\n",
              "\n",
              "<svg xmlns=\"http://www.w3.org/2000/svg\" height=\"24px\"viewBox=\"0 0 24 24\"\n",
              "     width=\"24px\">\n",
              "    <g>\n",
              "        <path d=\"M19 3H5c-1.1 0-2 .9-2 2v14c0 1.1.9 2 2 2h14c1.1 0 2-.9 2-2V5c0-1.1-.9-2-2-2zM9 17H7v-7h2v7zm4 0h-2V7h2v10zm4 0h-2v-4h2v4z\"/>\n",
              "    </g>\n",
              "</svg>\n",
              "  </button>\n",
              "\n",
              "<style>\n",
              "  .colab-df-quickchart {\n",
              "      --bg-color: #E8F0FE;\n",
              "      --fill-color: #1967D2;\n",
              "      --hover-bg-color: #E2EBFA;\n",
              "      --hover-fill-color: #174EA6;\n",
              "      --disabled-fill-color: #AAA;\n",
              "      --disabled-bg-color: #DDD;\n",
              "  }\n",
              "\n",
              "  [theme=dark] .colab-df-quickchart {\n",
              "      --bg-color: #3B4455;\n",
              "      --fill-color: #D2E3FC;\n",
              "      --hover-bg-color: #434B5C;\n",
              "      --hover-fill-color: #FFFFFF;\n",
              "      --disabled-bg-color: #3B4455;\n",
              "      --disabled-fill-color: #666;\n",
              "  }\n",
              "\n",
              "  .colab-df-quickchart {\n",
              "    background-color: var(--bg-color);\n",
              "    border: none;\n",
              "    border-radius: 50%;\n",
              "    cursor: pointer;\n",
              "    display: none;\n",
              "    fill: var(--fill-color);\n",
              "    height: 32px;\n",
              "    padding: 0;\n",
              "    width: 32px;\n",
              "  }\n",
              "\n",
              "  .colab-df-quickchart:hover {\n",
              "    background-color: var(--hover-bg-color);\n",
              "    box-shadow: 0 1px 2px rgba(60, 64, 67, 0.3), 0 1px 3px 1px rgba(60, 64, 67, 0.15);\n",
              "    fill: var(--button-hover-fill-color);\n",
              "  }\n",
              "\n",
              "  .colab-df-quickchart-complete:disabled,\n",
              "  .colab-df-quickchart-complete:disabled:hover {\n",
              "    background-color: var(--disabled-bg-color);\n",
              "    fill: var(--disabled-fill-color);\n",
              "    box-shadow: none;\n",
              "  }\n",
              "\n",
              "  .colab-df-spinner {\n",
              "    border: 2px solid var(--fill-color);\n",
              "    border-color: transparent;\n",
              "    border-bottom-color: var(--fill-color);\n",
              "    animation:\n",
              "      spin 1s steps(1) infinite;\n",
              "  }\n",
              "\n",
              "  @keyframes spin {\n",
              "    0% {\n",
              "      border-color: transparent;\n",
              "      border-bottom-color: var(--fill-color);\n",
              "      border-left-color: var(--fill-color);\n",
              "    }\n",
              "    20% {\n",
              "      border-color: transparent;\n",
              "      border-left-color: var(--fill-color);\n",
              "      border-top-color: var(--fill-color);\n",
              "    }\n",
              "    30% {\n",
              "      border-color: transparent;\n",
              "      border-left-color: var(--fill-color);\n",
              "      border-top-color: var(--fill-color);\n",
              "      border-right-color: var(--fill-color);\n",
              "    }\n",
              "    40% {\n",
              "      border-color: transparent;\n",
              "      border-right-color: var(--fill-color);\n",
              "      border-top-color: var(--fill-color);\n",
              "    }\n",
              "    60% {\n",
              "      border-color: transparent;\n",
              "      border-right-color: var(--fill-color);\n",
              "    }\n",
              "    80% {\n",
              "      border-color: transparent;\n",
              "      border-right-color: var(--fill-color);\n",
              "      border-bottom-color: var(--fill-color);\n",
              "    }\n",
              "    90% {\n",
              "      border-color: transparent;\n",
              "      border-bottom-color: var(--fill-color);\n",
              "    }\n",
              "  }\n",
              "</style>\n",
              "\n",
              "  <script>\n",
              "    async function quickchart(key) {\n",
              "      const quickchartButtonEl =\n",
              "        document.querySelector('#' + key + ' button');\n",
              "      quickchartButtonEl.disabled = true;  // To prevent multiple clicks.\n",
              "      quickchartButtonEl.classList.add('colab-df-spinner');\n",
              "      try {\n",
              "        const charts = await google.colab.kernel.invokeFunction(\n",
              "            'suggestCharts', [key], {});\n",
              "      } catch (error) {\n",
              "        console.error('Error during call to suggestCharts:', error);\n",
              "      }\n",
              "      quickchartButtonEl.classList.remove('colab-df-spinner');\n",
              "      quickchartButtonEl.classList.add('colab-df-quickchart-complete');\n",
              "    }\n",
              "    (() => {\n",
              "      let quickchartButtonEl =\n",
              "        document.querySelector('#df-f031f237-5400-451d-b2b6-523a6f1d342f button');\n",
              "      quickchartButtonEl.style.display =\n",
              "        google.colab.kernel.accessAllowed ? 'block' : 'none';\n",
              "    })();\n",
              "  </script>\n",
              "</div>\n",
              "\n",
              "  <div id=\"id_ecfbbcb2-b9c8-4b6a-a4a4-d59c8b45acbf\">\n",
              "    <style>\n",
              "      .colab-df-generate {\n",
              "        background-color: #E8F0FE;\n",
              "        border: none;\n",
              "        border-radius: 50%;\n",
              "        cursor: pointer;\n",
              "        display: none;\n",
              "        fill: #1967D2;\n",
              "        height: 32px;\n",
              "        padding: 0 0 0 0;\n",
              "        width: 32px;\n",
              "      }\n",
              "\n",
              "      .colab-df-generate:hover {\n",
              "        background-color: #E2EBFA;\n",
              "        box-shadow: 0px 1px 2px rgba(60, 64, 67, 0.3), 0px 1px 3px 1px rgba(60, 64, 67, 0.15);\n",
              "        fill: #174EA6;\n",
              "      }\n",
              "\n",
              "      [theme=dark] .colab-df-generate {\n",
              "        background-color: #3B4455;\n",
              "        fill: #D2E3FC;\n",
              "      }\n",
              "\n",
              "      [theme=dark] .colab-df-generate:hover {\n",
              "        background-color: #434B5C;\n",
              "        box-shadow: 0px 1px 3px 1px rgba(0, 0, 0, 0.15);\n",
              "        filter: drop-shadow(0px 1px 2px rgba(0, 0, 0, 0.3));\n",
              "        fill: #FFFFFF;\n",
              "      }\n",
              "    </style>\n",
              "    <button class=\"colab-df-generate\" onclick=\"generateWithVariable('X_scaled')\"\n",
              "            title=\"Generate code using this dataframe.\"\n",
              "            style=\"display:none;\">\n",
              "\n",
              "  <svg xmlns=\"http://www.w3.org/2000/svg\" height=\"24px\"viewBox=\"0 0 24 24\"\n",
              "       width=\"24px\">\n",
              "    <path d=\"M7,19H8.4L18.45,9,17,7.55,7,17.6ZM5,21V16.75L18.45,3.32a2,2,0,0,1,2.83,0l1.4,1.43a1.91,1.91,0,0,1,.58,1.4,1.91,1.91,0,0,1-.58,1.4L9.25,21ZM18.45,9,17,7.55Zm-12,3A5.31,5.31,0,0,0,4.9,8.1,5.31,5.31,0,0,0,1,6.5,5.31,5.31,0,0,0,4.9,4.9,5.31,5.31,0,0,0,6.5,1,5.31,5.31,0,0,0,8.1,4.9,5.31,5.31,0,0,0,12,6.5,5.46,5.46,0,0,0,6.5,12Z\"/>\n",
              "  </svg>\n",
              "    </button>\n",
              "    <script>\n",
              "      (() => {\n",
              "      const buttonEl =\n",
              "        document.querySelector('#id_ecfbbcb2-b9c8-4b6a-a4a4-d59c8b45acbf button.colab-df-generate');\n",
              "      buttonEl.style.display =\n",
              "        google.colab.kernel.accessAllowed ? 'block' : 'none';\n",
              "\n",
              "      buttonEl.onclick = () => {\n",
              "        google.colab.notebook.generateWithVariable('X_scaled');\n",
              "      }\n",
              "      })();\n",
              "    </script>\n",
              "  </div>\n",
              "\n",
              "    </div>\n",
              "  </div>\n"
            ],
            "application/vnd.google.colaboratory.intrinsic+json": {
              "type": "dataframe",
              "variable_name": "X_scaled",
              "summary": "{\n  \"name\": \"X_scaled\",\n  \"rows\": 891,\n  \"fields\": [\n    {\n      \"column\": \"Pclass\",\n      \"properties\": {\n        \"dtype\": \"number\",\n        \"std\": 0.41803562048852566,\n        \"min\": 0.0,\n        \"max\": 1.0,\n        \"num_unique_values\": 3,\n        \"samples\": [\n          1.0,\n          0.0,\n          0.5\n        ],\n        \"semantic_type\": \"\",\n        \"description\": \"\"\n      }\n    },\n    {\n      \"column\": \"Age\",\n      \"properties\": {\n        \"dtype\": \"number\",\n        \"std\": 0.16338295081682433,\n        \"min\": 0.0,\n        \"max\": 1.0,\n        \"num_unique_values\": 89,\n        \"samples\": [\n          0.7361146016587082,\n          0.4533802462930384,\n          0.35285247549635584\n        ],\n        \"semantic_type\": \"\",\n        \"description\": \"\"\n      }\n    },\n    {\n      \"column\": \"SibSp\",\n      \"properties\": {\n        \"dtype\": \"number\",\n        \"std\": 0.13784292903667844,\n        \"min\": 0.0,\n        \"max\": 1.0,\n        \"num_unique_values\": 7,\n        \"samples\": [\n          0.125,\n          0.0,\n          0.625\n        ],\n        \"semantic_type\": \"\",\n        \"description\": \"\"\n      }\n    },\n    {\n      \"column\": \"Parch\",\n      \"properties\": {\n        \"dtype\": \"number\",\n        \"std\": 0.13434287018832358,\n        \"min\": 0.0,\n        \"max\": 1.0,\n        \"num_unique_values\": 7,\n        \"samples\": [\n          0.0,\n          0.16666666666666666,\n          0.6666666666666666\n        ],\n        \"semantic_type\": \"\",\n        \"description\": \"\"\n      }\n    },\n    {\n      \"column\": \"Fare\",\n      \"properties\": {\n        \"dtype\": \"number\",\n        \"std\": 0.09699511290237,\n        \"min\": 0.0,\n        \"max\": 1.0,\n        \"num_unique_values\": 248,\n        \"samples\": [\n          0.021942337075458514,\n          0.10122885832000206,\n          0.015078195816283748\n        ],\n        \"semantic_type\": \"\",\n        \"description\": \"\"\n      }\n    },\n    {\n      \"column\": \"Sex_female\",\n      \"properties\": {\n        \"dtype\": \"number\",\n        \"std\": 0.47799007089609846,\n        \"min\": 0.0,\n        \"max\": 1.0,\n        \"num_unique_values\": 2,\n        \"samples\": [\n          1.0,\n          0.0\n        ],\n        \"semantic_type\": \"\",\n        \"description\": \"\"\n      }\n    },\n    {\n      \"column\": \"Sex_male\",\n      \"properties\": {\n        \"dtype\": \"number\",\n        \"std\": 0.47799007089609846,\n        \"min\": 0.0,\n        \"max\": 1.0,\n        \"num_unique_values\": 2,\n        \"samples\": [\n          0.0,\n          1.0\n        ],\n        \"semantic_type\": \"\",\n        \"description\": \"\"\n      }\n    },\n    {\n      \"column\": \"Embarked_C\",\n      \"properties\": {\n        \"dtype\": \"number\",\n        \"std\": 0.3913721645054724,\n        \"min\": 0.0,\n        \"max\": 1.0,\n        \"num_unique_values\": 2,\n        \"samples\": [\n          1.0,\n          0.0\n        ],\n        \"semantic_type\": \"\",\n        \"description\": \"\"\n      }\n    },\n    {\n      \"column\": \"Embarked_Q\",\n      \"properties\": {\n        \"dtype\": \"number\",\n        \"std\": 0.2811406921417041,\n        \"min\": 0.0,\n        \"max\": 1.0,\n        \"num_unique_values\": 2,\n        \"samples\": [\n          1.0,\n          0.0\n        ],\n        \"semantic_type\": \"\",\n        \"description\": \"\"\n      }\n    },\n    {\n      \"column\": \"Embarked_S\",\n      \"properties\": {\n        \"dtype\": \"number\",\n        \"std\": 0.4467509100341501,\n        \"min\": 0.0,\n        \"max\": 1.0,\n        \"num_unique_values\": 2,\n        \"samples\": [\n          0.0,\n          1.0\n        ],\n        \"semantic_type\": \"\",\n        \"description\": \"\"\n      }\n    }\n  ]\n}"
            }
          },
          "metadata": {},
          "execution_count": 26
        }
      ]
    },
    {
      "cell_type": "code",
      "execution_count": null,
      "id": "violent-collector",
      "metadata": {
        "id": "violent-collector"
      },
      "outputs": [],
      "source": [
        "import numpy as np #  aliase name   array 4x2"
      ]
    },
    {
      "cell_type": "markdown",
      "id": "freelance-sheffield",
      "metadata": {
        "id": "freelance-sheffield"
      },
      "source": [
        "## 1. Array Creation\n",
        "* np.array()\n",
        "* np.zeros()\n",
        "* np.ones()\n",
        "* np.empty()\n",
        "* np.eye()\n",
        "* np.asarray()\n",
        "* numpy.arange()\n",
        "* np.linspace()\n",
        "### 1.1 np.array()\n",
        "Create an array.\n",
        "\n",
        "* np.array(object, dtype=None, copy=True, order='K', subok=False, ndmin=0)"
      ]
    },
    {
      "cell_type": "code",
      "execution_count": null,
      "id": "referenced-amazon",
      "metadata": {
        "id": "referenced-amazon",
        "outputId": "508461b7-7765-468c-ed86-58b3f1d32f01",
        "colab": {
          "base_uri": "https://localhost:8080/"
        }
      },
      "outputs": [
        {
          "output_type": "stream",
          "name": "stdout",
          "text": [
            "one-dimensional array: [1 2 3 4 5 6]\n"
          ]
        }
      ],
      "source": [
        "a = np.array([1,2,3,4,5,6]) # create a one-dimensional array\n",
        "print(\"one-dimensional array:\", a)"
      ]
    },
    {
      "cell_type": "code",
      "execution_count": null,
      "id": "instructional-parameter",
      "metadata": {
        "id": "instructional-parameter",
        "outputId": "7713c74b-da6b-4183-9068-6585673208d5",
        "colab": {
          "base_uri": "https://localhost:8080/"
        }
      },
      "outputs": [
        {
          "output_type": "stream",
          "name": "stdout",
          "text": [
            "multidimensional array: \n",
            " [[1 2 3]\n",
            " [4 5 6]\n",
            " [7 8 9]]\n"
          ]
        }
      ],
      "source": [
        "b = np.array([[1,2,3],[4,5,6],[7,8,9]]) # create a multidimensional array  [[row1],[row2],[row3]]\n",
        "print(\"multidimensional array:\",'\\n' ,b) #3x3"
      ]
    },
    {
      "cell_type": "code",
      "source": [
        "b = np.array([[1,2,3],\n",
        "              [4,5,6],\n",
        "              [7,8,9]])\n",
        "b.shape"
      ],
      "metadata": {
        "colab": {
          "base_uri": "https://localhost:8080/"
        },
        "id": "cxYnwizDFIQn",
        "outputId": "9e7e1e02-d4f5-4e61-aaa5-153ad3f40891"
      },
      "id": "cxYnwizDFIQn",
      "execution_count": null,
      "outputs": [
        {
          "output_type": "execute_result",
          "data": {
            "text/plain": [
              "(3, 3)"
            ]
          },
          "metadata": {},
          "execution_count": 4
        }
      ]
    },
    {
      "cell_type": "code",
      "execution_count": null,
      "id": "optimum-accommodation",
      "metadata": {
        "id": "optimum-accommodation",
        "outputId": "127c77e6-4a44-4100-d090-13f373f7dd86",
        "colab": {
          "base_uri": "https://localhost:8080/"
        }
      },
      "outputs": [
        {
          "output_type": "stream",
          "name": "stdout",
          "text": [
            "multidimensional array: \n",
            " [[1 2 3]\n",
            " [4 5 6]]\n"
          ]
        }
      ],
      "source": [
        "a=np.array([(1,2,3),(4,5,6)])\n",
        "print(\"multidimensional array:\" ,'\\n',a)"
      ]
    },
    {
      "cell_type": "markdown",
      "id": "advanced-gamma",
      "metadata": {
        "id": "advanced-gamma"
      },
      "source": [
        "### 1.2 np.zeros(), np.ones(), np.empty()\n",
        "Often, the elements of an array are originally unknown, but its size is known. Hence, NumPy offers\n",
        "\n",
        "several functions to create arrays with initial placeholder content. These minimize the necessity of\n",
        "growing arrays, an expensive operation.\n",
        "\n",
        "The function zeros creates an array full of zeros, the function ones creates an array full of ones,\n",
        "and the function empty creates an array whose initial content is random and depends on the state\n",
        "of the memory. By default, the dtype of the created array is float64.\n",
        "\n",
        "* np.zeros(shape, dtype=float,order='C')\n",
        "* np.zeros(shape, dtype=float, order='C')\n",
        "* np.ones(shape, dtype=None, order='C')\n",
        "* np.empty(shape, dtype=float, order='C')"
      ]
    },
    {
      "cell_type": "code",
      "execution_count": null,
      "id": "undefined-firewall",
      "metadata": {
        "id": "undefined-firewall",
        "outputId": "3a573a6f-9728-4b6b-b64d-a41e19feeab1",
        "colab": {
          "base_uri": "https://localhost:8080/"
        }
      },
      "outputs": [
        {
          "output_type": "stream",
          "name": "stdout",
          "text": [
            "array full of zeros: \n",
            " [[0. 0.]\n",
            " [0. 0.]]\n"
          ]
        }
      ],
      "source": [
        "c = np.zeros([2,2]) #([row,col])\n",
        "print(\"array full of zeros:\",'\\n',c)"
      ]
    },
    {
      "cell_type": "code",
      "execution_count": null,
      "id": "another-dinner",
      "metadata": {
        "id": "another-dinner",
        "outputId": "f9760203-cf34-47d9-b719-6c344051d7ac",
        "colab": {
          "base_uri": "https://localhost:8080/"
        }
      },
      "outputs": [
        {
          "output_type": "stream",
          "name": "stdout",
          "text": [
            "array full of zeros: \n",
            " [[0. 0.]\n",
            " [0. 0.]]\n"
          ]
        }
      ],
      "source": [
        "c = np.zeros((2,2)) #((row,col))\n",
        "print(\"array full of zeros:\",'\\n',c)"
      ]
    },
    {
      "cell_type": "code",
      "execution_count": null,
      "id": "rolled-royalty",
      "metadata": {
        "id": "rolled-royalty",
        "outputId": "31c273c5-9f4d-44ca-e2ea-f905d990cc4b",
        "colab": {
          "base_uri": "https://localhost:8080/"
        }
      },
      "outputs": [
        {
          "output_type": "stream",
          "name": "stdout",
          "text": [
            "array full of ones: \n",
            " [[1. 1. 1.]\n",
            " [1. 1. 1.]\n",
            " [1. 1. 1.]]\n"
          ]
        }
      ],
      "source": [
        "d = np.ones([3,3])#([row,col])\n",
        "print(\"array full of ones: \\n\",d)"
      ]
    },
    {
      "cell_type": "code",
      "execution_count": null,
      "id": "changing-platinum",
      "metadata": {
        "id": "changing-platinum",
        "outputId": "1d734ea8-6e30-4156-f9d4-74f4087818fd",
        "colab": {
          "base_uri": "https://localhost:8080/"
        }
      },
      "outputs": [
        {
          "output_type": "stream",
          "name": "stdout",
          "text": [
            "array full of ones: \n",
            " [[1. 1.]\n",
            " [1. 1.]]\n"
          ]
        }
      ],
      "source": [
        "d = np.ones((2,2))\n",
        "print(\"array full of ones: \\n\",d)"
      ]
    },
    {
      "cell_type": "markdown",
      "id": "armed-church",
      "metadata": {
        "id": "armed-church"
      },
      "source": [
        "### 1.3 np.eye()\n",
        "create identity matrix\n",
        "\n",
        "Return a 2-D array with ones on the diagonal and zeros elsewhere.\n",
        "\n",
        "np.eye(N, M=None, k=0, dtype=float, order='C')"
      ]
    },
    {
      "cell_type": "code",
      "execution_count": null,
      "id": "suited-tongue",
      "metadata": {
        "id": "suited-tongue",
        "outputId": "c86061e8-2a50-49fa-feff-2e86960389fe",
        "colab": {
          "base_uri": "https://localhost:8080/"
        }
      },
      "outputs": [
        {
          "output_type": "execute_result",
          "data": {
            "text/plain": [
              "array([[1., 0., 0.],\n",
              "       [0., 1., 0.],\n",
              "       [0., 0., 1.]])"
            ]
          },
          "metadata": {},
          "execution_count": 5
        }
      ],
      "source": [
        "np.eye(3)"
      ]
    },
    {
      "cell_type": "markdown",
      "id": "statutory-magic",
      "metadata": {
        "id": "statutory-magic"
      },
      "source": [
        "### 1.4 np.asarray()\n",
        "\n",
        "Convert the input to an array.\n",
        "\n",
        "np.asarray(a, dtype = None, order = None)"
      ]
    },
    {
      "cell_type": "code",
      "execution_count": null,
      "id": "alpha-october",
      "metadata": {
        "id": "alpha-october",
        "outputId": "147d1a26-4f47-44fe-82d9-f9d39e703b47"
      },
      "outputs": [
        {
          "name": "stdout",
          "output_type": "stream",
          "text": [
            "one-dimensional array: \n",
            " [1 2 3 4 5 6]\n"
          ]
        }
      ],
      "source": [
        "e = np.asarray([1,2,3,4,5,6])\n",
        "print(\"one-dimensional array: \\n\", e)"
      ]
    },
    {
      "cell_type": "markdown",
      "id": "encouraging-cambodia",
      "metadata": {
        "id": "encouraging-cambodia"
      },
      "source": [
        "### 1.5 the difference between array() and asarray()\n",
        "\n",
        "The main difference is that array (by default) will make a copy of the object, while asarray will not\n",
        "unless necessary."
      ]
    },
    {
      "cell_type": "code",
      "execution_count": null,
      "id": "temporal-binary",
      "metadata": {
        "id": "temporal-binary",
        "outputId": "d9a8fb22-61e3-41d4-b2ae-04a8c480930a"
      },
      "outputs": [
        {
          "name": "stdout",
          "output_type": "stream",
          "text": [
            "data:  False\n",
            "data: False\n",
            "data:  True\n",
            "data: False\n"
          ]
        }
      ],
      "source": [
        "a = np.array([1, 2], dtype=np.float32)\n",
        "\n",
        "print(\"data: \",np.array(a, dtype=np.float32) is a)\n",
        "print(\"data:\",np.array(a, dtype=np.float64) is a)\n",
        "print(\"data: \",np.asarray(a, dtype=np.float32) is a)\n",
        "print(\"data:\",np.asarray(a, dtype=np.float64) is a)\n"
      ]
    },
    {
      "cell_type": "markdown",
      "id": "modular-timer",
      "metadata": {
        "id": "modular-timer"
      },
      "source": [
        "### 1.6 np.arange()\n",
        "To create sequences of numbers, NumPy provides the arange function which is analogous to the\n",
        "Python built-in range, but returns an array.\n",
        "\n",
        "numpy.arange([start, ]stop, [step, ]dtype=None)\n",
        "\n",
        " * start: number, optional; Start of interval. The interval includes this value. The default start value is 0.\n",
        " * stop: number,End of interval. The interval does not include this value, except in some cases where step is not an integer and floating point         round-off affects the length of out.\n",
        " * step: number, optional; Spacing between values. For any output out, this is the distance between two adjacent values, out[i+1] - out[i]. The         default step size is 1. If step is specified as a position argument, start must also be given."
      ]
    },
    {
      "cell_type": "code",
      "execution_count": null,
      "id": "processed-workstation",
      "metadata": {
        "id": "processed-workstation",
        "outputId": "d45d9808-dcfc-470f-f06a-a85d7cf24cdd",
        "colab": {
          "base_uri": "https://localhost:8080/"
        }
      },
      "outputs": [
        {
          "output_type": "stream",
          "name": "stdout",
          "text": [
            "sequences of numbers in array: [10 11 12 13 14 15 16 17 18 19 20 21 22 23 24 25 26 27 28 29 30 31 32 33\n",
            " 34 35 36 37 38 39 40 41 42 43 44 45 46 47 48 49 50 51 52 53 54 55 56 57\n",
            " 58 59 60 61 62 63 64 65 66 67 68 69 70 71 72 73 74 75 76 77 78 79 80 81\n",
            " 82 83 84 85 86 87 88 89 90 91 92 93 94 95 96 97 98 99]\n"
          ]
        }
      ],
      "source": [
        "f = np.arange(10,100)\n",
        "print(\"sequences of numbers in array:\",f)"
      ]
    },
    {
      "cell_type": "markdown",
      "id": "agreed-proposal",
      "metadata": {
        "id": "agreed-proposal"
      },
      "source": [
        "### 1.7 np.linspace()\n",
        "\n",
        "Return evenly spaced numbers over a specified interval.\n",
        "\n",
        "Returns num evenly spaced samples, calculated over the interval [start, stop].\n",
        "\n",
        "The endpoint of the interval can optionally be excluded.\n",
        "\n",
        " * np.linspace(start, stop, num=50, endpoint=True, retstep=False, dtype=None, axis=0)"
      ]
    },
    {
      "cell_type": "code",
      "execution_count": null,
      "id": "hidden-specification",
      "metadata": {
        "id": "hidden-specification",
        "outputId": "e183d35f-e4ec-4bdc-ceb4-17aeec6f992e",
        "colab": {
          "base_uri": "https://localhost:8080/"
        }
      },
      "outputs": [
        {
          "output_type": "execute_result",
          "data": {
            "text/plain": [
              "array([0.        , 0.05263158, 0.10526316, 0.15789474, 0.21052632,\n",
              "       0.26315789, 0.31578947, 0.36842105, 0.42105263, 0.47368421,\n",
              "       0.52631579, 0.57894737, 0.63157895, 0.68421053, 0.73684211,\n",
              "       0.78947368, 0.84210526, 0.89473684, 0.94736842, 1.        ])"
            ]
          },
          "metadata": {},
          "execution_count": 8
        }
      ],
      "source": [
        "h=np.linspace(0,1,20)\n",
        "h"
      ]
    },
    {
      "cell_type": "code",
      "execution_count": null,
      "id": "celtic-observer",
      "metadata": {
        "id": "celtic-observer",
        "outputId": "5dd53cb4-7f57-406e-bc27-61b5d616e759"
      },
      "outputs": [
        {
          "name": "stdout",
          "output_type": "stream",
          "text": [
            "[ 0. 11. 22. 33. 44. 55. 66. 77. 88. 99.]\n"
          ]
        }
      ],
      "source": [
        "g = np.linspace(0,99,10)\n",
        "print(g)"
      ]
    },
    {
      "cell_type": "markdown",
      "id": "detailed-attempt",
      "metadata": {
        "id": "detailed-attempt"
      },
      "source": [
        "## 2. Important attributes of an ndarray object\n",
        "\n",
        "* ndarray.ndim\n",
        "\n",
        "  the number of axes (dimensions) of the array.\n",
        "  \n",
        "* ndarray.shape\n",
        "\n",
        "    the dimensions of the array. This is a tuple of integers indicating the size of the array in each dimension. For a matrix with n rows and m     columns, shape will be (n,m). The length of the shape tuple is therefore the number of axes, ndim.\n",
        "    \n",
        "* ndarray.size\n",
        "\n",
        "  the total number of elements of the array. This is equal to the product of the elements of shape.\n",
        "  \n",
        "* ndarray.dtype\n",
        "\n",
        "    an object describing the type of the elements in the array. One can create or specify dtype’s using standard Python types. Additionally         NumPy provides types of its own.\n",
        "    numpy.int32, numpy.int16, and numpy.float64 are some examples.\n",
        "    \n",
        "* ndarray.itemsize\n",
        "\n",
        "    the size in bytes of each element of the array. For example, an array of elements of type float64 has itemsize 8 (=64/8), while one of type     complex32 has itemsize 4 (=32/8). It is equivalent to ndarray.dtype.itemsize.\n",
        "    \n",
        "* ndarray.data\n",
        "\n",
        "    the buffer containing the actual elements of the array. Normally, we won’t need to use this attribute because we will access the elements       in an array using indexing facilities."
      ]
    },
    {
      "cell_type": "code",
      "execution_count": null,
      "id": "preliminary-schedule",
      "metadata": {
        "id": "preliminary-schedule",
        "outputId": "71709fb2-62c3-4f7e-f71d-8cd5a9a8cf3c"
      },
      "outputs": [
        {
          "data": {
            "text/plain": [
              "(3, 2)"
            ]
          },
          "execution_count": 15,
          "metadata": {},
          "output_type": "execute_result"
        }
      ],
      "source": [
        "a = np.array([[1,2],[3,4],[5,6]],dtype=np.float32)  #3*2\n",
        "a.shape"
      ]
    },
    {
      "cell_type": "code",
      "execution_count": null,
      "id": "talented-offering",
      "metadata": {
        "id": "talented-offering",
        "outputId": "9e801a7a-acab-4d2d-cf1a-a7b8d846629d"
      },
      "outputs": [
        {
          "data": {
            "text/plain": [
              "6"
            ]
          },
          "execution_count": 16,
          "metadata": {},
          "output_type": "execute_result"
        }
      ],
      "source": [
        "a.size"
      ]
    },
    {
      "cell_type": "code",
      "execution_count": null,
      "id": "compound-stadium",
      "metadata": {
        "id": "compound-stadium",
        "outputId": "bd8b52ad-99c4-4c07-96a8-041bd4f9c9fa"
      },
      "outputs": [
        {
          "data": {
            "text/plain": [
              "2"
            ]
          },
          "execution_count": 17,
          "metadata": {},
          "output_type": "execute_result"
        }
      ],
      "source": [
        "a.ndim"
      ]
    },
    {
      "cell_type": "code",
      "execution_count": null,
      "id": "bulgarian-hometown",
      "metadata": {
        "id": "bulgarian-hometown",
        "outputId": "5c40b637-b33c-484f-f935-8f957d58e0fe"
      },
      "outputs": [
        {
          "data": {
            "text/plain": [
              "dtype('float32')"
            ]
          },
          "execution_count": 18,
          "metadata": {},
          "output_type": "execute_result"
        }
      ],
      "source": [
        "a.dtype"
      ]
    },
    {
      "cell_type": "markdown",
      "id": "cheap-seeking",
      "metadata": {
        "id": "cheap-seeking"
      },
      "source": [
        "## 3. Indexing, Slicing and Iterating\n",
        "\n",
        "ndrrays can be indexed, sliced and iterated over, much like lists and other Python sequences."
      ]
    },
    {
      "cell_type": "code",
      "execution_count": null,
      "id": "stupid-violation",
      "metadata": {
        "id": "stupid-violation",
        "outputId": "d07cd3b1-289e-44b2-c036-1db328261a1c"
      },
      "outputs": [
        {
          "name": "stdout",
          "output_type": "stream",
          "text": [
            "a: \n",
            " [[1 2]\n",
            " [3 4]]\n",
            "b: 2\n"
          ]
        }
      ],
      "source": [
        "a = np.array([[1, 2],\n",
        "              [3, 4]])\n",
        "b = a[0][1]\n",
        "print('a: \\n',a)\n",
        "print('b:',b)"
      ]
    },
    {
      "cell_type": "code",
      "execution_count": null,
      "id": "complex-filling",
      "metadata": {
        "id": "complex-filling",
        "outputId": "fb4437ac-01ae-47b5-cd52-c916c86006a2"
      },
      "outputs": [
        {
          "data": {
            "text/plain": [
              "array([[1, 2]])"
            ]
          },
          "execution_count": 20,
          "metadata": {},
          "output_type": "execute_result"
        }
      ],
      "source": [
        "a[0:1,0:2]       #a[first_index :lastindex+1, first_index:last_index+1]"
      ]
    },
    {
      "cell_type": "code",
      "execution_count": null,
      "id": "sticky-tender",
      "metadata": {
        "id": "sticky-tender",
        "outputId": "205a68bc-b4a0-4771-ca94-bc91b7028f3c"
      },
      "outputs": [
        {
          "ename": "TypeError",
          "evalue": "list indices must be integers or slices, not tuple",
          "output_type": "error",
          "traceback": [
            "\u001b[0;31m---------------------------------------------------------------------------\u001b[0m",
            "\u001b[0;31mTypeError\u001b[0m                                 Traceback (most recent call last)",
            "\u001b[0;32m<ipython-input-21-db86267a3ed9>\u001b[0m in \u001b[0;36m<module>\u001b[0;34m\u001b[0m\n\u001b[1;32m      1\u001b[0m \u001b[0ml\u001b[0m\u001b[0;34m=\u001b[0m\u001b[0;34m[\u001b[0m\u001b[0;34m[\u001b[0m\u001b[0;36m1\u001b[0m\u001b[0;34m,\u001b[0m \u001b[0;36m2\u001b[0m\u001b[0;34m]\u001b[0m\u001b[0;34m,\u001b[0m \u001b[0;34m[\u001b[0m\u001b[0;36m3\u001b[0m\u001b[0;34m,\u001b[0m \u001b[0;36m4\u001b[0m\u001b[0;34m]\u001b[0m\u001b[0;34m]\u001b[0m\u001b[0;34m\u001b[0m\u001b[0;34m\u001b[0m\u001b[0m\n\u001b[0;32m----> 2\u001b[0;31m \u001b[0ml\u001b[0m\u001b[0;34m[\u001b[0m\u001b[0;36m0\u001b[0m\u001b[0;34m:\u001b[0m\u001b[0;36m1\u001b[0m\u001b[0;34m,\u001b[0m\u001b[0;36m0\u001b[0m\u001b[0;34m:\u001b[0m\u001b[0;36m2\u001b[0m\u001b[0;34m]\u001b[0m\u001b[0;34m\u001b[0m\u001b[0;34m\u001b[0m\u001b[0m\n\u001b[0m",
            "\u001b[0;31mTypeError\u001b[0m: list indices must be integers or slices, not tuple"
          ]
        }
      ],
      "source": [
        "l=[[1, 2], [3, 4]]\n",
        "l[0:1,0:2]"
      ]
    },
    {
      "cell_type": "code",
      "execution_count": null,
      "id": "elegant-allergy",
      "metadata": {
        "id": "elegant-allergy",
        "outputId": "8bad7371-c5cd-4ea8-d03e-32e7aae1c18f",
        "colab": {
          "base_uri": "https://localhost:8080/"
        }
      },
      "outputs": [
        {
          "output_type": "execute_result",
          "data": {
            "text/plain": [
              "array([0, 1, 2, 3, 4, 5, 6, 7, 8, 9])"
            ]
          },
          "metadata": {},
          "execution_count": 16
        }
      ],
      "source": [
        "np.arange(10)"
      ]
    },
    {
      "cell_type": "code",
      "execution_count": null,
      "id": "described-software",
      "metadata": {
        "id": "described-software",
        "outputId": "6803e715-af80-49b6-d2b3-03117232dac4",
        "colab": {
          "base_uri": "https://localhost:8080/"
        }
      },
      "outputs": [
        {
          "output_type": "stream",
          "name": "stdout",
          "text": [
            "[2 4 6]\n",
            "[2 3 4 5 6 7]\n",
            "2\n",
            "[2 3 4 5 6 7 8 9]\n"
          ]
        }
      ],
      "source": [
        "# Slicing\n",
        "a = np.arange(10)\n",
        "\n",
        "print(a[2:8:2])\n",
        "print(a[2:8])\n",
        "print(a[2])\n",
        "print(a[2:])"
      ]
    },
    {
      "cell_type": "markdown",
      "id": "arctic-large",
      "metadata": {
        "id": "arctic-large"
      },
      "source": [
        "## 4. Change the shape of an array\n",
        "\n",
        "Gives a new shape to an array without changing its data.\n",
        "\n",
        "* numpy.reshape(a, newshape, order='C')"
      ]
    },
    {
      "cell_type": "code",
      "source": [
        "np.arange(6)"
      ],
      "metadata": {
        "colab": {
          "base_uri": "https://localhost:8080/"
        },
        "id": "P_5UXjbVLqpk",
        "outputId": "19c0c6bd-5664-451d-a5c9-aeb4b251bbb2"
      },
      "id": "P_5UXjbVLqpk",
      "execution_count": null,
      "outputs": [
        {
          "output_type": "execute_result",
          "data": {
            "text/plain": [
              "array([0, 1, 2, 3, 4, 5])"
            ]
          },
          "metadata": {},
          "execution_count": 18
        }
      ]
    },
    {
      "cell_type": "code",
      "execution_count": null,
      "id": "coastal-mineral",
      "metadata": {
        "id": "coastal-mineral",
        "outputId": "ecc79b59-f492-4f28-ba5e-18dc547317ca"
      },
      "outputs": [
        {
          "name": "stdout",
          "output_type": "stream",
          "text": [
            "[0 1 2 3 4 5]\n",
            "[[0 1 2]\n",
            " [3 4 5]]\n"
          ]
        }
      ],
      "source": [
        "a = np.arange(6)\n",
        "\n",
        "b = a.reshape(2,3) # rows,cols\n",
        "print(a)\n",
        "print(b)"
      ]
    },
    {
      "cell_type": "markdown",
      "id": "welsh-appreciation",
      "metadata": {
        "id": "welsh-appreciation"
      },
      "source": [
        "## 5. Broadcasting\n",
        "\n",
        "The term broadcasting describes how numpy treats arrays with different shapes during arithmetic\n",
        "operations. Subject to certain constraints, the smaller array is “broadcast” across the larger array\n",
        "so that they have compatible shapes. Broadcasting provides a means of vectorizing array\n",
        "operations so that looping occurs in C instead of Python. It does this without making needless\n",
        "copies of data and usually leads to efficient algorithm implementations. There are, however, cases\n",
        "where broadcasting is a bad idea because it leads to inefficient use of memory that slows\n",
        "computation.\n",
        "\n",
        "NumPy operations are usually done on pairs of arrays on an element-by-element basis. In the\n",
        "simplest case, the two arrays must have exactly the same shape,"
      ]
    },
    {
      "cell_type": "code",
      "execution_count": null,
      "id": "regulated-alaska",
      "metadata": {
        "id": "regulated-alaska",
        "outputId": "b1d9d381-2c05-495c-9e40-18d9be8d1e4e",
        "colab": {
          "base_uri": "https://localhost:8080/"
        }
      },
      "outputs": [
        {
          "output_type": "stream",
          "name": "stdout",
          "text": [
            "[ 1  4  9 16]\n"
          ]
        }
      ],
      "source": [
        "a = np.array([1,2,3,4])\n",
        "b = np.array([1,2,3,4])\n",
        "c = a * b\n",
        "print(c)"
      ]
    },
    {
      "cell_type": "markdown",
      "id": "victorian-marsh",
      "metadata": {
        "id": "victorian-marsh"
      },
      "source": [
        "When operating on two arrays, NumPy compares their shapes element-wise. It starts with the\n",
        "\n",
        "trailing dimensions and works its way forward. Two dimensions are compatible when\n",
        "\n",
        "* they are equal, or\n",
        "* one of them is 1\n",
        "\n",
        "If these conditions are not met, a ValueError: operands could not be broadcast together exception\n",
        "is thrown, indicating that the arrays have incompatible shapes. The size of the resulting array is the\n",
        "size that is not 1 along each axis of the inputs.\n",
        "\n",
        "Arrays do not need to have the same number of dimensions. For example, if you have a\n",
        "256x256x3 array of RGB values, and you want to scale each color in the image by a different\n",
        "value, you can multiply the image by a one-dimensional array with 3 values."
      ]
    },
    {
      "cell_type": "code",
      "execution_count": null,
      "id": "informal-prompt",
      "metadata": {
        "id": "informal-prompt",
        "outputId": "9c5f0ea4-5ca7-4445-9af4-1da2c2a41599",
        "colab": {
          "base_uri": "https://localhost:8080/"
        }
      },
      "outputs": [
        {
          "output_type": "stream",
          "name": "stdout",
          "text": [
            "(3, 3)\n",
            "(3,)\n",
            "b = \n",
            " [1 2 3]\n"
          ]
        },
        {
          "output_type": "execute_result",
          "data": {
            "text/plain": [
              "array([[ 2,  4,  6],\n",
              "       [ 5,  7,  9],\n",
              "       [ 8, 10, 12]])"
            ]
          },
          "metadata": {},
          "execution_count": 10
        }
      ],
      "source": [
        "import numpy as np\n",
        "a = np.array([[1, 2, 3],[4, 5, 6],[7, 8, 9]])\n",
        "b = np.array([1, 2, 3])\n",
        "print(a.shape)\n",
        "print(b.shape)\n",
        "print(\"b = \\n\",b)\n",
        "a+b"
      ]
    },
    {
      "cell_type": "code",
      "execution_count": null,
      "id": "separated-attraction",
      "metadata": {
        "id": "separated-attraction",
        "outputId": "e272a266-2aeb-4d66-98f6-b9e0ec317212"
      },
      "outputs": [
        {
          "data": {
            "text/plain": [
              "array([[1, 2, 3],\n",
              "       [1, 2, 3],\n",
              "       [1, 2, 3]])"
            ]
          },
          "execution_count": 29,
          "metadata": {},
          "output_type": "execute_result"
        }
      ],
      "source": [
        "np.array([b,b,b])"
      ]
    },
    {
      "cell_type": "code",
      "execution_count": null,
      "id": "alive-abuse",
      "metadata": {
        "id": "alive-abuse",
        "outputId": "8532e981-322a-4cf7-a8c4-0f3ae2d501ad"
      },
      "outputs": [
        {
          "name": "stdout",
          "output_type": "stream",
          "text": [
            "a:\n",
            " [[1 2 3]\n",
            " [4 5 6]\n",
            " [7 8 9]]\n",
            "broadcasting:\n",
            " [[ 2  4  6]\n",
            " [ 5  7  9]\n",
            " [ 8 10 12]]\n"
          ]
        }
      ],
      "source": [
        "c = a + b\n",
        "print(\"a:\\n\",a)\n",
        "print(\"broadcasting:\\n\",c)"
      ]
    },
    {
      "cell_type": "markdown",
      "id": "chubby-mother",
      "metadata": {
        "id": "chubby-mother"
      },
      "source": [
        "## 6. NumPy common functions\n",
        "\n",
        "### 6.1 ndarray.flat()\n",
        "\n",
        "A 1-D iterator over the array.\n",
        "\n",
        "This is a numpy.flatiter instance, which acts similarly to, but is not a subclass of, Python’s built-in\n",
        "iterator object."
      ]
    },
    {
      "cell_type": "code",
      "execution_count": null,
      "id": "critical-argentina",
      "metadata": {
        "id": "critical-argentina",
        "outputId": "eb4aa4b7-f341-4285-a592-bc9247496b1c"
      },
      "outputs": [
        {
          "name": "stdout",
          "output_type": "stream",
          "text": [
            "[[1 2 3]\n",
            " [4 5 6]\n",
            " [7 8 9]]\n"
          ]
        }
      ],
      "source": [
        "a = np.array([[1, 2, 3],[4, 5, 6],[7, 8, 9]])\n",
        "print(a)\n"
      ]
    },
    {
      "cell_type": "code",
      "execution_count": null,
      "id": "judicial-skirt",
      "metadata": {
        "id": "judicial-skirt",
        "outputId": "42d9b5d3-0f29-4558-c2f0-ac1ef9ac14bd"
      },
      "outputs": [
        {
          "name": "stdout",
          "output_type": "stream",
          "text": [
            "[1 2 3 4 5 6 7 8 9]\n"
          ]
        }
      ],
      "source": [
        "print(a.flat[:])"
      ]
    },
    {
      "cell_type": "markdown",
      "id": "descending-smooth",
      "metadata": {
        "id": "descending-smooth"
      },
      "source": [
        "### 6.2 ndarray.transpose()\n",
        "Returns a view of the array with axes transposed"
      ]
    },
    {
      "cell_type": "code",
      "execution_count": null,
      "id": "natural-blackjack",
      "metadata": {
        "id": "natural-blackjack",
        "outputId": "ef503dba-6dd8-43e7-deec-b1287a05d254"
      },
      "outputs": [
        {
          "name": "stdout",
          "output_type": "stream",
          "text": [
            "[[1 2 3]\n",
            " [4 5 6]\n",
            " [7 8 9]]\n",
            "transpose : \n",
            "[[1 4 7]\n",
            " [2 5 8]\n",
            " [3 6 9]]\n"
          ]
        }
      ],
      "source": [
        "a = np.array([[1, 2, 3],[4, 5, 6],[7, 8, 9]])\n",
        "print(a)\n",
        "print(\"transpose : \")\n",
        "print(np.transpose(a))"
      ]
    },
    {
      "cell_type": "markdown",
      "id": "narrow-response",
      "metadata": {
        "id": "narrow-response"
      },
      "source": [
        "### 6.3 numpy.concatenate((a1, a2, ...), axis=0, out=None)\n",
        "\n",
        "Join a sequence of arrays along an existing axis.\n",
        "\n",
        " * a1, a2, ...: The arrays must have the same shape, except in the dimension corresponding to axis (the first, by default).\n",
        " * axis:The axis along which the arrays will be joined. If axis is None, arrays are flattened before use. Default is 0."
      ]
    },
    {
      "cell_type": "code",
      "execution_count": null,
      "id": "little-export",
      "metadata": {
        "id": "little-export",
        "outputId": "adbd2e05-14fe-4bae-fc08-7c8db99297f8"
      },
      "outputs": [
        {
          "name": "stdout",
          "output_type": "stream",
          "text": [
            "a \n",
            " [[0 1 2]\n",
            " [3 4 5]]\n",
            "b \n",
            " [[ 7  8  9]\n",
            " [10 11 12]]\n"
          ]
        }
      ],
      "source": [
        "a = np.arange(6).reshape(2,3)\n",
        "b = np.arange(7,13).reshape(2,3)\n",
        "\n",
        "print(\"a \\n\",a)\n",
        "print(\"b \\n\",b)"
      ]
    },
    {
      "cell_type": "code",
      "execution_count": null,
      "id": "radical-geology",
      "metadata": {
        "id": "radical-geology",
        "outputId": "1215f26c-5780-4b84-e7b4-c76e0d90352f"
      },
      "outputs": [
        {
          "name": "stdout",
          "output_type": "stream",
          "text": [
            "[[ 0  1  2]\n",
            " [ 3  4  5]\n",
            " [ 7  8  9]\n",
            " [10 11 12]]\n",
            "\n",
            "[[ 0  1  2  7  8  9]\n",
            " [ 3  4  5 10 11 12]]\n"
          ]
        }
      ],
      "source": [
        "print(np.concatenate((a,b), axis = 0)) #axis=0 row\n",
        "print()\n",
        "print(np.concatenate((a,b), axis = 1)) #axis=1 col"
      ]
    },
    {
      "cell_type": "code",
      "execution_count": null,
      "id": "fuzzy-completion",
      "metadata": {
        "id": "fuzzy-completion",
        "outputId": "b89c9cb9-f793-456b-f51a-c7f94b2e8e8c"
      },
      "outputs": [
        {
          "name": "stdout",
          "output_type": "stream",
          "text": [
            "[[ 0  1  2]\n",
            " [ 3  4  5]\n",
            " [ 7  8  9]\n",
            " [10 11 12]]\n"
          ]
        }
      ],
      "source": [
        "print(np.concatenate((a,b)))"
      ]
    },
    {
      "cell_type": "markdown",
      "id": "empirical-option",
      "metadata": {
        "id": "empirical-option"
      },
      "source": [
        "## 6.7 numpy.delete(arr, obj, axis=None)\n",
        "\n",
        "Return a new array with sub-arrays along an axis deleted. For a one dimensional array, this returns\n",
        "those entries not returned by arr[obj]."
      ]
    },
    {
      "cell_type": "code",
      "execution_count": null,
      "id": "built-inventory",
      "metadata": {
        "id": "built-inventory",
        "outputId": "a8941714-2dbf-47b5-b1b9-a01d06e63499"
      },
      "outputs": [
        {
          "name": "stdout",
          "output_type": "stream",
          "text": [
            "a= \n",
            " [[0 1 2]\n",
            " [3 4 5]]\n",
            "b= \n",
            " [[0 2]\n",
            " [3 5]]\n",
            "c= \n",
            " [0 2 3 4 5]\n"
          ]
        }
      ],
      "source": [
        "a = np.arange(6).reshape(2,3)\n",
        "b = np.delete(a,1,axis=1)\n",
        "c = np.delete(a,1)\n",
        "print('a= \\n',a)\n",
        "print('b= \\n',b)\n",
        "print('c= \\n',c)"
      ]
    },
    {
      "cell_type": "markdown",
      "id": "intensive-lithuania",
      "metadata": {
        "id": "intensive-lithuania"
      },
      "source": [
        "# 7. Matrix\n",
        "\n",
        "This module contains all functions in the numpy namespace, with the following replacement functions that return matrices instead of ndarrays.\n",
        "\n",
        " * empty(shape[, dtype, order])\n",
        "\n",
        "   Return a new matrix of given shape and type, without initializing entries.\n",
        "   \n",
        " * zeros(shape[, dtype, order])\n",
        "\n",
        "   Return a matrix of given shape and type, filled with zeros.\n",
        "   \n",
        " * ones(shape[, dtype, order])\n",
        "    Return Matrix of ones.\n",
        "    \n",
        " * eye(n[, M, k, dtype, order])\n",
        "\n",
        "   Return a matrix with ones on the diagonal and zeros elsewhere.\n",
        "   \n",
        " * identity(n[, dtype])\n",
        "\n",
        "   Returns the square identity matrix of given size.\n",
        "   \n",
        " * repmat(a, m, n)\n",
        "\n",
        "   Repeat a 0-D to 2-D array or matrix MxN times.\n",
        "   \n",
        " * rand(*args)\n",
        "\n",
        "   Return a matrix of random values with given shape.\n",
        "   \n",
        " * randn(*args)\n",
        "\n",
        "   Return a random matrix with data from the “standard normal” distribution."
      ]
    },
    {
      "cell_type": "markdown",
      "id": "chronic-dancing",
      "metadata": {
        "id": "chronic-dancing"
      },
      "source": [
        "##  7.1 creat a matrix by np.matlib.zeros() and np.matlib.ones()"
      ]
    },
    {
      "cell_type": "code",
      "execution_count": null,
      "id": "careful-aggregate",
      "metadata": {
        "id": "careful-aggregate"
      },
      "outputs": [],
      "source": [
        "from numpy import matlib"
      ]
    },
    {
      "cell_type": "code",
      "execution_count": null,
      "id": "golden-peeing",
      "metadata": {
        "id": "golden-peeing",
        "outputId": "eedef162-bee7-42ac-e37c-5a5fcb65368b"
      },
      "outputs": [
        {
          "name": "stdout",
          "output_type": "stream",
          "text": [
            "a=\n",
            "[[0. 0.]\n",
            " [0. 0.]]\n",
            "b=\n",
            "[[1. 1.]\n",
            " [1. 1.]]\n"
          ]
        }
      ],
      "source": [
        "a=matlib.zeros((2,2)) # matrix full of zeros\n",
        "b=matlib.ones((2,2)) # matrix full of ones\n",
        "print('a=')\n",
        "print(a)\n",
        "print('b=')\n",
        "print(b)"
      ]
    },
    {
      "cell_type": "markdown",
      "id": "behavioral-grass",
      "metadata": {
        "id": "behavioral-grass"
      },
      "source": [
        "### 7.2 creat a diagonal matrix by np.matlib.eye()"
      ]
    },
    {
      "cell_type": "code",
      "execution_count": null,
      "id": "stable-breakfast",
      "metadata": {
        "id": "stable-breakfast",
        "outputId": "3533afce-fe4e-4e74-b67b-126175d8f21e"
      },
      "outputs": [
        {
          "name": "stdout",
          "output_type": "stream",
          "text": [
            "c=\n",
            "[[1. 0. 0.]\n",
            " [0. 1. 0.]\n",
            " [0. 0. 1.]]\n"
          ]
        }
      ],
      "source": [
        "c=np.matlib.eye(3)\n",
        "print('c=')\n",
        "print(c)"
      ]
    },
    {
      "cell_type": "markdown",
      "id": "ruled-lemon",
      "metadata": {
        "id": "ruled-lemon"
      },
      "source": [
        "### 7.3 transfer between array and matrix"
      ]
    },
    {
      "cell_type": "code",
      "execution_count": null,
      "id": "signal-fleet",
      "metadata": {
        "id": "signal-fleet",
        "outputId": "d3cfef71-19c4-432c-b823-54268447af80"
      },
      "outputs": [
        {
          "name": "stdout",
          "output_type": "stream",
          "text": [
            "[[1 2]\n",
            " [3 4]]\n",
            "<class 'numpy.matrix'>\n",
            "matrix a=\n",
            "[[1 2 3]\n",
            " [4 5 6]]\n",
            "<class 'numpy.matrix'>\n",
            "array b=\n",
            "[[1 2 3]\n",
            " [4 5 6]]\n",
            "<class 'numpy.ndarray'>\n"
          ]
        }
      ],
      "source": [
        "# transfer an array to a matrix\n",
        "d = np.array([[1,2],[3,4]])\n",
        "d = np.mat(d)\n",
        "print(d)\n",
        "print(type(d))\n",
        "# transfer a matrix to an array\n",
        "a=np.mat([[1,2,3],[4,5,6]])\n",
        "b=a.getA()\n",
        "print('matrix a=')\n",
        "print(a)\n",
        "print(type(a))\n",
        "print('array b=')\n",
        "print(b)\n",
        "print(type(b))"
      ]
    },
    {
      "cell_type": "markdown",
      "id": "floating-plaintiff",
      "metadata": {
        "id": "floating-plaintiff"
      },
      "source": [
        "### 7.4 randomly create a matrix by np.matlib.rand()"
      ]
    },
    {
      "cell_type": "code",
      "execution_count": null,
      "id": "european-trace",
      "metadata": {
        "id": "european-trace",
        "outputId": "4c29abc0-9660-4514-e298-fc3630a2f2a0"
      },
      "outputs": [
        {
          "name": "stdout",
          "output_type": "stream",
          "text": [
            "a= [[0.70945994 0.05755482 0.38317359]\n",
            " [0.81396662 0.67205555 0.8817114 ]\n",
            " [0.98688524 0.26801778 0.2208896 ]]\n"
          ]
        }
      ],
      "source": [
        "a=np.matlib.rand(3,3)  #0-->1\n",
        "print('a=',a)"
      ]
    },
    {
      "cell_type": "markdown",
      "id": "sixth-faith",
      "metadata": {
        "id": "sixth-faith"
      },
      "source": [
        "### 7.7 matrix operations\n",
        "\n",
        "matrix.dot(b, out=None) / numpy.dot(a, b, out=None)\n",
        "\n",
        "Dot product of two arrays.\n",
        "\n",
        "Dot product of two arrays. Specifically,\n",
        "\n",
        "* If both a and b are 1-D arrays, it is inner product of vectors (without complex conjugation).\n",
        "\n",
        "* If both a and b are 2-D arrays, it is matrix multiplication, but using matmul or a @ b is preferred.\n",
        "\n",
        "* If either a or b is 0-D (scalar), it is equivalent to multiply and using numpy.multiply(a, b) or a * b is preferred.\n",
        "\n",
        "* If a is an N-D array and b is a 1-D array, it is a sum product over the last axis of a and b.\n",
        "\n",
        "* If a is an N-D array and b is an M-D array (where M>=2), it is a sum product over the last axis of a and the second-to-last axis of b:\n",
        "\n",
        "  * dot(a, b)[i,j,k,m] = sum(a[i,j,:] * b[k,:,m])"
      ]
    },
    {
      "cell_type": "code",
      "execution_count": null,
      "id": "assumed-sustainability",
      "metadata": {
        "id": "assumed-sustainability",
        "outputId": "21402ec0-5769-400f-c5aa-4be4021c3a5f"
      },
      "outputs": [
        {
          "name": "stdout",
          "output_type": "stream",
          "text": [
            "a\n",
            "[[1 0]\n",
            " [0 1]]\n",
            "b\n",
            "[[1 1]\n",
            " [2 2]]\n",
            "[[1 1]\n",
            " [2 2]]\n",
            "[[1 1]\n",
            " [2 2]]\n",
            "[[1 1]\n",
            " [2 2]]\n",
            "[[1 0]\n",
            " [0 2]]\n",
            "[[1 0]\n",
            " [0 2]]\n"
          ]
        }
      ],
      "source": [
        "a = np.array([[1, 0], [0, 1]])\n",
        "b = np.array([[1, 1], [2, 2]])\n",
        "print(\"a\")\n",
        "print(a)\n",
        "print(\"b\")\n",
        "print(b)\n",
        "\n",
        "print(np.dot(a, b)) # matrix multiplication\n",
        "print(a@b) # matrix multiplication\n",
        "print(np.matmul(a,b))\n",
        "\n",
        "print(np.multiply(a,b)) #*\n",
        "print(a*b)"
      ]
    },
    {
      "cell_type": "code",
      "execution_count": null,
      "id": "collaborative-delay",
      "metadata": {
        "id": "collaborative-delay",
        "outputId": "5b9f3a16-afe0-4379-93fb-6d36343059cb"
      },
      "outputs": [
        {
          "name": "stdout",
          "output_type": "stream",
          "text": [
            "[[1 0]\n",
            " [0 2]]\n",
            "[[1 0]\n",
            " [0 2]]\n"
          ]
        }
      ],
      "source": [
        "print(np.multiply(a,b)) # equivalent to multiply\n",
        "print(a*b) # equivalent to multiply"
      ]
    },
    {
      "cell_type": "markdown",
      "id": "educated-recall",
      "metadata": {
        "id": "educated-recall"
      },
      "source": [
        "## # 7.5 mat/matrix/asmatrix:\n",
        "\n",
        "Functions that are also in the numpy namespace and return matrices\n",
        "\n",
        " * mat(data[, dtype])\n",
        "  * Interpret the input as a matrix.\n",
        " * matrix(data[, dtype, copy])\n",
        "  * Note: It is no longer recommended to use this class, even for linear\n",
        " * asmatrix(data[, dtype])\n",
        "  * Interpret the input as a matrix."
      ]
    },
    {
      "cell_type": "code",
      "execution_count": null,
      "id": "chubby-admission",
      "metadata": {
        "id": "chubby-admission",
        "outputId": "1ba5e2ac-a8f3-4d00-e394-1dbd4d0e86e1"
      },
      "outputs": [
        {
          "name": "stdout",
          "output_type": "stream",
          "text": [
            "array a=\n",
            "[1 2 3]\n",
            "matrix b=\n",
            "[[1 2 3]]\n",
            "matrix c=\n",
            "[[1 2 3]]\n",
            "matrix d=\n",
            "[[1 2 3]]\n"
          ]
        }
      ],
      "source": [
        "a=np.array([1,2,3])\n",
        "b=np.mat(a)\n",
        "d=np.asmatrix(a)\n",
        "c=np.matrix(a)\n",
        "print('array a=')\n",
        "print(a)\n",
        "print('matrix b=')\n",
        "print(b)\n",
        "print('matrix c=')\n",
        "print(c)\n",
        "print('matrix d=')\n",
        "print(d)"
      ]
    },
    {
      "cell_type": "markdown",
      "id": "minor-livestock",
      "metadata": {
        "id": "minor-livestock"
      },
      "source": [
        "### 7.8 Matrix Inverse"
      ]
    },
    {
      "cell_type": "code",
      "execution_count": null,
      "id": "frequent-ordinance",
      "metadata": {
        "id": "frequent-ordinance",
        "outputId": "908f7d0e-a038-4190-eb31-22ece67626da"
      },
      "outputs": [
        {
          "name": "stdout",
          "output_type": "stream",
          "text": [
            "matrix a=\n",
            "[[2 0 0]\n",
            " [0 1 0]\n",
            " [0 0 2]]\n",
            "matrix b=\n",
            "[[0.5 0.  0. ]\n",
            " [0.  1.  0. ]\n",
            " [0.  0.  0.5]]\n"
          ]
        }
      ],
      "source": [
        "a=np.matrix([[2,0,0],\n",
        "[0,1,0],\n",
        "[0,0,2]])\n",
        "b=a.I\n",
        "print('matrix a=')\n",
        "print(a)\n",
        "print('matrix b=')\n",
        "print(b)"
      ]
    },
    {
      "cell_type": "markdown",
      "id": "fossil-punishment",
      "metadata": {
        "id": "fossil-punishment"
      },
      "source": [
        "### 7.9 Determinant of a Matrix"
      ]
    },
    {
      "cell_type": "code",
      "execution_count": null,
      "id": "ancient-tuesday",
      "metadata": {
        "id": "ancient-tuesday",
        "outputId": "76af6997-c9dd-4b49-9eab-4968722e0522"
      },
      "outputs": [
        {
          "name": "stdout",
          "output_type": "stream",
          "text": [
            "matrix a=\n",
            "[[1 2]\n",
            " [3 4]]\n",
            " b=\n",
            "-2.0000000000000004\n"
          ]
        }
      ],
      "source": [
        "# |A|\n",
        "\n",
        "a=np.matrix([[1,2],\n",
        "[3,4]])\n",
        "\n",
        "b=np.linalg.det(a)\n",
        "print('matrix a=')\n",
        "print(a)\n",
        "print(' b=')\n",
        "print(b)"
      ]
    },
    {
      "cell_type": "markdown",
      "id": "humanitarian-evans",
      "metadata": {
        "id": "humanitarian-evans"
      },
      "source": [
        "### 7.10 sum,max,min"
      ]
    },
    {
      "cell_type": "code",
      "execution_count": null,
      "id": "lovely-israeli",
      "metadata": {
        "id": "lovely-israeli",
        "outputId": "ea2a24e2-bb8b-4a0d-e342-3e6cbbff4149"
      },
      "outputs": [
        {
          "data": {
            "text/plain": [
              "matrix([[1, 2],\n",
              "        [3, 4]])"
            ]
          },
          "execution_count": 48,
          "metadata": {},
          "output_type": "execute_result"
        }
      ],
      "source": [
        "a=np.matrix([[1,2],\n",
        "[3,4]])\n",
        "a"
      ]
    },
    {
      "cell_type": "code",
      "execution_count": null,
      "id": "colored-plate",
      "metadata": {
        "id": "colored-plate",
        "outputId": "28cb5662-ddee-42b9-9497-bc68c0d64683"
      },
      "outputs": [
        {
          "name": "stdout",
          "output_type": "stream",
          "text": [
            " b= [[4 6]]\n",
            " c=\n",
            "[[3]\n",
            " [7]]\n"
          ]
        }
      ],
      "source": [
        "b=a.sum(axis=0)  #sum by columns\n",
        "c=a.sum(axis=1)  #sum of raws\n",
        "\n",
        "print(' b=',b)\n",
        "print(' c=')\n",
        "print(c)"
      ]
    },
    {
      "cell_type": "code",
      "execution_count": null,
      "id": "eligible-warehouse",
      "metadata": {
        "id": "eligible-warehouse",
        "outputId": "865da5d9-d197-444c-f0c8-b0a8aa1a0705"
      },
      "outputs": [
        {
          "name": "stdout",
          "output_type": "stream",
          "text": [
            " d= 4\n",
            " e= 1\n"
          ]
        }
      ],
      "source": [
        "d=a.max()\n",
        "e=a.min()\n",
        "print(' d=',d)\n",
        "print(' e=',e)"
      ]
    },
    {
      "cell_type": "markdown",
      "id": "romance-russian",
      "metadata": {
        "id": "romance-russian"
      },
      "source": [
        "## 8. Random sampling\n",
        "\n",
        "### 8.1 Simple random data\n",
        "\n",
        " * rand(d0, d1, ..., dn) Random values ([0.0, 1.0)) in a given shape.\n",
        " * randn(d0, d1, ..., dn) Return a sample (or samples) from the “standard normal” distribution.\n",
        " * randint(low[, high, size, dtype]) Return random integers from low (inclusive) to high (exclusive)."
      ]
    },
    {
      "cell_type": "code",
      "execution_count": null,
      "id": "academic-highway",
      "metadata": {
        "id": "academic-highway",
        "outputId": "05430b8d-a275-4c2d-f614-a09d21e17e6c",
        "colab": {
          "base_uri": "https://localhost:8080/"
        }
      },
      "outputs": [
        {
          "output_type": "stream",
          "name": "stdout",
          "text": [
            "r1= \n",
            " [[0.44763444 0.19572638]\n",
            " [0.90022509 0.64068143]]\n",
            "r2= \n",
            " [[ 1.23701434 -2.1710776 ]\n",
            " [-0.1055362   0.574422  ]]\n",
            "r3= \n",
            " 0\n"
          ]
        }
      ],
      "source": [
        "r1=np.random.rand(2,2)   # return value from 0 => 1\n",
        "r2=np.random.randn(2,2)  # return vaue from  standard distibution\n",
        "r3=np.random.randint(0,5)\n",
        "print('r1=','\\n',r1)\n",
        "print('r2=','\\n',r2)\n",
        "print('r3=','\\n',r3)"
      ]
    },
    {
      "cell_type": "markdown",
      "id": "supreme-teacher",
      "metadata": {
        "id": "supreme-teacher"
      },
      "source": [
        "* numpy.random.choice(a, size=None, replace=True, p=None)\n",
        "  * a : If an ndarray, a random sample is generated from its elements. If an int, the random sample is generated as if a was np.arange(n)\n",
        "  \n",
        "  * size : Output shape.\n",
        "  \n",
        "  * replace : boolean, optional; Whether the sample is with or without replacement\n",
        "  \n",
        "  * p : 1-D array-like, optional; The probabilities associated with each entry in a. If not given the sample assumes a uniform distribution         over all entries in a."
      ]
    },
    {
      "cell_type": "code",
      "execution_count": null,
      "id": "directed-darwin",
      "metadata": {
        "id": "directed-darwin",
        "outputId": "2d290a1f-bc87-4a0e-de52-4028070ddd06"
      },
      "outputs": [
        {
          "name": "stdout",
          "output_type": "stream",
          "text": [
            "[[4 3]\n",
            " [5 2]]\n"
          ]
        }
      ],
      "source": [
        "r3=np.random.choice([1,2,3,4,5], (2,2), p=[0.2, 0.2, 0.2, 0.2, 0.2])\n",
        "print(r3)"
      ]
    },
    {
      "cell_type": "code",
      "execution_count": null,
      "id": "postal-commodity",
      "metadata": {
        "id": "postal-commodity",
        "outputId": "ebd0daf3-4644-41a3-8d88-ce5e41cff92a"
      },
      "outputs": [
        {
          "name": "stdout",
          "output_type": "stream",
          "text": [
            "a= \n",
            " [1 2 3 4 5]\n",
            "a= \n",
            " [3 4 2 1 5]\n",
            "a= \n",
            " [3 4 2 1 5]\n",
            "c= \n",
            " [1 3 5 4 2]\n"
          ]
        }
      ],
      "source": [
        "a=np.array([1,2,3,4,5])\n",
        "print('a=','\\n',a)\n",
        "np.random.shuffle(a) # rearange a given sequance\n",
        "print('a=','\\n',a)\n",
        "c=np.random.permutation(a)# return copy of a given sequence\n",
        "print('a=','\\n',a)\n",
        "print('c=','\\n',c)"
      ]
    },
    {
      "cell_type": "markdown",
      "id": "normal-render",
      "metadata": {
        "id": "normal-render"
      },
      "source": [
        "### 8.3 Distributions\n",
        "\n",
        "* normal([loc, scale, size]) Draw random samples from a normal (Gaussian) distribution.\n",
        "\n",
        "  * loc : Mean (“centre”) of the distribution.\n",
        "  \n",
        "  * scale : Standard deviation (spread or “width”) of the distribution.\n",
        "  \n",
        "  * size : Output shape.\n",
        "  \n",
        "  \n",
        "* uniform([low, high, size]) Draw samples from a uniform distribution.\n",
        "\n",
        "  * Samples are uniformly distributed over the half-open interval [low, high) (includes low, but excludes high). In other words, any value          within the given interval is equally likely to be drawn by uniform.\n",
        "  \n",
        "  * low : Lower boundary of the output interval. All values generated will be greater than or equal to low. The default value is 0.\n",
        "  \n",
        "  * high : Upper boundary of the output interval. All values generated will be less than high. The default value is 1.0.\n",
        "  \n",
        "  * size : Output shape.\n",
        "  \n",
        "  * poisson([lam, size]) Draw samples from a Poisson distribution.\n",
        "  \n",
        "  * lam : Expectation of interval, should be >= 0. A sequence of expectation intervals must be broadcastable over the requested size.\n",
        "  \n",
        "  * size : Output shape."
      ]
    },
    {
      "cell_type": "code",
      "execution_count": null,
      "id": "mature-aberdeen",
      "metadata": {
        "id": "mature-aberdeen",
        "outputId": "71358102-da77-4f74-a444-18b504cbfd04"
      },
      "outputs": [
        {
          "name": "stdout",
          "output_type": "stream",
          "text": [
            "r1= \n",
            " [ 0.07250858  0.01487667  0.11534487 -0.0513803   0.01649688]\n",
            "r2= \n",
            " [1.13803444 4.50925392]\n",
            "r3= \n",
            " [3 4]\n"
          ]
        }
      ],
      "source": [
        "r1=np.random.normal(0,0.1,5)  # mean , sandard devietion , size\n",
        "r2=np.random.uniform(0,5,2)   # 0-> 5\n",
        "r3=np.random.poisson(5,2)   # exceptation of interval , shape\n",
        "print('r1=','\\n',r1)\n",
        "print('r2=','\\n',r2)\n",
        "\n",
        "print('r3=','\\n',r3)"
      ]
    },
    {
      "cell_type": "markdown",
      "id": "endangered-night",
      "metadata": {
        "id": "endangered-night"
      },
      "source": [
        "## 9. Common mathematical functions\n",
        "\n",
        "### 9.1 Trigonometric functions\n",
        "\n",
        " * sin(x, /[, out, where, casting, order, ...]) Trigonometric sine, element-wise.\n",
        " * cos(x, /[, out, where, casting, order, ...]) Cosine element-wise"
      ]
    },
    {
      "cell_type": "code",
      "execution_count": null,
      "id": "circular-fetish",
      "metadata": {
        "id": "circular-fetish",
        "outputId": "46dbd859-e451-429f-c77d-8cbf32429ee9"
      },
      "outputs": [
        {
          "name": "stdout",
          "output_type": "stream",
          "text": [
            "b= \n",
            " [0.         0.5        0.70710678 0.8660254  1.        ]\n",
            "c= \n",
            " [1.00000000e+00 8.66025404e-01 7.07106781e-01 5.00000000e-01\n",
            " 6.12323400e-17]\n"
          ]
        }
      ],
      "source": [
        "a=np.array([0,30,45,60,90])\n",
        "b=np.sin(a*np.pi/180)\n",
        "c=np.cos(a*np.pi/180)\n",
        "print('b=','\\n',b)\n",
        "print('c=','\\n',c)"
      ]
    },
    {
      "cell_type": "markdown",
      "id": "found-values",
      "metadata": {
        "id": "found-values"
      },
      "source": [
        "### 9.2 Rounding\n",
        "\n",
        " * around(a[, decimals, out]) Evenly round to the given number of decimals.\n",
        " * floor(x, /[, out, where, casting, order, ...]) Return the floor of the input, element-wise.\n",
        " * ceil(x, /[, out, where, casting, order, ...]) Return the ceiling of the input, element-wise."
      ]
    },
    {
      "cell_type": "code",
      "execution_count": null,
      "id": "prerequisite-bishop",
      "metadata": {
        "id": "prerequisite-bishop",
        "outputId": "10235d6e-3006-492d-8ef5-4039b958a2e6"
      },
      "outputs": [
        {
          "name": "stdout",
          "output_type": "stream",
          "text": [
            "b= [2. 2. 3. 3.]\n",
            "c= [1.7 1.6 2.7 2.6]\n"
          ]
        }
      ],
      "source": [
        "a=np.array([1.7111,1.555,2.748,2.55])\n",
        "b=np.around(a)\n",
        "c=np.around(a,decimals=1) # one digit after decimal point\n",
        "print('b=',b)\n",
        "print('c=',c)"
      ]
    },
    {
      "cell_type": "code",
      "execution_count": null,
      "id": "historic-acquisition",
      "metadata": {
        "id": "historic-acquisition",
        "outputId": "ad316649-3314-4607-becf-83bc748b2b50"
      },
      "outputs": [
        {
          "name": "stdout",
          "output_type": "stream",
          "text": [
            "d= [1. 1. 2. 2.]\n",
            "e= [2. 2. 3. 3.]\n"
          ]
        }
      ],
      "source": [
        "d=np.floor(a)\n",
        "e=np.ceil(a)\n",
        "print('d=',d)\n",
        "print('e=',e)"
      ]
    },
    {
      "cell_type": "markdown",
      "id": "absent-feature",
      "metadata": {
        "id": "absent-feature"
      },
      "source": [
        "### 9.3 Arithmetic operations"
      ]
    },
    {
      "cell_type": "code",
      "execution_count": null,
      "id": "featured-controversy",
      "metadata": {
        "id": "featured-controversy",
        "outputId": "86dd13ea-8a5a-42ce-9544-7f3a3166a5a3",
        "colab": {
          "base_uri": "https://localhost:8080/"
        }
      },
      "outputs": [
        {
          "output_type": "stream",
          "name": "stdout",
          "text": [
            "c= [[5 5 5 5]\n",
            " [2 4 6 8]]\n",
            "d= [[-3 -1  1  3]\n",
            " [ 0  0  0  0]]\n",
            "e= [[ 4  6  6  4]\n",
            " [ 1  4  9 16]]\n",
            "f= [[0.25       0.66666667 1.5        4.        ]\n",
            " [1.         1.         1.         1.        ]]\n",
            "g= [[1 2 1 0]\n",
            " [0 0 0 0]]\n",
            "h= [[  1   8   9   4]\n",
            " [  1   4  27 256]]\n"
          ]
        }
      ],
      "source": [
        "import numpy as np\n",
        "a=np.array([[1,2,3,4],[1,2,3,4]])\n",
        "b=np.array([[4,3,2,1],[1,2,3,4]])\n",
        "c=np.add(a,b)\n",
        "d=np.subtract(a,b)\n",
        "e=np.multiply(a,b)\n",
        "f=np.divide(a,b)\n",
        "g=np.mod(a,b)\n",
        "h=np.power(a,b)\n",
        "print('c=',c)\n",
        "print('d=',d)\n",
        "print('e=',e)\n",
        "print('f=',f)\n",
        "print('g=',g)\n",
        "print('h=',h)"
      ]
    },
    {
      "cell_type": "markdown",
      "id": "supreme-blair",
      "metadata": {
        "id": "supreme-blair"
      },
      "source": [
        "### 9.5 Sort function\n",
        "\n",
        " * numpy.sort(a, axis=-1, kind='quicksort', order=None)\n",
        "\n",
        "Return a sorted copy of an array.\n"
      ]
    },
    {
      "cell_type": "code",
      "execution_count": null,
      "id": "prescribed-playback",
      "metadata": {
        "id": "prescribed-playback",
        "outputId": "d8ac02b3-b74a-414a-d6a9-2af6a72db9a2"
      },
      "outputs": [
        {
          "name": "stdout",
          "output_type": "stream",
          "text": [
            "[[3 5 1]\n",
            " [2 8 7]]\n",
            "[[1 3 5]\n",
            " [2 7 8]]\n"
          ]
        }
      ],
      "source": [
        "a=np.array([[3,5,1],[2,8,7]])\n",
        "print(a)\n",
        "b=np.sort(a)\n",
        "print(b)\n"
      ]
    },
    {
      "cell_type": "markdown",
      "id": "settled-suspension",
      "metadata": {
        "id": "settled-suspension"
      },
      "source": [
        "# 02 Pandas\n",
        "\n",
        "pandas is a fast, powerful, flexible and easy to use open source data analysis and manipulation\n",
        "tool, built on top of the Python programming language"
      ]
    },
    {
      "cell_type": "code",
      "execution_count": null,
      "id": "recent-sector",
      "metadata": {
        "id": "recent-sector"
      },
      "outputs": [],
      "source": [
        "import pandas as pd\n",
        "import numpy as np"
      ]
    },
    {
      "cell_type": "markdown",
      "id": "efficient-childhood",
      "metadata": {
        "id": "efficient-childhood"
      },
      "source": [
        "### 1. Series\n",
        "\n",
        "Series is a one-dimensional labeled array capable of holding any data type (integers, strings,\n",
        "floating point numbers, Python objects, etc.). The axis labels are collectively referred to as the\n",
        "index."
      ]
    },
    {
      "cell_type": "markdown",
      "id": "difficult-amazon",
      "metadata": {
        "id": "difficult-amazon"
      },
      "source": [
        "### 1.1 create a Series\n",
        " * pandas.Series(data=None, index=None, dtype=None, name=None, copy=False, fastpath=False)"
      ]
    },
    {
      "cell_type": "code",
      "execution_count": null,
      "id": "nervous-reduction",
      "metadata": {
        "id": "nervous-reduction",
        "outputId": "dc0dfe5c-b563-4c10-f521-d0efd367c981"
      },
      "outputs": [
        {
          "name": "stdout",
          "output_type": "stream",
          "text": [
            "0    1.0\n",
            "1    3.0\n",
            "2    5.0\n",
            "3    NaN\n",
            "4    6.0\n",
            "5    8.0\n",
            "dtype: float64\n"
          ]
        }
      ],
      "source": [
        "s = pd.Series([1,3,5,np.nan,6,8]) # np.nan: Not a Number\n",
        "print(s) # NaN (not a number) is the standard missing data marker used in pandas."
      ]
    },
    {
      "cell_type": "markdown",
      "id": "streaming-cattle",
      "metadata": {
        "id": "streaming-cattle"
      },
      "source": [
        "## 1.2 create a Series from an array"
      ]
    },
    {
      "cell_type": "code",
      "execution_count": null,
      "id": "upper-assignment",
      "metadata": {
        "id": "upper-assignment",
        "outputId": "2864d35c-1294-4dcd-cc63-b6e66193e34b"
      },
      "outputs": [
        {
          "name": "stdout",
          "output_type": "stream",
          "text": [
            "0    a\n",
            "1    b\n",
            "2    c\n",
            "3    d\n",
            "dtype: object\n"
          ]
        }
      ],
      "source": [
        "data = np.array(['a','b','c','d'])\n",
        "s = pd.Series(data)\n",
        "print(s)"
      ]
    },
    {
      "cell_type": "markdown",
      "id": "corrected-transcript",
      "metadata": {
        "id": "corrected-transcript"
      },
      "source": [
        "### 1.3 create a Series from a dict\n",
        "\n",
        "When the data is a dict, and an index is not passed, the Series index will be ordered by the dict’s\n",
        "insertion order, if you’re using Python version >= 3.6 and Pandas version >= 0.23."
      ]
    },
    {
      "cell_type": "code",
      "execution_count": null,
      "id": "fitting-tuesday",
      "metadata": {
        "id": "fitting-tuesday",
        "outputId": "710ab9ec-b649-40dc-e14a-68ce11bfee7a"
      },
      "outputs": [
        {
          "name": "stdout",
          "output_type": "stream",
          "text": [
            "a    0.0\n",
            "b    1.0\n",
            "c    2.0\n",
            "dtype: float64\n"
          ]
        }
      ],
      "source": [
        "data1 = {'a' : 0., 'b' : 1., 'c' : 2.}\n",
        "s = pd.Series(data1)\n",
        "print(s)"
      ]
    },
    {
      "cell_type": "markdown",
      "id": "large-server",
      "metadata": {
        "id": "large-server"
      },
      "source": [
        "### 2. DataFrame\n",
        "\n",
        "DataFrame is a 2-dimensional labeled data structure with columns of potentially different types.\n",
        "You can think of it like a spreadsheet or SQL table, or a dict of Series objects. It is generally the\n",
        "most commonly used Pandas object.\n",
        "\n",
        "### 2.1 create a DataFrame from dict of Series or dicts"
      ]
    },
    {
      "cell_type": "code",
      "execution_count": null,
      "id": "institutional-february",
      "metadata": {
        "id": "institutional-february",
        "outputId": "61246b65-76eb-4eab-e322-0144e18c2c69"
      },
      "outputs": [
        {
          "data": {
            "text/html": [
              "<div>\n",
              "<style scoped>\n",
              "    .dataframe tbody tr th:only-of-type {\n",
              "        vertical-align: middle;\n",
              "    }\n",
              "\n",
              "    .dataframe tbody tr th {\n",
              "        vertical-align: top;\n",
              "    }\n",
              "\n",
              "    .dataframe thead th {\n",
              "        text-align: right;\n",
              "    }\n",
              "</style>\n",
              "<table border=\"1\" class=\"dataframe\">\n",
              "  <thead>\n",
              "    <tr style=\"text-align: right;\">\n",
              "      <th></th>\n",
              "      <th>A</th>\n",
              "      <th>B</th>\n",
              "      <th>C</th>\n",
              "      <th>D</th>\n",
              "    </tr>\n",
              "  </thead>\n",
              "  <tbody>\n",
              "    <tr>\n",
              "      <th>2</th>\n",
              "      <td>0.665844</td>\n",
              "      <td>0.198232</td>\n",
              "      <td>-1.178356</td>\n",
              "      <td>-1.069242</td>\n",
              "    </tr>\n",
              "    <tr>\n",
              "      <th>3</th>\n",
              "      <td>0.166994</td>\n",
              "      <td>0.514337</td>\n",
              "      <td>0.058742</td>\n",
              "      <td>0.868159</td>\n",
              "    </tr>\n",
              "    <tr>\n",
              "      <th>4</th>\n",
              "      <td>0.654389</td>\n",
              "      <td>0.917959</td>\n",
              "      <td>-1.786459</td>\n",
              "      <td>-1.259204</td>\n",
              "    </tr>\n",
              "    <tr>\n",
              "      <th>5</th>\n",
              "      <td>1.442685</td>\n",
              "      <td>0.538769</td>\n",
              "      <td>2.030940</td>\n",
              "      <td>-0.806179</td>\n",
              "    </tr>\n",
              "    <tr>\n",
              "      <th>6</th>\n",
              "      <td>0.396492</td>\n",
              "      <td>-1.230108</td>\n",
              "      <td>2.369402</td>\n",
              "      <td>1.027722</td>\n",
              "    </tr>\n",
              "    <tr>\n",
              "      <th>7</th>\n",
              "      <td>-0.239479</td>\n",
              "      <td>-1.278021</td>\n",
              "      <td>1.864724</td>\n",
              "      <td>1.108063</td>\n",
              "    </tr>\n",
              "    <tr>\n",
              "      <th>8</th>\n",
              "      <td>1.644509</td>\n",
              "      <td>-0.827052</td>\n",
              "      <td>-1.071602</td>\n",
              "      <td>0.339225</td>\n",
              "    </tr>\n",
              "  </tbody>\n",
              "</table>\n",
              "</div>"
            ],
            "text/plain": [
              "          A         B         C         D\n",
              "2  0.665844  0.198232 -1.178356 -1.069242\n",
              "3  0.166994  0.514337  0.058742  0.868159\n",
              "4  0.654389  0.917959 -1.786459 -1.259204\n",
              "5  1.442685  0.538769  2.030940 -0.806179\n",
              "6  0.396492 -1.230108  2.369402  1.027722\n",
              "7 -0.239479 -1.278021  1.864724  1.108063\n",
              "8  1.644509 -0.827052 -1.071602  0.339225"
            ]
          },
          "execution_count": 64,
          "metadata": {},
          "output_type": "execute_result"
        }
      ],
      "source": [
        "# create random numbers as values\n",
        "df = pd.DataFrame(np.random.randn(7,4), index=[2,3,4,5,6,7,8]\n",
        ", columns=list('ABCD'))\n",
        "df"
      ]
    },
    {
      "cell_type": "markdown",
      "id": "choice-frank",
      "metadata": {
        "id": "choice-frank"
      },
      "source": [
        "### 2.2 create a DataFrame from dict of Series or dicts"
      ]
    },
    {
      "cell_type": "code",
      "execution_count": null,
      "id": "chief-supplier",
      "metadata": {
        "id": "chief-supplier",
        "outputId": "97f95fae-03ad-4a68-b0f2-2db90533ef35"
      },
      "outputs": [
        {
          "data": {
            "text/html": [
              "<div>\n",
              "<style scoped>\n",
              "    .dataframe tbody tr th:only-of-type {\n",
              "        vertical-align: middle;\n",
              "    }\n",
              "\n",
              "    .dataframe tbody tr th {\n",
              "        vertical-align: top;\n",
              "    }\n",
              "\n",
              "    .dataframe thead th {\n",
              "        text-align: right;\n",
              "    }\n",
              "</style>\n",
              "<table border=\"1\" class=\"dataframe\">\n",
              "  <thead>\n",
              "    <tr style=\"text-align: right;\">\n",
              "      <th></th>\n",
              "      <th>A</th>\n",
              "      <th>B</th>\n",
              "      <th>C</th>\n",
              "      <th>D</th>\n",
              "      <th>E</th>\n",
              "      <th>F</th>\n",
              "    </tr>\n",
              "  </thead>\n",
              "  <tbody>\n",
              "    <tr>\n",
              "      <th>0</th>\n",
              "      <td>1.0</td>\n",
              "      <td>2020-01-02</td>\n",
              "      <td>1.0</td>\n",
              "      <td>3</td>\n",
              "      <td>test</td>\n",
              "      <td>foo</td>\n",
              "    </tr>\n",
              "    <tr>\n",
              "      <th>1</th>\n",
              "      <td>1.0</td>\n",
              "      <td>2020-01-02</td>\n",
              "      <td>1.0</td>\n",
              "      <td>3</td>\n",
              "      <td>train</td>\n",
              "      <td>foo</td>\n",
              "    </tr>\n",
              "    <tr>\n",
              "      <th>2</th>\n",
              "      <td>1.0</td>\n",
              "      <td>2020-01-02</td>\n",
              "      <td>1.0</td>\n",
              "      <td>3</td>\n",
              "      <td>test</td>\n",
              "      <td>foo</td>\n",
              "    </tr>\n",
              "    <tr>\n",
              "      <th>3</th>\n",
              "      <td>1.0</td>\n",
              "      <td>2020-01-02</td>\n",
              "      <td>1.0</td>\n",
              "      <td>3</td>\n",
              "      <td>train</td>\n",
              "      <td>foo</td>\n",
              "    </tr>\n",
              "  </tbody>\n",
              "</table>\n",
              "</div>"
            ],
            "text/plain": [
              "     A          B    C  D      E    F\n",
              "0  1.0 2020-01-02  1.0  3   test  foo\n",
              "1  1.0 2020-01-02  1.0  3  train  foo\n",
              "2  1.0 2020-01-02  1.0  3   test  foo\n",
              "3  1.0 2020-01-02  1.0  3  train  foo"
            ]
          },
          "execution_count": 65,
          "metadata": {},
          "output_type": "execute_result"
        }
      ],
      "source": [
        "df1 = pd.DataFrame({ 'A' : 1.,\n",
        "                    'B' : pd.Timestamp('20200102'),\n",
        "                    'C' : pd.Series(1,index=list(range(4)),dtype='float32'),\n",
        "                    'D' : np.array([3] * 4,dtype='int32'),\n",
        "                    # Categoricals can only take on only a limited, and usually f\n",
        "                    'E' : pd.Categorical([\"test\",\"train\",\"test\",\"train\"]),\n",
        "                    'F' : 'foo' })\n",
        "df1"
      ]
    },
    {
      "cell_type": "markdown",
      "id": "medical-constraint",
      "metadata": {
        "id": "medical-constraint"
      },
      "source": [
        "## 3. Essential basic functionality\n",
        "\n",
        "### 3.1 Head and tail\n",
        "\n",
        "To view a small sample of a Series or DataFrame object, use the head() and tail() methods. The\n",
        "default number of elements to display is five, but you may pass a custom number."
      ]
    },
    {
      "cell_type": "code",
      "execution_count": null,
      "id": "democratic-roots",
      "metadata": {
        "id": "democratic-roots",
        "outputId": "ece71d91-9044-4dd8-d89a-3536c81b76e6"
      },
      "outputs": [
        {
          "data": {
            "text/html": [
              "<div>\n",
              "<style scoped>\n",
              "    .dataframe tbody tr th:only-of-type {\n",
              "        vertical-align: middle;\n",
              "    }\n",
              "\n",
              "    .dataframe tbody tr th {\n",
              "        vertical-align: top;\n",
              "    }\n",
              "\n",
              "    .dataframe thead th {\n",
              "        text-align: right;\n",
              "    }\n",
              "</style>\n",
              "<table border=\"1\" class=\"dataframe\">\n",
              "  <thead>\n",
              "    <tr style=\"text-align: right;\">\n",
              "      <th></th>\n",
              "      <th>0</th>\n",
              "      <th>1</th>\n",
              "      <th>2</th>\n",
              "      <th>3</th>\n",
              "      <th>4</th>\n",
              "    </tr>\n",
              "  </thead>\n",
              "  <tbody>\n",
              "    <tr>\n",
              "      <th>0</th>\n",
              "      <td>0</td>\n",
              "      <td>1</td>\n",
              "      <td>2</td>\n",
              "      <td>3</td>\n",
              "      <td>4</td>\n",
              "    </tr>\n",
              "    <tr>\n",
              "      <th>1</th>\n",
              "      <td>5</td>\n",
              "      <td>6</td>\n",
              "      <td>7</td>\n",
              "      <td>8</td>\n",
              "      <td>9</td>\n",
              "    </tr>\n",
              "    <tr>\n",
              "      <th>2</th>\n",
              "      <td>10</td>\n",
              "      <td>11</td>\n",
              "      <td>12</td>\n",
              "      <td>13</td>\n",
              "      <td>14</td>\n",
              "    </tr>\n",
              "    <tr>\n",
              "      <th>3</th>\n",
              "      <td>15</td>\n",
              "      <td>16</td>\n",
              "      <td>17</td>\n",
              "      <td>18</td>\n",
              "      <td>19</td>\n",
              "    </tr>\n",
              "    <tr>\n",
              "      <th>4</th>\n",
              "      <td>20</td>\n",
              "      <td>21</td>\n",
              "      <td>22</td>\n",
              "      <td>23</td>\n",
              "      <td>24</td>\n",
              "    </tr>\n",
              "    <tr>\n",
              "      <th>5</th>\n",
              "      <td>25</td>\n",
              "      <td>26</td>\n",
              "      <td>27</td>\n",
              "      <td>28</td>\n",
              "      <td>29</td>\n",
              "    </tr>\n",
              "    <tr>\n",
              "      <th>6</th>\n",
              "      <td>30</td>\n",
              "      <td>31</td>\n",
              "      <td>32</td>\n",
              "      <td>33</td>\n",
              "      <td>34</td>\n",
              "    </tr>\n",
              "    <tr>\n",
              "      <th>7</th>\n",
              "      <td>35</td>\n",
              "      <td>36</td>\n",
              "      <td>37</td>\n",
              "      <td>38</td>\n",
              "      <td>39</td>\n",
              "    </tr>\n",
              "    <tr>\n",
              "      <th>8</th>\n",
              "      <td>40</td>\n",
              "      <td>41</td>\n",
              "      <td>42</td>\n",
              "      <td>43</td>\n",
              "      <td>44</td>\n",
              "    </tr>\n",
              "    <tr>\n",
              "      <th>9</th>\n",
              "      <td>45</td>\n",
              "      <td>46</td>\n",
              "      <td>47</td>\n",
              "      <td>48</td>\n",
              "      <td>49</td>\n",
              "    </tr>\n",
              "    <tr>\n",
              "      <th>10</th>\n",
              "      <td>50</td>\n",
              "      <td>51</td>\n",
              "      <td>52</td>\n",
              "      <td>53</td>\n",
              "      <td>54</td>\n",
              "    </tr>\n",
              "    <tr>\n",
              "      <th>11</th>\n",
              "      <td>55</td>\n",
              "      <td>56</td>\n",
              "      <td>57</td>\n",
              "      <td>58</td>\n",
              "      <td>59</td>\n",
              "    </tr>\n",
              "    <tr>\n",
              "      <th>12</th>\n",
              "      <td>60</td>\n",
              "      <td>61</td>\n",
              "      <td>62</td>\n",
              "      <td>63</td>\n",
              "      <td>64</td>\n",
              "    </tr>\n",
              "    <tr>\n",
              "      <th>13</th>\n",
              "      <td>65</td>\n",
              "      <td>66</td>\n",
              "      <td>67</td>\n",
              "      <td>68</td>\n",
              "      <td>69</td>\n",
              "    </tr>\n",
              "    <tr>\n",
              "      <th>14</th>\n",
              "      <td>70</td>\n",
              "      <td>71</td>\n",
              "      <td>72</td>\n",
              "      <td>73</td>\n",
              "      <td>74</td>\n",
              "    </tr>\n",
              "    <tr>\n",
              "      <th>15</th>\n",
              "      <td>75</td>\n",
              "      <td>76</td>\n",
              "      <td>77</td>\n",
              "      <td>78</td>\n",
              "      <td>79</td>\n",
              "    </tr>\n",
              "    <tr>\n",
              "      <th>16</th>\n",
              "      <td>80</td>\n",
              "      <td>81</td>\n",
              "      <td>82</td>\n",
              "      <td>83</td>\n",
              "      <td>84</td>\n",
              "    </tr>\n",
              "    <tr>\n",
              "      <th>17</th>\n",
              "      <td>85</td>\n",
              "      <td>86</td>\n",
              "      <td>87</td>\n",
              "      <td>88</td>\n",
              "      <td>89</td>\n",
              "    </tr>\n",
              "    <tr>\n",
              "      <th>18</th>\n",
              "      <td>90</td>\n",
              "      <td>91</td>\n",
              "      <td>92</td>\n",
              "      <td>93</td>\n",
              "      <td>94</td>\n",
              "    </tr>\n",
              "    <tr>\n",
              "      <th>19</th>\n",
              "      <td>95</td>\n",
              "      <td>96</td>\n",
              "      <td>97</td>\n",
              "      <td>98</td>\n",
              "      <td>99</td>\n",
              "    </tr>\n",
              "    <tr>\n",
              "      <th>20</th>\n",
              "      <td>100</td>\n",
              "      <td>101</td>\n",
              "      <td>102</td>\n",
              "      <td>103</td>\n",
              "      <td>104</td>\n",
              "    </tr>\n",
              "    <tr>\n",
              "      <th>21</th>\n",
              "      <td>105</td>\n",
              "      <td>106</td>\n",
              "      <td>107</td>\n",
              "      <td>108</td>\n",
              "      <td>109</td>\n",
              "    </tr>\n",
              "    <tr>\n",
              "      <th>22</th>\n",
              "      <td>110</td>\n",
              "      <td>111</td>\n",
              "      <td>112</td>\n",
              "      <td>113</td>\n",
              "      <td>114</td>\n",
              "    </tr>\n",
              "    <tr>\n",
              "      <th>23</th>\n",
              "      <td>115</td>\n",
              "      <td>116</td>\n",
              "      <td>117</td>\n",
              "      <td>118</td>\n",
              "      <td>119</td>\n",
              "    </tr>\n",
              "    <tr>\n",
              "      <th>24</th>\n",
              "      <td>120</td>\n",
              "      <td>121</td>\n",
              "      <td>122</td>\n",
              "      <td>123</td>\n",
              "      <td>124</td>\n",
              "    </tr>\n",
              "    <tr>\n",
              "      <th>25</th>\n",
              "      <td>125</td>\n",
              "      <td>126</td>\n",
              "      <td>127</td>\n",
              "      <td>128</td>\n",
              "      <td>129</td>\n",
              "    </tr>\n",
              "    <tr>\n",
              "      <th>26</th>\n",
              "      <td>130</td>\n",
              "      <td>131</td>\n",
              "      <td>132</td>\n",
              "      <td>133</td>\n",
              "      <td>134</td>\n",
              "    </tr>\n",
              "    <tr>\n",
              "      <th>27</th>\n",
              "      <td>135</td>\n",
              "      <td>136</td>\n",
              "      <td>137</td>\n",
              "      <td>138</td>\n",
              "      <td>139</td>\n",
              "    </tr>\n",
              "    <tr>\n",
              "      <th>28</th>\n",
              "      <td>140</td>\n",
              "      <td>141</td>\n",
              "      <td>142</td>\n",
              "      <td>143</td>\n",
              "      <td>144</td>\n",
              "    </tr>\n",
              "    <tr>\n",
              "      <th>29</th>\n",
              "      <td>145</td>\n",
              "      <td>146</td>\n",
              "      <td>147</td>\n",
              "      <td>148</td>\n",
              "      <td>149</td>\n",
              "    </tr>\n",
              "    <tr>\n",
              "      <th>30</th>\n",
              "      <td>150</td>\n",
              "      <td>151</td>\n",
              "      <td>152</td>\n",
              "      <td>153</td>\n",
              "      <td>154</td>\n",
              "    </tr>\n",
              "    <tr>\n",
              "      <th>31</th>\n",
              "      <td>155</td>\n",
              "      <td>156</td>\n",
              "      <td>157</td>\n",
              "      <td>158</td>\n",
              "      <td>159</td>\n",
              "    </tr>\n",
              "    <tr>\n",
              "      <th>32</th>\n",
              "      <td>160</td>\n",
              "      <td>161</td>\n",
              "      <td>162</td>\n",
              "      <td>163</td>\n",
              "      <td>164</td>\n",
              "    </tr>\n",
              "    <tr>\n",
              "      <th>33</th>\n",
              "      <td>165</td>\n",
              "      <td>166</td>\n",
              "      <td>167</td>\n",
              "      <td>168</td>\n",
              "      <td>169</td>\n",
              "    </tr>\n",
              "    <tr>\n",
              "      <th>34</th>\n",
              "      <td>170</td>\n",
              "      <td>171</td>\n",
              "      <td>172</td>\n",
              "      <td>173</td>\n",
              "      <td>174</td>\n",
              "    </tr>\n",
              "    <tr>\n",
              "      <th>35</th>\n",
              "      <td>175</td>\n",
              "      <td>176</td>\n",
              "      <td>177</td>\n",
              "      <td>178</td>\n",
              "      <td>179</td>\n",
              "    </tr>\n",
              "    <tr>\n",
              "      <th>36</th>\n",
              "      <td>180</td>\n",
              "      <td>181</td>\n",
              "      <td>182</td>\n",
              "      <td>183</td>\n",
              "      <td>184</td>\n",
              "    </tr>\n",
              "    <tr>\n",
              "      <th>37</th>\n",
              "      <td>185</td>\n",
              "      <td>186</td>\n",
              "      <td>187</td>\n",
              "      <td>188</td>\n",
              "      <td>189</td>\n",
              "    </tr>\n",
              "    <tr>\n",
              "      <th>38</th>\n",
              "      <td>190</td>\n",
              "      <td>191</td>\n",
              "      <td>192</td>\n",
              "      <td>193</td>\n",
              "      <td>194</td>\n",
              "    </tr>\n",
              "    <tr>\n",
              "      <th>39</th>\n",
              "      <td>195</td>\n",
              "      <td>196</td>\n",
              "      <td>197</td>\n",
              "      <td>198</td>\n",
              "      <td>199</td>\n",
              "    </tr>\n",
              "    <tr>\n",
              "      <th>40</th>\n",
              "      <td>200</td>\n",
              "      <td>201</td>\n",
              "      <td>202</td>\n",
              "      <td>203</td>\n",
              "      <td>204</td>\n",
              "    </tr>\n",
              "    <tr>\n",
              "      <th>41</th>\n",
              "      <td>205</td>\n",
              "      <td>206</td>\n",
              "      <td>207</td>\n",
              "      <td>208</td>\n",
              "      <td>209</td>\n",
              "    </tr>\n",
              "    <tr>\n",
              "      <th>42</th>\n",
              "      <td>210</td>\n",
              "      <td>211</td>\n",
              "      <td>212</td>\n",
              "      <td>213</td>\n",
              "      <td>214</td>\n",
              "    </tr>\n",
              "    <tr>\n",
              "      <th>43</th>\n",
              "      <td>215</td>\n",
              "      <td>216</td>\n",
              "      <td>217</td>\n",
              "      <td>218</td>\n",
              "      <td>219</td>\n",
              "    </tr>\n",
              "    <tr>\n",
              "      <th>44</th>\n",
              "      <td>220</td>\n",
              "      <td>221</td>\n",
              "      <td>222</td>\n",
              "      <td>223</td>\n",
              "      <td>224</td>\n",
              "    </tr>\n",
              "    <tr>\n",
              "      <th>45</th>\n",
              "      <td>225</td>\n",
              "      <td>226</td>\n",
              "      <td>227</td>\n",
              "      <td>228</td>\n",
              "      <td>229</td>\n",
              "    </tr>\n",
              "    <tr>\n",
              "      <th>46</th>\n",
              "      <td>230</td>\n",
              "      <td>231</td>\n",
              "      <td>232</td>\n",
              "      <td>233</td>\n",
              "      <td>234</td>\n",
              "    </tr>\n",
              "    <tr>\n",
              "      <th>47</th>\n",
              "      <td>235</td>\n",
              "      <td>236</td>\n",
              "      <td>237</td>\n",
              "      <td>238</td>\n",
              "      <td>239</td>\n",
              "    </tr>\n",
              "    <tr>\n",
              "      <th>48</th>\n",
              "      <td>240</td>\n",
              "      <td>241</td>\n",
              "      <td>242</td>\n",
              "      <td>243</td>\n",
              "      <td>244</td>\n",
              "    </tr>\n",
              "    <tr>\n",
              "      <th>49</th>\n",
              "      <td>245</td>\n",
              "      <td>246</td>\n",
              "      <td>247</td>\n",
              "      <td>248</td>\n",
              "      <td>249</td>\n",
              "    </tr>\n",
              "    <tr>\n",
              "      <th>50</th>\n",
              "      <td>250</td>\n",
              "      <td>251</td>\n",
              "      <td>252</td>\n",
              "      <td>253</td>\n",
              "      <td>254</td>\n",
              "    </tr>\n",
              "    <tr>\n",
              "      <th>51</th>\n",
              "      <td>255</td>\n",
              "      <td>256</td>\n",
              "      <td>257</td>\n",
              "      <td>258</td>\n",
              "      <td>259</td>\n",
              "    </tr>\n",
              "    <tr>\n",
              "      <th>52</th>\n",
              "      <td>260</td>\n",
              "      <td>261</td>\n",
              "      <td>262</td>\n",
              "      <td>263</td>\n",
              "      <td>264</td>\n",
              "    </tr>\n",
              "    <tr>\n",
              "      <th>53</th>\n",
              "      <td>265</td>\n",
              "      <td>266</td>\n",
              "      <td>267</td>\n",
              "      <td>268</td>\n",
              "      <td>269</td>\n",
              "    </tr>\n",
              "    <tr>\n",
              "      <th>54</th>\n",
              "      <td>270</td>\n",
              "      <td>271</td>\n",
              "      <td>272</td>\n",
              "      <td>273</td>\n",
              "      <td>274</td>\n",
              "    </tr>\n",
              "    <tr>\n",
              "      <th>55</th>\n",
              "      <td>275</td>\n",
              "      <td>276</td>\n",
              "      <td>277</td>\n",
              "      <td>278</td>\n",
              "      <td>279</td>\n",
              "    </tr>\n",
              "    <tr>\n",
              "      <th>56</th>\n",
              "      <td>280</td>\n",
              "      <td>281</td>\n",
              "      <td>282</td>\n",
              "      <td>283</td>\n",
              "      <td>284</td>\n",
              "    </tr>\n",
              "    <tr>\n",
              "      <th>57</th>\n",
              "      <td>285</td>\n",
              "      <td>286</td>\n",
              "      <td>287</td>\n",
              "      <td>288</td>\n",
              "      <td>289</td>\n",
              "    </tr>\n",
              "    <tr>\n",
              "      <th>58</th>\n",
              "      <td>290</td>\n",
              "      <td>291</td>\n",
              "      <td>292</td>\n",
              "      <td>293</td>\n",
              "      <td>294</td>\n",
              "    </tr>\n",
              "    <tr>\n",
              "      <th>59</th>\n",
              "      <td>295</td>\n",
              "      <td>296</td>\n",
              "      <td>297</td>\n",
              "      <td>298</td>\n",
              "      <td>299</td>\n",
              "    </tr>\n",
              "  </tbody>\n",
              "</table>\n",
              "</div>"
            ],
            "text/plain": [
              "      0    1    2    3    4\n",
              "0     0    1    2    3    4\n",
              "1     5    6    7    8    9\n",
              "2    10   11   12   13   14\n",
              "3    15   16   17   18   19\n",
              "4    20   21   22   23   24\n",
              "5    25   26   27   28   29\n",
              "6    30   31   32   33   34\n",
              "7    35   36   37   38   39\n",
              "8    40   41   42   43   44\n",
              "9    45   46   47   48   49\n",
              "10   50   51   52   53   54\n",
              "11   55   56   57   58   59\n",
              "12   60   61   62   63   64\n",
              "13   65   66   67   68   69\n",
              "14   70   71   72   73   74\n",
              "15   75   76   77   78   79\n",
              "16   80   81   82   83   84\n",
              "17   85   86   87   88   89\n",
              "18   90   91   92   93   94\n",
              "19   95   96   97   98   99\n",
              "20  100  101  102  103  104\n",
              "21  105  106  107  108  109\n",
              "22  110  111  112  113  114\n",
              "23  115  116  117  118  119\n",
              "24  120  121  122  123  124\n",
              "25  125  126  127  128  129\n",
              "26  130  131  132  133  134\n",
              "27  135  136  137  138  139\n",
              "28  140  141  142  143  144\n",
              "29  145  146  147  148  149\n",
              "30  150  151  152  153  154\n",
              "31  155  156  157  158  159\n",
              "32  160  161  162  163  164\n",
              "33  165  166  167  168  169\n",
              "34  170  171  172  173  174\n",
              "35  175  176  177  178  179\n",
              "36  180  181  182  183  184\n",
              "37  185  186  187  188  189\n",
              "38  190  191  192  193  194\n",
              "39  195  196  197  198  199\n",
              "40  200  201  202  203  204\n",
              "41  205  206  207  208  209\n",
              "42  210  211  212  213  214\n",
              "43  215  216  217  218  219\n",
              "44  220  221  222  223  224\n",
              "45  225  226  227  228  229\n",
              "46  230  231  232  233  234\n",
              "47  235  236  237  238  239\n",
              "48  240  241  242  243  244\n",
              "49  245  246  247  248  249\n",
              "50  250  251  252  253  254\n",
              "51  255  256  257  258  259\n",
              "52  260  261  262  263  264\n",
              "53  265  266  267  268  269\n",
              "54  270  271  272  273  274\n",
              "55  275  276  277  278  279\n",
              "56  280  281  282  283  284\n",
              "57  285  286  287  288  289\n",
              "58  290  291  292  293  294\n",
              "59  295  296  297  298  299"
            ]
          },
          "execution_count": 66,
          "metadata": {},
          "output_type": "execute_result"
        }
      ],
      "source": [
        "data2 = np.arange(300).reshape(60,5)\n",
        "df2 = pd.DataFrame(data2)\n",
        "df2"
      ]
    },
    {
      "cell_type": "markdown",
      "id": "color-material",
      "metadata": {
        "id": "color-material"
      },
      "source": [
        "#### 3.1.1 DataFrame.head(n=5):\n",
        "\n",
        "This function returns the first n rows for the object based on position. It is useful for quickly testing\n",
        "if your object has the right type of data in it."
      ]
    },
    {
      "cell_type": "code",
      "execution_count": null,
      "id": "diagnostic-civilization",
      "metadata": {
        "id": "diagnostic-civilization",
        "outputId": "ec9e09a2-26e0-4ba4-b478-dbf0197bd49e"
      },
      "outputs": [
        {
          "data": {
            "text/html": [
              "<div>\n",
              "<style scoped>\n",
              "    .dataframe tbody tr th:only-of-type {\n",
              "        vertical-align: middle;\n",
              "    }\n",
              "\n",
              "    .dataframe tbody tr th {\n",
              "        vertical-align: top;\n",
              "    }\n",
              "\n",
              "    .dataframe thead th {\n",
              "        text-align: right;\n",
              "    }\n",
              "</style>\n",
              "<table border=\"1\" class=\"dataframe\">\n",
              "  <thead>\n",
              "    <tr style=\"text-align: right;\">\n",
              "      <th></th>\n",
              "      <th>0</th>\n",
              "      <th>1</th>\n",
              "      <th>2</th>\n",
              "      <th>3</th>\n",
              "      <th>4</th>\n",
              "    </tr>\n",
              "  </thead>\n",
              "  <tbody>\n",
              "    <tr>\n",
              "      <th>0</th>\n",
              "      <td>0</td>\n",
              "      <td>1</td>\n",
              "      <td>2</td>\n",
              "      <td>3</td>\n",
              "      <td>4</td>\n",
              "    </tr>\n",
              "    <tr>\n",
              "      <th>1</th>\n",
              "      <td>5</td>\n",
              "      <td>6</td>\n",
              "      <td>7</td>\n",
              "      <td>8</td>\n",
              "      <td>9</td>\n",
              "    </tr>\n",
              "    <tr>\n",
              "      <th>2</th>\n",
              "      <td>10</td>\n",
              "      <td>11</td>\n",
              "      <td>12</td>\n",
              "      <td>13</td>\n",
              "      <td>14</td>\n",
              "    </tr>\n",
              "  </tbody>\n",
              "</table>\n",
              "</div>"
            ],
            "text/plain": [
              "    0   1   2   3   4\n",
              "0   0   1   2   3   4\n",
              "1   5   6   7   8   9\n",
              "2  10  11  12  13  14"
            ]
          },
          "execution_count": 67,
          "metadata": {},
          "output_type": "execute_result"
        }
      ],
      "source": [
        "df2.head(3)"
      ]
    },
    {
      "cell_type": "markdown",
      "id": "binary-farmer",
      "metadata": {
        "id": "binary-farmer"
      },
      "source": [
        "#### 3.1.2 DataFrame.tail(n=5):\n",
        "\n",
        "This function returns last n rows from the object based on position. It is useful for quickly verifying\n",
        "data, for example, after sorting or appending rows."
      ]
    },
    {
      "cell_type": "code",
      "execution_count": null,
      "id": "civic-nelson",
      "metadata": {
        "id": "civic-nelson",
        "outputId": "8a931f10-3bb2-4ba2-ae2c-e19b7cb99f15"
      },
      "outputs": [
        {
          "data": {
            "text/html": [
              "<div>\n",
              "<style scoped>\n",
              "    .dataframe tbody tr th:only-of-type {\n",
              "        vertical-align: middle;\n",
              "    }\n",
              "\n",
              "    .dataframe tbody tr th {\n",
              "        vertical-align: top;\n",
              "    }\n",
              "\n",
              "    .dataframe thead th {\n",
              "        text-align: right;\n",
              "    }\n",
              "</style>\n",
              "<table border=\"1\" class=\"dataframe\">\n",
              "  <thead>\n",
              "    <tr style=\"text-align: right;\">\n",
              "      <th></th>\n",
              "      <th>0</th>\n",
              "      <th>1</th>\n",
              "      <th>2</th>\n",
              "      <th>3</th>\n",
              "      <th>4</th>\n",
              "    </tr>\n",
              "  </thead>\n",
              "  <tbody>\n",
              "    <tr>\n",
              "      <th>57</th>\n",
              "      <td>285</td>\n",
              "      <td>286</td>\n",
              "      <td>287</td>\n",
              "      <td>288</td>\n",
              "      <td>289</td>\n",
              "    </tr>\n",
              "    <tr>\n",
              "      <th>58</th>\n",
              "      <td>290</td>\n",
              "      <td>291</td>\n",
              "      <td>292</td>\n",
              "      <td>293</td>\n",
              "      <td>294</td>\n",
              "    </tr>\n",
              "    <tr>\n",
              "      <th>59</th>\n",
              "      <td>295</td>\n",
              "      <td>296</td>\n",
              "      <td>297</td>\n",
              "      <td>298</td>\n",
              "      <td>299</td>\n",
              "    </tr>\n",
              "  </tbody>\n",
              "</table>\n",
              "</div>"
            ],
            "text/plain": [
              "      0    1    2    3    4\n",
              "57  285  286  287  288  289\n",
              "58  290  291  292  293  294\n",
              "59  295  296  297  298  299"
            ]
          },
          "execution_count": 68,
          "metadata": {},
          "output_type": "execute_result"
        }
      ],
      "source": [
        "df2.tail(3)"
      ]
    },
    {
      "cell_type": "markdown",
      "id": "extreme-morning",
      "metadata": {
        "id": "extreme-morning"
      },
      "source": [
        "### 3.2 Indexing and selecting data\n",
        "\n",
        "#### 3.2.1 index, columns and values"
      ]
    },
    {
      "cell_type": "code",
      "execution_count": null,
      "id": "brilliant-familiar",
      "metadata": {
        "id": "brilliant-familiar",
        "outputId": "4b54bf8e-836e-4e20-85e3-f7766a7d277a"
      },
      "outputs": [
        {
          "data": {
            "text/html": [
              "<div>\n",
              "<style scoped>\n",
              "    .dataframe tbody tr th:only-of-type {\n",
              "        vertical-align: middle;\n",
              "    }\n",
              "\n",
              "    .dataframe tbody tr th {\n",
              "        vertical-align: top;\n",
              "    }\n",
              "\n",
              "    .dataframe thead th {\n",
              "        text-align: right;\n",
              "    }\n",
              "</style>\n",
              "<table border=\"1\" class=\"dataframe\">\n",
              "  <thead>\n",
              "    <tr style=\"text-align: right;\">\n",
              "      <th></th>\n",
              "      <th>A</th>\n",
              "      <th>B</th>\n",
              "      <th>C</th>\n",
              "      <th>D</th>\n",
              "    </tr>\n",
              "  </thead>\n",
              "  <tbody>\n",
              "    <tr>\n",
              "      <th>a</th>\n",
              "      <td>0.997682</td>\n",
              "      <td>-1.242798</td>\n",
              "      <td>-0.792012</td>\n",
              "      <td>0.481150</td>\n",
              "    </tr>\n",
              "    <tr>\n",
              "      <th>b</th>\n",
              "      <td>-1.297472</td>\n",
              "      <td>0.062500</td>\n",
              "      <td>-2.343181</td>\n",
              "      <td>-1.994024</td>\n",
              "    </tr>\n",
              "    <tr>\n",
              "      <th>c</th>\n",
              "      <td>-0.519871</td>\n",
              "      <td>0.513124</td>\n",
              "      <td>0.470662</td>\n",
              "      <td>0.266393</td>\n",
              "    </tr>\n",
              "    <tr>\n",
              "      <th>d</th>\n",
              "      <td>-0.286744</td>\n",
              "      <td>-1.457077</td>\n",
              "      <td>-0.971688</td>\n",
              "      <td>-0.159408</td>\n",
              "    </tr>\n",
              "    <tr>\n",
              "      <th>e</th>\n",
              "      <td>-0.054591</td>\n",
              "      <td>0.517266</td>\n",
              "      <td>1.858192</td>\n",
              "      <td>-0.274975</td>\n",
              "    </tr>\n",
              "    <tr>\n",
              "      <th>f</th>\n",
              "      <td>-0.174290</td>\n",
              "      <td>-1.382250</td>\n",
              "      <td>0.597462</td>\n",
              "      <td>0.168532</td>\n",
              "    </tr>\n",
              "    <tr>\n",
              "      <th>g</th>\n",
              "      <td>-0.744910</td>\n",
              "      <td>0.607027</td>\n",
              "      <td>0.310289</td>\n",
              "      <td>-0.361481</td>\n",
              "    </tr>\n",
              "  </tbody>\n",
              "</table>\n",
              "</div>"
            ],
            "text/plain": [
              "          A         B         C         D\n",
              "a  0.997682 -1.242798 -0.792012  0.481150\n",
              "b -1.297472  0.062500 -2.343181 -1.994024\n",
              "c -0.519871  0.513124  0.470662  0.266393\n",
              "d -0.286744 -1.457077 -0.971688 -0.159408\n",
              "e -0.054591  0.517266  1.858192 -0.274975\n",
              "f -0.174290 -1.382250  0.597462  0.168532\n",
              "g -0.744910  0.607027  0.310289 -0.361481"
            ]
          },
          "execution_count": 69,
          "metadata": {},
          "output_type": "execute_result"
        }
      ],
      "source": [
        "# create random numbers as values\n",
        "df = pd.DataFrame(np.random.randn(7,4), index=['a','b','c','d','e','f','g']\n",
        ", columns=list('ABCD'))\n",
        "df"
      ]
    },
    {
      "cell_type": "code",
      "execution_count": null,
      "id": "clear-radio",
      "metadata": {
        "id": "clear-radio",
        "outputId": "e84a4fcd-ec86-479c-d386-ba89c048fb59"
      },
      "outputs": [
        {
          "data": {
            "text/plain": [
              "Index(['a', 'b', 'c', 'd', 'e', 'f', 'g'], dtype='object')"
            ]
          },
          "execution_count": 70,
          "metadata": {},
          "output_type": "execute_result"
        }
      ],
      "source": [
        "df.index"
      ]
    },
    {
      "cell_type": "code",
      "execution_count": null,
      "id": "digital-pipeline",
      "metadata": {
        "id": "digital-pipeline",
        "outputId": "0285a10e-b5c4-44d8-9385-03b3b9604cad"
      },
      "outputs": [
        {
          "data": {
            "text/plain": [
              "Index(['A', 'B', 'C', 'D'], dtype='object')"
            ]
          },
          "execution_count": 71,
          "metadata": {},
          "output_type": "execute_result"
        }
      ],
      "source": [
        "df.columns"
      ]
    },
    {
      "cell_type": "code",
      "execution_count": null,
      "id": "simple-placement",
      "metadata": {
        "id": "simple-placement",
        "outputId": "eafaac09-2ef9-4cf5-f45a-6f3cc726a949"
      },
      "outputs": [
        {
          "data": {
            "text/plain": [
              "array([[ 0.99768238, -1.24279849, -0.79201185,  0.48114963],\n",
              "       [-1.2974719 ,  0.06249959, -2.34318118, -1.99402427],\n",
              "       [-0.51987112,  0.51312431,  0.4706617 ,  0.26639315],\n",
              "       [-0.28674444, -1.45707651, -0.97168831, -0.15940806],\n",
              "       [-0.05459056,  0.51726621,  1.85819184, -0.27497458],\n",
              "       [-0.17429002, -1.38225039,  0.59746187,  0.16853177],\n",
              "       [-0.74491027,  0.60702699,  0.31028931, -0.36148133]])"
            ]
          },
          "execution_count": 72,
          "metadata": {},
          "output_type": "execute_result"
        }
      ],
      "source": [
        "df.values"
      ]
    },
    {
      "cell_type": "markdown",
      "id": "august-laundry",
      "metadata": {
        "id": "august-laundry"
      },
      "source": [
        "### 3.2.2 loc, iloc\n",
        "\n",
        "* .loc is primarily label based, but may also be used with a boolean array. .loc will raise KeyError\n",
        "   when the items are not found.\n",
        "   \n",
        "* .iloc is primarily integer position based (from 0 to length-1 of the axis), but may also be used\n",
        "   with a boolean array. .iloc will raise IndexError if a requested indexer is out-of-bounds, except\n",
        "  slice indexers which allow out-of-bounds indexing. (this conforms with Python/NumPy slice\n",
        "  semantics)."
      ]
    },
    {
      "cell_type": "code",
      "execution_count": null,
      "id": "coupled-rendering",
      "metadata": {
        "id": "coupled-rendering",
        "outputId": "ba501823-6ed6-4238-c160-481f00cc8e5e"
      },
      "outputs": [
        {
          "data": {
            "text/html": [
              "<div>\n",
              "<style scoped>\n",
              "    .dataframe tbody tr th:only-of-type {\n",
              "        vertical-align: middle;\n",
              "    }\n",
              "\n",
              "    .dataframe tbody tr th {\n",
              "        vertical-align: top;\n",
              "    }\n",
              "\n",
              "    .dataframe thead th {\n",
              "        text-align: right;\n",
              "    }\n",
              "</style>\n",
              "<table border=\"1\" class=\"dataframe\">\n",
              "  <thead>\n",
              "    <tr style=\"text-align: right;\">\n",
              "      <th></th>\n",
              "      <th>A</th>\n",
              "      <th>B</th>\n",
              "      <th>C</th>\n",
              "      <th>D</th>\n",
              "    </tr>\n",
              "  </thead>\n",
              "  <tbody>\n",
              "    <tr>\n",
              "      <th>a</th>\n",
              "      <td>1.363098</td>\n",
              "      <td>0.118900</td>\n",
              "      <td>0.185106</td>\n",
              "      <td>-1.430410</td>\n",
              "    </tr>\n",
              "    <tr>\n",
              "      <th>b</th>\n",
              "      <td>-0.386118</td>\n",
              "      <td>0.491421</td>\n",
              "      <td>-0.393830</td>\n",
              "      <td>0.305888</td>\n",
              "    </tr>\n",
              "    <tr>\n",
              "      <th>c</th>\n",
              "      <td>-1.290514</td>\n",
              "      <td>0.172591</td>\n",
              "      <td>1.332680</td>\n",
              "      <td>-0.662525</td>\n",
              "    </tr>\n",
              "    <tr>\n",
              "      <th>d</th>\n",
              "      <td>-2.402603</td>\n",
              "      <td>2.073586</td>\n",
              "      <td>-0.495757</td>\n",
              "      <td>-0.980974</td>\n",
              "    </tr>\n",
              "    <tr>\n",
              "      <th>e</th>\n",
              "      <td>0.510224</td>\n",
              "      <td>1.297291</td>\n",
              "      <td>2.407471</td>\n",
              "      <td>0.802402</td>\n",
              "    </tr>\n",
              "    <tr>\n",
              "      <th>f</th>\n",
              "      <td>0.360497</td>\n",
              "      <td>1.126347</td>\n",
              "      <td>0.046743</td>\n",
              "      <td>-0.581367</td>\n",
              "    </tr>\n",
              "  </tbody>\n",
              "</table>\n",
              "</div>"
            ],
            "text/plain": [
              "          A         B         C         D\n",
              "a  1.363098  0.118900  0.185106 -1.430410\n",
              "b -0.386118  0.491421 -0.393830  0.305888\n",
              "c -1.290514  0.172591  1.332680 -0.662525\n",
              "d -2.402603  2.073586 -0.495757 -0.980974\n",
              "e  0.510224  1.297291  2.407471  0.802402\n",
              "f  0.360497  1.126347  0.046743 -0.581367"
            ]
          },
          "execution_count": 73,
          "metadata": {},
          "output_type": "execute_result"
        }
      ],
      "source": [
        "df1 = pd.DataFrame(np.random.randn(6, 4),\n",
        "index=list('abcdef'),\n",
        "columns=list('ABCD'))\n",
        "df1"
      ]
    },
    {
      "cell_type": "code",
      "execution_count": null,
      "id": "similar-national",
      "metadata": {
        "id": "similar-national",
        "outputId": "884043df-c2c6-4727-df3d-a47cf214c546"
      },
      "outputs": [
        {
          "data": {
            "text/html": [
              "<div>\n",
              "<style scoped>\n",
              "    .dataframe tbody tr th:only-of-type {\n",
              "        vertical-align: middle;\n",
              "    }\n",
              "\n",
              "    .dataframe tbody tr th {\n",
              "        vertical-align: top;\n",
              "    }\n",
              "\n",
              "    .dataframe thead th {\n",
              "        text-align: right;\n",
              "    }\n",
              "</style>\n",
              "<table border=\"1\" class=\"dataframe\">\n",
              "  <thead>\n",
              "    <tr style=\"text-align: right;\">\n",
              "      <th></th>\n",
              "      <th>A</th>\n",
              "      <th>B</th>\n",
              "      <th>C</th>\n",
              "      <th>D</th>\n",
              "    </tr>\n",
              "  </thead>\n",
              "  <tbody>\n",
              "    <tr>\n",
              "      <th>a</th>\n",
              "      <td>1.363098</td>\n",
              "      <td>0.118900</td>\n",
              "      <td>0.185106</td>\n",
              "      <td>-1.430410</td>\n",
              "    </tr>\n",
              "    <tr>\n",
              "      <th>b</th>\n",
              "      <td>-0.386118</td>\n",
              "      <td>0.491421</td>\n",
              "      <td>-0.393830</td>\n",
              "      <td>0.305888</td>\n",
              "    </tr>\n",
              "    <tr>\n",
              "      <th>d</th>\n",
              "      <td>-2.402603</td>\n",
              "      <td>2.073586</td>\n",
              "      <td>-0.495757</td>\n",
              "      <td>-0.980974</td>\n",
              "    </tr>\n",
              "  </tbody>\n",
              "</table>\n",
              "</div>"
            ],
            "text/plain": [
              "          A         B         C         D\n",
              "a  1.363098  0.118900  0.185106 -1.430410\n",
              "b -0.386118  0.491421 -0.393830  0.305888\n",
              "d -2.402603  2.073586 -0.495757 -0.980974"
            ]
          },
          "execution_count": 74,
          "metadata": {},
          "output_type": "execute_result"
        }
      ],
      "source": [
        "df1.loc[['a', 'b', 'd'], :]"
      ]
    },
    {
      "cell_type": "code",
      "execution_count": null,
      "id": "accessory-wilson",
      "metadata": {
        "id": "accessory-wilson",
        "outputId": "36d17b6a-12f5-486a-8dac-63202a9e534f"
      },
      "outputs": [
        {
          "data": {
            "text/html": [
              "<div>\n",
              "<style scoped>\n",
              "    .dataframe tbody tr th:only-of-type {\n",
              "        vertical-align: middle;\n",
              "    }\n",
              "\n",
              "    .dataframe tbody tr th {\n",
              "        vertical-align: top;\n",
              "    }\n",
              "\n",
              "    .dataframe thead th {\n",
              "        text-align: right;\n",
              "    }\n",
              "</style>\n",
              "<table border=\"1\" class=\"dataframe\">\n",
              "  <thead>\n",
              "    <tr style=\"text-align: right;\">\n",
              "      <th></th>\n",
              "      <th>A</th>\n",
              "      <th>B</th>\n",
              "      <th>C</th>\n",
              "      <th>D</th>\n",
              "    </tr>\n",
              "  </thead>\n",
              "  <tbody>\n",
              "    <tr>\n",
              "      <th>a</th>\n",
              "      <td>1.363098</td>\n",
              "      <td>0.118900</td>\n",
              "      <td>0.185106</td>\n",
              "      <td>-1.430410</td>\n",
              "    </tr>\n",
              "    <tr>\n",
              "      <th>b</th>\n",
              "      <td>-0.386118</td>\n",
              "      <td>0.491421</td>\n",
              "      <td>-0.393830</td>\n",
              "      <td>0.305888</td>\n",
              "    </tr>\n",
              "    <tr>\n",
              "      <th>d</th>\n",
              "      <td>-2.402603</td>\n",
              "      <td>2.073586</td>\n",
              "      <td>-0.495757</td>\n",
              "      <td>-0.980974</td>\n",
              "    </tr>\n",
              "  </tbody>\n",
              "</table>\n",
              "</div>"
            ],
            "text/plain": [
              "          A         B         C         D\n",
              "a  1.363098  0.118900  0.185106 -1.430410\n",
              "b -0.386118  0.491421 -0.393830  0.305888\n",
              "d -2.402603  2.073586 -0.495757 -0.980974"
            ]
          },
          "execution_count": 75,
          "metadata": {},
          "output_type": "execute_result"
        }
      ],
      "source": [
        "df1.iloc[[0, 1, 3], :]"
      ]
    },
    {
      "cell_type": "markdown",
      "id": "commercial-freeze",
      "metadata": {
        "id": "commercial-freeze"
      },
      "source": [
        "## 3.3 Descriptive statistics\n",
        "\n",
        "\n",
        "There exists a large number of methods for computing descriptive statistics and other related\n",
        "operations on Series, DataFrame. Most of these are aggregations (hence producing a lower-\n",
        "dimensional result) like sum(), mean(), and quantile(), but some of them, like cumsum() and\n",
        "cumprod(), produce an object of the same size. Generally speaking, these methods take an axis\n",
        "argument, just like ndarray.{sum, std, ...}, but the axis can be specified by name or integer:\n",
        "\n",
        " * Series: no axis argument needed\n",
        "\n",
        " * DataFrame: “index” (axis=0, default), “columns” (axis=1)3.3.1 Descriptive statistics functions\n",
        "\n",
        " * count: Number of non-NA observations\n",
        "\n",
        " * mean: Mean of values\n",
        "\n",
        " * std: Bessel-corrected sample standard deviation\n",
        "\n",
        " * sum: Sum of values\n",
        "\n",
        " * median: Arithmetic median of values\n",
        "\n",
        " * min: Minimum\n",
        "\n",
        " * max: Maximum\n",
        "\n",
        " * quantile: Sample quantile (value at %)\n",
        "\n",
        " * abs: Absolute Value\n",
        "\n",
        " * prod: Product of values\n",
        "\n",
        " * var: Unbiased variance"
      ]
    },
    {
      "cell_type": "code",
      "execution_count": null,
      "id": "pointed-terminology",
      "metadata": {
        "id": "pointed-terminology",
        "outputId": "b97ea84d-ca41-4cc8-d635-bf6d69b9311b"
      },
      "outputs": [
        {
          "name": "stdout",
          "output_type": "stream",
          "text": [
            "A    6\n",
            "B    6\n",
            "C    6\n",
            "D    6\n",
            "dtype: int64\n",
            "A   -0.307569\n",
            "B    0.880023\n",
            "C    0.513735\n",
            "D   -0.424498\n",
            "dtype: float64\n",
            "A    1.361451\n",
            "B    0.760284\n",
            "C    1.133643\n",
            "D    0.829643\n",
            "dtype: float64\n",
            "A   -1.845416\n",
            "B    5.280136\n",
            "C    3.082413\n",
            "D   -2.546986\n",
            "dtype: float64\n"
          ]
        }
      ],
      "source": [
        "print(df1.count())\n",
        "print(df1.mean())\n",
        "print(df1.std())\n",
        "print(df1.sum())"
      ]
    },
    {
      "cell_type": "markdown",
      "id": "indoor-lawsuit",
      "metadata": {
        "id": "indoor-lawsuit"
      },
      "source": [
        "### 3.3.2 Summarizing data: describe\n",
        "\n",
        "There is a convenient describe() function which computes a variety of summary statistics about a\n",
        "Series or the columns of a DataFrame (excluding NAs of course)."
      ]
    },
    {
      "cell_type": "code",
      "execution_count": null,
      "id": "corresponding-broadway",
      "metadata": {
        "id": "corresponding-broadway",
        "outputId": "8af53ac8-0c1e-4c65-8e3b-3fe389785f54"
      },
      "outputs": [
        {
          "data": {
            "text/html": [
              "<div>\n",
              "<style scoped>\n",
              "    .dataframe tbody tr th:only-of-type {\n",
              "        vertical-align: middle;\n",
              "    }\n",
              "\n",
              "    .dataframe tbody tr th {\n",
              "        vertical-align: top;\n",
              "    }\n",
              "\n",
              "    .dataframe thead th {\n",
              "        text-align: right;\n",
              "    }\n",
              "</style>\n",
              "<table border=\"1\" class=\"dataframe\">\n",
              "  <thead>\n",
              "    <tr style=\"text-align: right;\">\n",
              "      <th></th>\n",
              "      <th>0</th>\n",
              "      <th>1</th>\n",
              "      <th>2</th>\n",
              "      <th>3</th>\n",
              "      <th>4</th>\n",
              "    </tr>\n",
              "  </thead>\n",
              "  <tbody>\n",
              "    <tr>\n",
              "      <th>count</th>\n",
              "      <td>60.000000</td>\n",
              "      <td>60.000000</td>\n",
              "      <td>60.000000</td>\n",
              "      <td>60.000000</td>\n",
              "      <td>60.000000</td>\n",
              "    </tr>\n",
              "    <tr>\n",
              "      <th>mean</th>\n",
              "      <td>147.500000</td>\n",
              "      <td>148.500000</td>\n",
              "      <td>149.500000</td>\n",
              "      <td>150.500000</td>\n",
              "      <td>151.500000</td>\n",
              "    </tr>\n",
              "    <tr>\n",
              "      <th>std</th>\n",
              "      <td>87.321246</td>\n",
              "      <td>87.321246</td>\n",
              "      <td>87.321246</td>\n",
              "      <td>87.321246</td>\n",
              "      <td>87.321246</td>\n",
              "    </tr>\n",
              "    <tr>\n",
              "      <th>min</th>\n",
              "      <td>0.000000</td>\n",
              "      <td>1.000000</td>\n",
              "      <td>2.000000</td>\n",
              "      <td>3.000000</td>\n",
              "      <td>4.000000</td>\n",
              "    </tr>\n",
              "    <tr>\n",
              "      <th>25%</th>\n",
              "      <td>73.750000</td>\n",
              "      <td>74.750000</td>\n",
              "      <td>75.750000</td>\n",
              "      <td>76.750000</td>\n",
              "      <td>77.750000</td>\n",
              "    </tr>\n",
              "    <tr>\n",
              "      <th>50%</th>\n",
              "      <td>147.500000</td>\n",
              "      <td>148.500000</td>\n",
              "      <td>149.500000</td>\n",
              "      <td>150.500000</td>\n",
              "      <td>151.500000</td>\n",
              "    </tr>\n",
              "    <tr>\n",
              "      <th>75%</th>\n",
              "      <td>221.250000</td>\n",
              "      <td>222.250000</td>\n",
              "      <td>223.250000</td>\n",
              "      <td>224.250000</td>\n",
              "      <td>225.250000</td>\n",
              "    </tr>\n",
              "    <tr>\n",
              "      <th>max</th>\n",
              "      <td>295.000000</td>\n",
              "      <td>296.000000</td>\n",
              "      <td>297.000000</td>\n",
              "      <td>298.000000</td>\n",
              "      <td>299.000000</td>\n",
              "    </tr>\n",
              "  </tbody>\n",
              "</table>\n",
              "</div>"
            ],
            "text/plain": [
              "                0           1           2           3           4\n",
              "count   60.000000   60.000000   60.000000   60.000000   60.000000\n",
              "mean   147.500000  148.500000  149.500000  150.500000  151.500000\n",
              "std     87.321246   87.321246   87.321246   87.321246   87.321246\n",
              "min      0.000000    1.000000    2.000000    3.000000    4.000000\n",
              "25%     73.750000   74.750000   75.750000   76.750000   77.750000\n",
              "50%    147.500000  148.500000  149.500000  150.500000  151.500000\n",
              "75%    221.250000  222.250000  223.250000  224.250000  225.250000\n",
              "max    295.000000  296.000000  297.000000  298.000000  299.000000"
            ]
          },
          "execution_count": 77,
          "metadata": {},
          "output_type": "execute_result"
        }
      ],
      "source": [
        "df2.describe()"
      ]
    },
    {
      "cell_type": "markdown",
      "id": "buried-wales",
      "metadata": {
        "id": "buried-wales"
      },
      "source": [
        "## 4. Dropping labels from an axis\n",
        "\n",
        "The drop() function. It removes a set of labels from an axis"
      ]
    },
    {
      "cell_type": "code",
      "execution_count": null,
      "id": "eastern-profit",
      "metadata": {
        "id": "eastern-profit",
        "outputId": "b4b42ae3-4fcc-4430-c323-c937f56092ab"
      },
      "outputs": [
        {
          "data": {
            "text/html": [
              "<div>\n",
              "<style scoped>\n",
              "    .dataframe tbody tr th:only-of-type {\n",
              "        vertical-align: middle;\n",
              "    }\n",
              "\n",
              "    .dataframe tbody tr th {\n",
              "        vertical-align: top;\n",
              "    }\n",
              "\n",
              "    .dataframe thead th {\n",
              "        text-align: right;\n",
              "    }\n",
              "</style>\n",
              "<table border=\"1\" class=\"dataframe\">\n",
              "  <thead>\n",
              "    <tr style=\"text-align: right;\">\n",
              "      <th></th>\n",
              "      <th>A</th>\n",
              "      <th>B</th>\n",
              "      <th>c</th>\n",
              "      <th>D</th>\n",
              "      <th>E</th>\n",
              "    </tr>\n",
              "  </thead>\n",
              "  <tbody>\n",
              "    <tr>\n",
              "      <th>a</th>\n",
              "      <td>0</td>\n",
              "      <td>1</td>\n",
              "      <td>2</td>\n",
              "      <td>3</td>\n",
              "      <td>4</td>\n",
              "    </tr>\n",
              "    <tr>\n",
              "      <th>b</th>\n",
              "      <td>5</td>\n",
              "      <td>6</td>\n",
              "      <td>7</td>\n",
              "      <td>8</td>\n",
              "      <td>9</td>\n",
              "    </tr>\n",
              "    <tr>\n",
              "      <th>c</th>\n",
              "      <td>10</td>\n",
              "      <td>11</td>\n",
              "      <td>12</td>\n",
              "      <td>13</td>\n",
              "      <td>14</td>\n",
              "    </tr>\n",
              "    <tr>\n",
              "      <th>d</th>\n",
              "      <td>15</td>\n",
              "      <td>16</td>\n",
              "      <td>17</td>\n",
              "      <td>18</td>\n",
              "      <td>19</td>\n",
              "    </tr>\n",
              "    <tr>\n",
              "      <th>e</th>\n",
              "      <td>20</td>\n",
              "      <td>21</td>\n",
              "      <td>22</td>\n",
              "      <td>23</td>\n",
              "      <td>24</td>\n",
              "    </tr>\n",
              "    <tr>\n",
              "      <th>f</th>\n",
              "      <td>25</td>\n",
              "      <td>26</td>\n",
              "      <td>27</td>\n",
              "      <td>28</td>\n",
              "      <td>29</td>\n",
              "    </tr>\n",
              "  </tbody>\n",
              "</table>\n",
              "</div>"
            ],
            "text/plain": [
              "    A   B   c   D   E\n",
              "a   0   1   2   3   4\n",
              "b   5   6   7   8   9\n",
              "c  10  11  12  13  14\n",
              "d  15  16  17  18  19\n",
              "e  20  21  22  23  24\n",
              "f  25  26  27  28  29"
            ]
          },
          "execution_count": 78,
          "metadata": {},
          "output_type": "execute_result"
        }
      ],
      "source": [
        "data3 = np.arange(30).reshape(6,5)\n",
        "df3 = pd.DataFrame(data3,index=['a','b','c','d','e', 'f'] , columns = ['A', 'B','c','D','E'])\n",
        "df3"
      ]
    },
    {
      "cell_type": "code",
      "execution_count": null,
      "id": "average-karaoke",
      "metadata": {
        "id": "average-karaoke",
        "outputId": "76e368e0-505f-4782-ccc2-c516662c08a8"
      },
      "outputs": [
        {
          "data": {
            "text/html": [
              "<div>\n",
              "<style scoped>\n",
              "    .dataframe tbody tr th:only-of-type {\n",
              "        vertical-align: middle;\n",
              "    }\n",
              "\n",
              "    .dataframe tbody tr th {\n",
              "        vertical-align: top;\n",
              "    }\n",
              "\n",
              "    .dataframe thead th {\n",
              "        text-align: right;\n",
              "    }\n",
              "</style>\n",
              "<table border=\"1\" class=\"dataframe\">\n",
              "  <thead>\n",
              "    <tr style=\"text-align: right;\">\n",
              "      <th></th>\n",
              "      <th>A</th>\n",
              "      <th>B</th>\n",
              "      <th>c</th>\n",
              "      <th>D</th>\n",
              "      <th>E</th>\n",
              "    </tr>\n",
              "  </thead>\n",
              "  <tbody>\n",
              "    <tr>\n",
              "      <th>b</th>\n",
              "      <td>5</td>\n",
              "      <td>6</td>\n",
              "      <td>7</td>\n",
              "      <td>8</td>\n",
              "      <td>9</td>\n",
              "    </tr>\n",
              "    <tr>\n",
              "      <th>c</th>\n",
              "      <td>10</td>\n",
              "      <td>11</td>\n",
              "      <td>12</td>\n",
              "      <td>13</td>\n",
              "      <td>14</td>\n",
              "    </tr>\n",
              "    <tr>\n",
              "      <th>d</th>\n",
              "      <td>15</td>\n",
              "      <td>16</td>\n",
              "      <td>17</td>\n",
              "      <td>18</td>\n",
              "      <td>19</td>\n",
              "    </tr>\n",
              "    <tr>\n",
              "      <th>e</th>\n",
              "      <td>20</td>\n",
              "      <td>21</td>\n",
              "      <td>22</td>\n",
              "      <td>23</td>\n",
              "      <td>24</td>\n",
              "    </tr>\n",
              "    <tr>\n",
              "      <th>f</th>\n",
              "      <td>25</td>\n",
              "      <td>26</td>\n",
              "      <td>27</td>\n",
              "      <td>28</td>\n",
              "      <td>29</td>\n",
              "    </tr>\n",
              "  </tbody>\n",
              "</table>\n",
              "</div>"
            ],
            "text/plain": [
              "    A   B   c   D   E\n",
              "b   5   6   7   8   9\n",
              "c  10  11  12  13  14\n",
              "d  15  16  17  18  19\n",
              "e  20  21  22  23  24\n",
              "f  25  26  27  28  29"
            ]
          },
          "execution_count": 79,
          "metadata": {},
          "output_type": "execute_result"
        }
      ],
      "source": [
        "a = df3.drop(['a'], axis=0) # axis=0, delete rows\n",
        "a"
      ]
    },
    {
      "cell_type": "code",
      "execution_count": null,
      "id": "disabled-specific",
      "metadata": {
        "id": "disabled-specific",
        "outputId": "be7377cf-be5c-4d55-988a-819aa62bace6"
      },
      "outputs": [
        {
          "data": {
            "text/html": [
              "<div>\n",
              "<style scoped>\n",
              "    .dataframe tbody tr th:only-of-type {\n",
              "        vertical-align: middle;\n",
              "    }\n",
              "\n",
              "    .dataframe tbody tr th {\n",
              "        vertical-align: top;\n",
              "    }\n",
              "\n",
              "    .dataframe thead th {\n",
              "        text-align: right;\n",
              "    }\n",
              "</style>\n",
              "<table border=\"1\" class=\"dataframe\">\n",
              "  <thead>\n",
              "    <tr style=\"text-align: right;\">\n",
              "      <th></th>\n",
              "      <th>B</th>\n",
              "      <th>c</th>\n",
              "      <th>D</th>\n",
              "      <th>E</th>\n",
              "    </tr>\n",
              "  </thead>\n",
              "  <tbody>\n",
              "    <tr>\n",
              "      <th>a</th>\n",
              "      <td>1</td>\n",
              "      <td>2</td>\n",
              "      <td>3</td>\n",
              "      <td>4</td>\n",
              "    </tr>\n",
              "    <tr>\n",
              "      <th>b</th>\n",
              "      <td>6</td>\n",
              "      <td>7</td>\n",
              "      <td>8</td>\n",
              "      <td>9</td>\n",
              "    </tr>\n",
              "    <tr>\n",
              "      <th>c</th>\n",
              "      <td>11</td>\n",
              "      <td>12</td>\n",
              "      <td>13</td>\n",
              "      <td>14</td>\n",
              "    </tr>\n",
              "    <tr>\n",
              "      <th>d</th>\n",
              "      <td>16</td>\n",
              "      <td>17</td>\n",
              "      <td>18</td>\n",
              "      <td>19</td>\n",
              "    </tr>\n",
              "    <tr>\n",
              "      <th>e</th>\n",
              "      <td>21</td>\n",
              "      <td>22</td>\n",
              "      <td>23</td>\n",
              "      <td>24</td>\n",
              "    </tr>\n",
              "    <tr>\n",
              "      <th>f</th>\n",
              "      <td>26</td>\n",
              "      <td>27</td>\n",
              "      <td>28</td>\n",
              "      <td>29</td>\n",
              "    </tr>\n",
              "  </tbody>\n",
              "</table>\n",
              "</div>"
            ],
            "text/plain": [
              "    B   c   D   E\n",
              "a   1   2   3   4\n",
              "b   6   7   8   9\n",
              "c  11  12  13  14\n",
              "d  16  17  18  19\n",
              "e  21  22  23  24\n",
              "f  26  27  28  29"
            ]
          },
          "execution_count": 80,
          "metadata": {},
          "output_type": "execute_result"
        }
      ],
      "source": [
        "b = df3.drop(['A'], axis=1) # axis=1, delete columns\n",
        "b"
      ]
    },
    {
      "cell_type": "markdown",
      "id": "medical-falls",
      "metadata": {
        "id": "medical-falls"
      },
      "source": [
        "## 5. DataFrame.append\n",
        "\n",
        "Append rows of other to the end of caller, returning a new object.Columns in other that are not in\n",
        "the caller are added as new columns"
      ]
    },
    {
      "cell_type": "code",
      "execution_count": null,
      "id": "frank-shannon",
      "metadata": {
        "id": "frank-shannon",
        "outputId": "14d92136-6027-42a9-cf26-41dc4a4a642e"
      },
      "outputs": [
        {
          "data": {
            "text/html": [
              "<div>\n",
              "<style scoped>\n",
              "    .dataframe tbody tr th:only-of-type {\n",
              "        vertical-align: middle;\n",
              "    }\n",
              "\n",
              "    .dataframe tbody tr th {\n",
              "        vertical-align: top;\n",
              "    }\n",
              "\n",
              "    .dataframe thead th {\n",
              "        text-align: right;\n",
              "    }\n",
              "</style>\n",
              "<table border=\"1\" class=\"dataframe\">\n",
              "  <thead>\n",
              "    <tr style=\"text-align: right;\">\n",
              "      <th></th>\n",
              "      <th>B</th>\n",
              "      <th>c</th>\n",
              "      <th>D</th>\n",
              "      <th>E</th>\n",
              "      <th>A</th>\n",
              "    </tr>\n",
              "  </thead>\n",
              "  <tbody>\n",
              "    <tr>\n",
              "      <th>a</th>\n",
              "      <td>1</td>\n",
              "      <td>2</td>\n",
              "      <td>3</td>\n",
              "      <td>4</td>\n",
              "      <td>NaN</td>\n",
              "    </tr>\n",
              "    <tr>\n",
              "      <th>b</th>\n",
              "      <td>6</td>\n",
              "      <td>7</td>\n",
              "      <td>8</td>\n",
              "      <td>9</td>\n",
              "      <td>NaN</td>\n",
              "    </tr>\n",
              "    <tr>\n",
              "      <th>c</th>\n",
              "      <td>11</td>\n",
              "      <td>12</td>\n",
              "      <td>13</td>\n",
              "      <td>14</td>\n",
              "      <td>NaN</td>\n",
              "    </tr>\n",
              "    <tr>\n",
              "      <th>d</th>\n",
              "      <td>16</td>\n",
              "      <td>17</td>\n",
              "      <td>18</td>\n",
              "      <td>19</td>\n",
              "      <td>NaN</td>\n",
              "    </tr>\n",
              "    <tr>\n",
              "      <th>e</th>\n",
              "      <td>21</td>\n",
              "      <td>22</td>\n",
              "      <td>23</td>\n",
              "      <td>24</td>\n",
              "      <td>NaN</td>\n",
              "    </tr>\n",
              "    <tr>\n",
              "      <th>f</th>\n",
              "      <td>26</td>\n",
              "      <td>27</td>\n",
              "      <td>28</td>\n",
              "      <td>29</td>\n",
              "      <td>NaN</td>\n",
              "    </tr>\n",
              "    <tr>\n",
              "      <th>b</th>\n",
              "      <td>6</td>\n",
              "      <td>7</td>\n",
              "      <td>8</td>\n",
              "      <td>9</td>\n",
              "      <td>5.0</td>\n",
              "    </tr>\n",
              "    <tr>\n",
              "      <th>c</th>\n",
              "      <td>11</td>\n",
              "      <td>12</td>\n",
              "      <td>13</td>\n",
              "      <td>14</td>\n",
              "      <td>10.0</td>\n",
              "    </tr>\n",
              "    <tr>\n",
              "      <th>d</th>\n",
              "      <td>16</td>\n",
              "      <td>17</td>\n",
              "      <td>18</td>\n",
              "      <td>19</td>\n",
              "      <td>15.0</td>\n",
              "    </tr>\n",
              "    <tr>\n",
              "      <th>e</th>\n",
              "      <td>21</td>\n",
              "      <td>22</td>\n",
              "      <td>23</td>\n",
              "      <td>24</td>\n",
              "      <td>20.0</td>\n",
              "    </tr>\n",
              "    <tr>\n",
              "      <th>f</th>\n",
              "      <td>26</td>\n",
              "      <td>27</td>\n",
              "      <td>28</td>\n",
              "      <td>29</td>\n",
              "      <td>25.0</td>\n",
              "    </tr>\n",
              "  </tbody>\n",
              "</table>\n",
              "</div>"
            ],
            "text/plain": [
              "    B   c   D   E     A\n",
              "a   1   2   3   4   NaN\n",
              "b   6   7   8   9   NaN\n",
              "c  11  12  13  14   NaN\n",
              "d  16  17  18  19   NaN\n",
              "e  21  22  23  24   NaN\n",
              "f  26  27  28  29   NaN\n",
              "b   6   7   8   9   5.0\n",
              "c  11  12  13  14  10.0\n",
              "d  16  17  18  19  15.0\n",
              "e  21  22  23  24  20.0\n",
              "f  26  27  28  29  25.0"
            ]
          },
          "execution_count": 81,
          "metadata": {},
          "output_type": "execute_result"
        }
      ],
      "source": [
        "c = b.append(a)\n",
        "c"
      ]
    },
    {
      "cell_type": "markdown",
      "id": "ancient-connecticut",
      "metadata": {
        "id": "ancient-connecticut"
      },
      "source": [
        "## 6. Reindexing and altering labels\n",
        "\n",
        "\n",
        " * reindex() is the fundamental data alignment method in pandas. It is used to implement nearly all other features relying on label-alignment      functionality. To reindex means to conform the data to match a given set of labels along a particular axis. This accomplishes several          things:\n",
        "     * Reorders the existing data to match a new set of labels\n",
        "     * Inserts missing value (NA) markers in label locations where no data for that label existed\n",
        "     * If specified, fill data for missing labels using logic (highly relevant to working with time series data)"
      ]
    },
    {
      "cell_type": "code",
      "execution_count": null,
      "id": "lasting-ethernet",
      "metadata": {
        "id": "lasting-ethernet",
        "outputId": "156543ea-3e21-445f-8891-f87c209adf5a"
      },
      "outputs": [
        {
          "data": {
            "text/plain": [
              "a   -0.475064\n",
              "b    1.360599\n",
              "c   -0.729079\n",
              "d    0.105974\n",
              "e    0.366460\n",
              "dtype: float64"
            ]
          },
          "execution_count": 82,
          "metadata": {},
          "output_type": "execute_result"
        }
      ],
      "source": [
        "s = pd.Series(np.random.randn(5), index=['a', 'b', 'c', 'd', 'e'])\n",
        "s"
      ]
    },
    {
      "cell_type": "code",
      "execution_count": null,
      "id": "congressional-butler",
      "metadata": {
        "id": "congressional-butler",
        "outputId": "afa231da-aad5-4878-85aa-7a04ef7a589a"
      },
      "outputs": [
        {
          "data": {
            "text/plain": [
              "e    0.366460\n",
              "b    1.360599\n",
              "f         NaN\n",
              "d    0.105974\n",
              "dtype: float64"
            ]
          },
          "execution_count": 83,
          "metadata": {},
          "output_type": "execute_result"
        }
      ],
      "source": [
        "s.reindex(['e', 'b', 'f', 'd']) # the f label was not contained in the Series and"
      ]
    },
    {
      "cell_type": "markdown",
      "id": "optical-audio",
      "metadata": {
        "id": "optical-audio"
      },
      "source": [
        "## 7. DataFrame.iteritems\n",
        "\n",
        "Iterate over (column name, Series) pairs.Iterates over the DataFrame columns, returning a tuple\n",
        "with the column name and the content as a Series."
      ]
    },
    {
      "cell_type": "code",
      "execution_count": null,
      "id": "cooked-blood",
      "metadata": {
        "id": "cooked-blood",
        "outputId": "1ce4c07f-6e0a-4d7a-dbf0-55e21d8eee21"
      },
      "outputs": [
        {
          "data": {
            "text/html": [
              "<div>\n",
              "<style scoped>\n",
              "    .dataframe tbody tr th:only-of-type {\n",
              "        vertical-align: middle;\n",
              "    }\n",
              "\n",
              "    .dataframe tbody tr th {\n",
              "        vertical-align: top;\n",
              "    }\n",
              "\n",
              "    .dataframe thead th {\n",
              "        text-align: right;\n",
              "    }\n",
              "</style>\n",
              "<table border=\"1\" class=\"dataframe\">\n",
              "  <thead>\n",
              "    <tr style=\"text-align: right;\">\n",
              "      <th></th>\n",
              "      <th>A</th>\n",
              "      <th>B</th>\n",
              "      <th>C</th>\n",
              "    </tr>\n",
              "  </thead>\n",
              "  <tbody>\n",
              "    <tr>\n",
              "      <th>0</th>\n",
              "      <td>0.756241</td>\n",
              "      <td>-0.643165</td>\n",
              "      <td>-0.804542</td>\n",
              "    </tr>\n",
              "    <tr>\n",
              "      <th>1</th>\n",
              "      <td>-0.024386</td>\n",
              "      <td>0.088252</td>\n",
              "      <td>-2.817333</td>\n",
              "    </tr>\n",
              "    <tr>\n",
              "      <th>2</th>\n",
              "      <td>1.188545</td>\n",
              "      <td>-0.879499</td>\n",
              "      <td>-0.854537</td>\n",
              "    </tr>\n",
              "    <tr>\n",
              "      <th>3</th>\n",
              "      <td>-0.417743</td>\n",
              "      <td>0.525843</td>\n",
              "      <td>-1.312976</td>\n",
              "    </tr>\n",
              "  </tbody>\n",
              "</table>\n",
              "</div>"
            ],
            "text/plain": [
              "          A         B         C\n",
              "0  0.756241 -0.643165 -0.804542\n",
              "1 -0.024386  0.088252 -2.817333\n",
              "2  1.188545 -0.879499 -0.854537\n",
              "3 -0.417743  0.525843 -1.312976"
            ]
          },
          "execution_count": 84,
          "metadata": {},
          "output_type": "execute_result"
        }
      ],
      "source": [
        "df4 = pd.DataFrame(np.random.randn(4,3),columns=['A','B','C'])\n",
        "df4"
      ]
    },
    {
      "cell_type": "code",
      "execution_count": null,
      "id": "internal-annex",
      "metadata": {
        "id": "internal-annex",
        "outputId": "53735a0f-9b89-4b23-9b41-74b49341225d"
      },
      "outputs": [
        {
          "name": "stdout",
          "output_type": "stream",
          "text": [
            "column: 1 value: ('A', 0    0.756241\n",
            "1   -0.024386\n",
            "2    1.188545\n",
            "3   -0.417743\n",
            "Name: A, dtype: float64)\n",
            "column: 2 value: ('B', 0   -0.643165\n",
            "1    0.088252\n",
            "2   -0.879499\n",
            "3    0.525843\n",
            "Name: B, dtype: float64)\n",
            "column: 3 value: ('C', 0   -0.804542\n",
            "1   -2.817333\n",
            "2   -0.854537\n",
            "3   -1.312976\n",
            "Name: C, dtype: float64)\n"
          ]
        }
      ],
      "source": [
        "i = 1\n",
        "for s in df4.iteritems():\n",
        "    print(\"column: %d value: %s\"%(i,s))\n",
        "    i += 1"
      ]
    },
    {
      "cell_type": "markdown",
      "id": "binary-veteran",
      "metadata": {
        "id": "binary-veteran"
      },
      "source": [
        "# 8. Statistical functions\n",
        "\n",
        "## 8.1 Percent change\n",
        "\n",
        "Series and DataFrame have a method pct_change() to compute the percent change over a given\n",
        "number of periods (using fill_method to fill NA/null values before computing the percent change)."
      ]
    },
    {
      "cell_type": "code",
      "execution_count": null,
      "id": "conscious-compiler",
      "metadata": {
        "id": "conscious-compiler",
        "outputId": "b0914fa6-da9b-43d2-a390-8abe40cd3b1f"
      },
      "outputs": [
        {
          "name": "stdout",
          "output_type": "stream",
          "text": [
            "0         NaN\n",
            "1    1.000000\n",
            "2    0.500000\n",
            "3    0.333333\n",
            "4    0.250000\n",
            "5   -0.200000\n",
            "dtype: float64\n"
          ]
        }
      ],
      "source": [
        "s = pd.Series([1,2,3,4,5,4])\n",
        "print(s.pct_change())"
      ]
    },
    {
      "cell_type": "markdown",
      "id": "cordless-intake",
      "metadata": {
        "id": "cordless-intake"
      },
      "source": [
        "## 8.2 Covariance\n",
        "\n",
        "Series.cov() can be used to compute covariance between series (excluding missing valu"
      ]
    },
    {
      "cell_type": "code",
      "execution_count": null,
      "id": "sensitive-adapter",
      "metadata": {
        "id": "sensitive-adapter",
        "outputId": "5be9a830-47ac-4b28-e031-508e7475d99d"
      },
      "outputs": [
        {
          "data": {
            "text/plain": [
              "0.0402457499135284"
            ]
          },
          "execution_count": 87,
          "metadata": {},
          "output_type": "execute_result"
        }
      ],
      "source": [
        "s1 = pd.Series(np.random.randn(1000))\n",
        "s2 = pd.Series(np.random.randn(1000))\n",
        "s1.cov(s2)"
      ]
    },
    {
      "cell_type": "markdown",
      "id": "inside-moses",
      "metadata": {
        "id": "inside-moses"
      },
      "source": [
        "Analogously, DataFrame.cov() to compute pairwise covariances among the series in the\n",
        "DataFrame, also excluding NA/null values."
      ]
    },
    {
      "cell_type": "code",
      "execution_count": null,
      "id": "middle-royal",
      "metadata": {
        "id": "middle-royal",
        "outputId": "3616df91-bea1-4b2e-f643-0f8fc3cd663f"
      },
      "outputs": [
        {
          "data": {
            "text/html": [
              "<div>\n",
              "<style scoped>\n",
              "    .dataframe tbody tr th:only-of-type {\n",
              "        vertical-align: middle;\n",
              "    }\n",
              "\n",
              "    .dataframe tbody tr th {\n",
              "        vertical-align: top;\n",
              "    }\n",
              "\n",
              "    .dataframe thead th {\n",
              "        text-align: right;\n",
              "    }\n",
              "</style>\n",
              "<table border=\"1\" class=\"dataframe\">\n",
              "  <thead>\n",
              "    <tr style=\"text-align: right;\">\n",
              "      <th></th>\n",
              "      <th>a</th>\n",
              "      <th>b</th>\n",
              "      <th>c</th>\n",
              "      <th>d</th>\n",
              "      <th>e</th>\n",
              "    </tr>\n",
              "  </thead>\n",
              "  <tbody>\n",
              "    <tr>\n",
              "      <th>a</th>\n",
              "      <td>1.031992</td>\n",
              "      <td>0.003472</td>\n",
              "      <td>0.011724</td>\n",
              "      <td>-0.016948</td>\n",
              "      <td>0.013566</td>\n",
              "    </tr>\n",
              "    <tr>\n",
              "      <th>b</th>\n",
              "      <td>0.003472</td>\n",
              "      <td>0.929319</td>\n",
              "      <td>0.016343</td>\n",
              "      <td>0.036860</td>\n",
              "      <td>0.069777</td>\n",
              "    </tr>\n",
              "    <tr>\n",
              "      <th>c</th>\n",
              "      <td>0.011724</td>\n",
              "      <td>0.016343</td>\n",
              "      <td>0.938847</td>\n",
              "      <td>0.020889</td>\n",
              "      <td>-0.009044</td>\n",
              "    </tr>\n",
              "    <tr>\n",
              "      <th>d</th>\n",
              "      <td>-0.016948</td>\n",
              "      <td>0.036860</td>\n",
              "      <td>0.020889</td>\n",
              "      <td>0.924985</td>\n",
              "      <td>-0.018131</td>\n",
              "    </tr>\n",
              "    <tr>\n",
              "      <th>e</th>\n",
              "      <td>0.013566</td>\n",
              "      <td>0.069777</td>\n",
              "      <td>-0.009044</td>\n",
              "      <td>-0.018131</td>\n",
              "      <td>0.944806</td>\n",
              "    </tr>\n",
              "  </tbody>\n",
              "</table>\n",
              "</div>"
            ],
            "text/plain": [
              "          a         b         c         d         e\n",
              "a  1.031992  0.003472  0.011724 -0.016948  0.013566\n",
              "b  0.003472  0.929319  0.016343  0.036860  0.069777\n",
              "c  0.011724  0.016343  0.938847  0.020889 -0.009044\n",
              "d -0.016948  0.036860  0.020889  0.924985 -0.018131\n",
              "e  0.013566  0.069777 -0.009044 -0.018131  0.944806"
            ]
          },
          "execution_count": 88,
          "metadata": {},
          "output_type": "execute_result"
        }
      ],
      "source": [
        "frame = pd.DataFrame(np.random.randn(1000, 5),\n",
        "columns=['a', 'b', 'c', 'd', 'e'])\n",
        "frame.cov()"
      ]
    },
    {
      "cell_type": "markdown",
      "id": "generous-title",
      "metadata": {
        "id": "generous-title"
      },
      "source": [
        "## 9. Sorting\n",
        "\n",
        "Pandas supports three kinds of sorting: sorting by index labels, sorting by column values, and\n",
        "sorting by a combination of both.\n",
        "\n",
        "### 9.1 By index\n",
        "\n",
        "The Series.sort_index() and DataFrame.sort_index() methods are used to sort a pandas object by\n",
        "its index levels."
      ]
    },
    {
      "cell_type": "code",
      "execution_count": null,
      "id": "basic-durham",
      "metadata": {
        "id": "basic-durham",
        "outputId": "6ba4667a-f984-4e48-a748-47a955bdf9c2"
      },
      "outputs": [
        {
          "data": {
            "text/html": [
              "<div>\n",
              "<style scoped>\n",
              "    .dataframe tbody tr th:only-of-type {\n",
              "        vertical-align: middle;\n",
              "    }\n",
              "\n",
              "    .dataframe tbody tr th {\n",
              "        vertical-align: top;\n",
              "    }\n",
              "\n",
              "    .dataframe thead th {\n",
              "        text-align: right;\n",
              "    }\n",
              "</style>\n",
              "<table border=\"1\" class=\"dataframe\">\n",
              "  <thead>\n",
              "    <tr style=\"text-align: right;\">\n",
              "      <th></th>\n",
              "      <th>three</th>\n",
              "      <th>two</th>\n",
              "      <th>one</th>\n",
              "    </tr>\n",
              "  </thead>\n",
              "  <tbody>\n",
              "    <tr>\n",
              "      <th>d</th>\n",
              "      <td>1.881572</td>\n",
              "      <td>1.122511</td>\n",
              "      <td>NaN</td>\n",
              "    </tr>\n",
              "    <tr>\n",
              "      <th>a</th>\n",
              "      <td>NaN</td>\n",
              "      <td>-0.199789</td>\n",
              "      <td>-0.400850</td>\n",
              "    </tr>\n",
              "    <tr>\n",
              "      <th>c</th>\n",
              "      <td>1.122564</td>\n",
              "      <td>0.406733</td>\n",
              "      <td>-0.025380</td>\n",
              "    </tr>\n",
              "    <tr>\n",
              "      <th>b</th>\n",
              "      <td>0.047352</td>\n",
              "      <td>-0.594831</td>\n",
              "      <td>-0.983124</td>\n",
              "    </tr>\n",
              "  </tbody>\n",
              "</table>\n",
              "</div>"
            ],
            "text/plain": [
              "      three       two       one\n",
              "d  1.881572  1.122511       NaN\n",
              "a       NaN -0.199789 -0.400850\n",
              "c  1.122564  0.406733 -0.025380\n",
              "b  0.047352 -0.594831 -0.983124"
            ]
          },
          "execution_count": 89,
          "metadata": {},
          "output_type": "execute_result"
        }
      ],
      "source": [
        "df = pd.DataFrame({\n",
        "            'one': pd.Series(np.random.randn(3), index=['a', 'b', 'c']),\n",
        "            'two': pd.Series(np.random.randn(4), index=['a', 'b', 'c', 'd']),\n",
        "            'three': pd.Series(np.random.randn(3), index=['b', 'c', 'd'])})\n",
        "\n",
        "unsorted_df = df.reindex(index=['d', 'a', 'c', 'b'],\n",
        "columns=['three', 'two', 'one'])\n",
        "\n",
        "unsorted_df"
      ]
    },
    {
      "cell_type": "code",
      "execution_count": null,
      "id": "efficient-juvenile",
      "metadata": {
        "id": "efficient-juvenile",
        "outputId": "3498d95a-bb32-4315-9e28-bc3cbc58bfd4"
      },
      "outputs": [
        {
          "data": {
            "text/html": [
              "<div>\n",
              "<style scoped>\n",
              "    .dataframe tbody tr th:only-of-type {\n",
              "        vertical-align: middle;\n",
              "    }\n",
              "\n",
              "    .dataframe tbody tr th {\n",
              "        vertical-align: top;\n",
              "    }\n",
              "\n",
              "    .dataframe thead th {\n",
              "        text-align: right;\n",
              "    }\n",
              "</style>\n",
              "<table border=\"1\" class=\"dataframe\">\n",
              "  <thead>\n",
              "    <tr style=\"text-align: right;\">\n",
              "      <th></th>\n",
              "      <th>three</th>\n",
              "      <th>two</th>\n",
              "      <th>one</th>\n",
              "    </tr>\n",
              "  </thead>\n",
              "  <tbody>\n",
              "    <tr>\n",
              "      <th>a</th>\n",
              "      <td>NaN</td>\n",
              "      <td>-0.199789</td>\n",
              "      <td>-0.400850</td>\n",
              "    </tr>\n",
              "    <tr>\n",
              "      <th>b</th>\n",
              "      <td>0.047352</td>\n",
              "      <td>-0.594831</td>\n",
              "      <td>-0.983124</td>\n",
              "    </tr>\n",
              "    <tr>\n",
              "      <th>c</th>\n",
              "      <td>1.122564</td>\n",
              "      <td>0.406733</td>\n",
              "      <td>-0.025380</td>\n",
              "    </tr>\n",
              "    <tr>\n",
              "      <th>d</th>\n",
              "      <td>1.881572</td>\n",
              "      <td>1.122511</td>\n",
              "      <td>NaN</td>\n",
              "    </tr>\n",
              "  </tbody>\n",
              "</table>\n",
              "</div>"
            ],
            "text/plain": [
              "      three       two       one\n",
              "a       NaN -0.199789 -0.400850\n",
              "b  0.047352 -0.594831 -0.983124\n",
              "c  1.122564  0.406733 -0.025380\n",
              "d  1.881572  1.122511       NaN"
            ]
          },
          "execution_count": 90,
          "metadata": {},
          "output_type": "execute_result"
        }
      ],
      "source": [
        "unsorted_df.sort_index()"
      ]
    },
    {
      "cell_type": "code",
      "execution_count": null,
      "id": "medium-arabic",
      "metadata": {
        "id": "medium-arabic",
        "outputId": "06f9ccd1-46df-4eff-b45f-ead51de53d46"
      },
      "outputs": [
        {
          "data": {
            "text/html": [
              "<div>\n",
              "<style scoped>\n",
              "    .dataframe tbody tr th:only-of-type {\n",
              "        vertical-align: middle;\n",
              "    }\n",
              "\n",
              "    .dataframe tbody tr th {\n",
              "        vertical-align: top;\n",
              "    }\n",
              "\n",
              "    .dataframe thead th {\n",
              "        text-align: right;\n",
              "    }\n",
              "</style>\n",
              "<table border=\"1\" class=\"dataframe\">\n",
              "  <thead>\n",
              "    <tr style=\"text-align: right;\">\n",
              "      <th></th>\n",
              "      <th>three</th>\n",
              "      <th>two</th>\n",
              "      <th>one</th>\n",
              "    </tr>\n",
              "  </thead>\n",
              "  <tbody>\n",
              "    <tr>\n",
              "      <th>d</th>\n",
              "      <td>1.881572</td>\n",
              "      <td>1.122511</td>\n",
              "      <td>NaN</td>\n",
              "    </tr>\n",
              "    <tr>\n",
              "      <th>c</th>\n",
              "      <td>1.122564</td>\n",
              "      <td>0.406733</td>\n",
              "      <td>-0.025380</td>\n",
              "    </tr>\n",
              "    <tr>\n",
              "      <th>b</th>\n",
              "      <td>0.047352</td>\n",
              "      <td>-0.594831</td>\n",
              "      <td>-0.983124</td>\n",
              "    </tr>\n",
              "    <tr>\n",
              "      <th>a</th>\n",
              "      <td>NaN</td>\n",
              "      <td>-0.199789</td>\n",
              "      <td>-0.400850</td>\n",
              "    </tr>\n",
              "  </tbody>\n",
              "</table>\n",
              "</div>"
            ],
            "text/plain": [
              "      three       two       one\n",
              "d  1.881572  1.122511       NaN\n",
              "c  1.122564  0.406733 -0.025380\n",
              "b  0.047352 -0.594831 -0.983124\n",
              "a       NaN -0.199789 -0.400850"
            ]
          },
          "execution_count": 91,
          "metadata": {},
          "output_type": "execute_result"
        }
      ],
      "source": [
        "unsorted_df.sort_index(ascending=False)"
      ]
    },
    {
      "cell_type": "markdown",
      "id": "handmade-vietnam",
      "metadata": {
        "id": "handmade-vietnam"
      },
      "source": [
        "### 9.2 By values\n",
        "\n",
        "\n",
        "The Series.sort_values() method is used to sort a Series by its values. The\n",
        "DataFrame.sort_values() method is used to sort a DataFrame by its column or row values. The\n",
        "optional by parameter to DataFrame.sort_values() may used to specify one or more columns to\n",
        "use to determine the sorted order."
      ]
    },
    {
      "cell_type": "code",
      "execution_count": null,
      "id": "closed-arcade",
      "metadata": {
        "id": "closed-arcade",
        "outputId": "96ef546d-fb2d-4bf3-a7af-305edd42b8b4"
      },
      "outputs": [
        {
          "data": {
            "text/html": [
              "<div>\n",
              "<style scoped>\n",
              "    .dataframe tbody tr th:only-of-type {\n",
              "        vertical-align: middle;\n",
              "    }\n",
              "\n",
              "    .dataframe tbody tr th {\n",
              "        vertical-align: top;\n",
              "    }\n",
              "\n",
              "    .dataframe thead th {\n",
              "        text-align: right;\n",
              "    }\n",
              "</style>\n",
              "<table border=\"1\" class=\"dataframe\">\n",
              "  <thead>\n",
              "    <tr style=\"text-align: right;\">\n",
              "      <th></th>\n",
              "      <th>one</th>\n",
              "      <th>two</th>\n",
              "      <th>three</th>\n",
              "    </tr>\n",
              "  </thead>\n",
              "  <tbody>\n",
              "    <tr>\n",
              "      <th>0</th>\n",
              "      <td>2</td>\n",
              "      <td>1</td>\n",
              "      <td>5</td>\n",
              "    </tr>\n",
              "    <tr>\n",
              "      <th>2</th>\n",
              "      <td>1</td>\n",
              "      <td>2</td>\n",
              "      <td>3</td>\n",
              "    </tr>\n",
              "    <tr>\n",
              "      <th>1</th>\n",
              "      <td>1</td>\n",
              "      <td>3</td>\n",
              "      <td>4</td>\n",
              "    </tr>\n",
              "    <tr>\n",
              "      <th>3</th>\n",
              "      <td>1</td>\n",
              "      <td>4</td>\n",
              "      <td>2</td>\n",
              "    </tr>\n",
              "  </tbody>\n",
              "</table>\n",
              "</div>"
            ],
            "text/plain": [
              "   one  two  three\n",
              "0    2    1      5\n",
              "2    1    2      3\n",
              "1    1    3      4\n",
              "3    1    4      2"
            ]
          },
          "execution_count": 92,
          "metadata": {},
          "output_type": "execute_result"
        }
      ],
      "source": [
        "df1 = pd.DataFrame({'one': [2, 1, 1, 1],\n",
        "'two': [1, 3, 2, 4],\n",
        "'three': [5, 4, 3, 2]})\n",
        "df1.sort_values(by='two')"
      ]
    },
    {
      "cell_type": "markdown",
      "id": "bacterial-reference",
      "metadata": {
        "id": "bacterial-reference"
      },
      "source": [
        "## 10. Working with missing data\n",
        "\n",
        "\n",
        "\n",
        "As data comes in many shapes and forms, pandas aims to be flexible with regard to handling\n",
        "missing data. While NaN is the default missing value marker for reasons of computational speed\n",
        "and convenience, we need to be able to easily detect this value with data of different types: floating\n",
        "point, integer, boolean, and general object. In many cases, however, the Python None will arise\n",
        "and we wish to also consider that “missing” or “not available” or “NA”."
      ]
    },
    {
      "cell_type": "code",
      "execution_count": null,
      "id": "broad-complement",
      "metadata": {
        "id": "broad-complement",
        "outputId": "d65c04cc-d116-4497-c428-89efdec6a79f"
      },
      "outputs": [
        {
          "data": {
            "text/html": [
              "<div>\n",
              "<style scoped>\n",
              "    .dataframe tbody tr th:only-of-type {\n",
              "        vertical-align: middle;\n",
              "    }\n",
              "\n",
              "    .dataframe tbody tr th {\n",
              "        vertical-align: top;\n",
              "    }\n",
              "\n",
              "    .dataframe thead th {\n",
              "        text-align: right;\n",
              "    }\n",
              "</style>\n",
              "<table border=\"1\" class=\"dataframe\">\n",
              "  <thead>\n",
              "    <tr style=\"text-align: right;\">\n",
              "      <th></th>\n",
              "      <th>one</th>\n",
              "      <th>two</th>\n",
              "      <th>three</th>\n",
              "    </tr>\n",
              "  </thead>\n",
              "  <tbody>\n",
              "    <tr>\n",
              "      <th>a</th>\n",
              "      <td>-0.562573</td>\n",
              "      <td>-0.016686</td>\n",
              "      <td>-1.338990</td>\n",
              "    </tr>\n",
              "    <tr>\n",
              "      <th>b</th>\n",
              "      <td>NaN</td>\n",
              "      <td>NaN</td>\n",
              "      <td>NaN</td>\n",
              "    </tr>\n",
              "    <tr>\n",
              "      <th>c</th>\n",
              "      <td>0.168849</td>\n",
              "      <td>-1.029276</td>\n",
              "      <td>1.529967</td>\n",
              "    </tr>\n",
              "    <tr>\n",
              "      <th>d</th>\n",
              "      <td>NaN</td>\n",
              "      <td>NaN</td>\n",
              "      <td>NaN</td>\n",
              "    </tr>\n",
              "    <tr>\n",
              "      <th>e</th>\n",
              "      <td>-0.288766</td>\n",
              "      <td>-1.694593</td>\n",
              "      <td>0.809723</td>\n",
              "    </tr>\n",
              "    <tr>\n",
              "      <th>f</th>\n",
              "      <td>1.328234</td>\n",
              "      <td>-0.063518</td>\n",
              "      <td>1.056405</td>\n",
              "    </tr>\n",
              "    <tr>\n",
              "      <th>g</th>\n",
              "      <td>NaN</td>\n",
              "      <td>NaN</td>\n",
              "      <td>NaN</td>\n",
              "    </tr>\n",
              "    <tr>\n",
              "      <th>h</th>\n",
              "      <td>0.814767</td>\n",
              "      <td>-0.407639</td>\n",
              "      <td>0.799284</td>\n",
              "    </tr>\n",
              "  </tbody>\n",
              "</table>\n",
              "</div>"
            ],
            "text/plain": [
              "        one       two     three\n",
              "a -0.562573 -0.016686 -1.338990\n",
              "b       NaN       NaN       NaN\n",
              "c  0.168849 -1.029276  1.529967\n",
              "d       NaN       NaN       NaN\n",
              "e -0.288766 -1.694593  0.809723\n",
              "f  1.328234 -0.063518  1.056405\n",
              "g       NaN       NaN       NaN\n",
              "h  0.814767 -0.407639  0.799284"
            ]
          },
          "execution_count": 93,
          "metadata": {},
          "output_type": "execute_result"
        }
      ],
      "source": [
        "df6 = pd.DataFrame(np.random.randn(5, 3), index=['a', 'c', 'e', 'f','h'],columns=['one','two','three'])\n",
        "df6 = df6.reindex(['a', 'b', 'c', 'd', 'e', 'f', 'g', 'h'])\n",
        "df6"
      ]
    },
    {
      "cell_type": "markdown",
      "id": "statistical-longitude",
      "metadata": {
        "id": "statistical-longitude"
      },
      "source": [
        "## 10.1 Detect missing values\n",
        "\n",
        "To make detecting missing values easier (and across different array dtypes), pandas provides the\n",
        "isna() and notna() functions, which are also methods on Series and DataFrame objects."
      ]
    },
    {
      "cell_type": "code",
      "execution_count": null,
      "id": "appreciated-humidity",
      "metadata": {
        "id": "appreciated-humidity",
        "outputId": "9a56331a-89cb-4c1d-8e16-12dd120a8920"
      },
      "outputs": [
        {
          "data": {
            "text/plain": [
              "a    False\n",
              "b     True\n",
              "c    False\n",
              "d     True\n",
              "e    False\n",
              "f    False\n",
              "g     True\n",
              "h    False\n",
              "Name: one, dtype: bool"
            ]
          },
          "execution_count": 94,
          "metadata": {},
          "output_type": "execute_result"
        }
      ],
      "source": [
        "df6['one'].isna()"
      ]
    },
    {
      "cell_type": "markdown",
      "id": "artificial-boulder",
      "metadata": {
        "id": "artificial-boulder"
      },
      "source": [
        "## 10.2 Calculations with missing data\n",
        "\n",
        "Missing values propagate naturally through arithmetic operations between pandas objects.\n",
        " * When summing data, NA (missing) values will be treated as zero.\n",
        " * If the data are all NA, the result will be 0.\n",
        " * Cumulative methods like cumsum() and cumprod() ignore NA values by default, but preserve\n",
        "   them in the resulting arrays. To override this behaviour and include NA values, use skipna=False."
      ]
    },
    {
      "cell_type": "code",
      "execution_count": null,
      "id": "objective-creek",
      "metadata": {
        "id": "objective-creek",
        "outputId": "fbf84fe6-5277-45c6-90f6-50614579bee0"
      },
      "outputs": [
        {
          "data": {
            "text/plain": [
              "a   -1.918249\n",
              "b    0.000000\n",
              "c    0.669539\n",
              "d    0.000000\n",
              "e   -1.173637\n",
              "f    2.321121\n",
              "g    0.000000\n",
              "h    1.206412\n",
              "dtype: float64"
            ]
          },
          "execution_count": 95,
          "metadata": {},
          "output_type": "execute_result"
        }
      ],
      "source": [
        "df6.sum(axis=1)"
      ]
    },
    {
      "cell_type": "markdown",
      "id": "authorized-warrant",
      "metadata": {
        "id": "authorized-warrant"
      },
      "source": [
        "### 10.3 Filling missing values: fillna\n",
        "\n",
        "fillna() can “fill in” NA values with non-NA data in a couple of ways, which we illustrate:"
      ]
    },
    {
      "cell_type": "code",
      "execution_count": null,
      "id": "southern-palmer",
      "metadata": {
        "id": "southern-palmer",
        "outputId": "f1aa882e-7a7e-48cc-cf06-62aeee05e486"
      },
      "outputs": [
        {
          "data": {
            "text/html": [
              "<div>\n",
              "<style scoped>\n",
              "    .dataframe tbody tr th:only-of-type {\n",
              "        vertical-align: middle;\n",
              "    }\n",
              "\n",
              "    .dataframe tbody tr th {\n",
              "        vertical-align: top;\n",
              "    }\n",
              "\n",
              "    .dataframe thead th {\n",
              "        text-align: right;\n",
              "    }\n",
              "</style>\n",
              "<table border=\"1\" class=\"dataframe\">\n",
              "  <thead>\n",
              "    <tr style=\"text-align: right;\">\n",
              "      <th></th>\n",
              "      <th>A</th>\n",
              "      <th>B</th>\n",
              "      <th>C</th>\n",
              "    </tr>\n",
              "  </thead>\n",
              "  <tbody>\n",
              "    <tr>\n",
              "      <th>0</th>\n",
              "      <td>1.172996</td>\n",
              "      <td>0.447727</td>\n",
              "      <td>0.226860</td>\n",
              "    </tr>\n",
              "    <tr>\n",
              "      <th>1</th>\n",
              "      <td>-0.001521</td>\n",
              "      <td>0.719649</td>\n",
              "      <td>-0.203905</td>\n",
              "    </tr>\n",
              "    <tr>\n",
              "      <th>2</th>\n",
              "      <td>1.445909</td>\n",
              "      <td>0.546696</td>\n",
              "      <td>-2.154559</td>\n",
              "    </tr>\n",
              "    <tr>\n",
              "      <th>3</th>\n",
              "      <td>NaN</td>\n",
              "      <td>-0.027842</td>\n",
              "      <td>-0.039825</td>\n",
              "    </tr>\n",
              "    <tr>\n",
              "      <th>4</th>\n",
              "      <td>NaN</td>\n",
              "      <td>NaN</td>\n",
              "      <td>0.235342</td>\n",
              "    </tr>\n",
              "    <tr>\n",
              "      <th>5</th>\n",
              "      <td>-1.342692</td>\n",
              "      <td>NaN</td>\n",
              "      <td>NaN</td>\n",
              "    </tr>\n",
              "    <tr>\n",
              "      <th>6</th>\n",
              "      <td>0.842319</td>\n",
              "      <td>-0.726243</td>\n",
              "      <td>NaN</td>\n",
              "    </tr>\n",
              "    <tr>\n",
              "      <th>7</th>\n",
              "      <td>-1.277448</td>\n",
              "      <td>2.168065</td>\n",
              "      <td>NaN</td>\n",
              "    </tr>\n",
              "    <tr>\n",
              "      <th>8</th>\n",
              "      <td>-1.992397</td>\n",
              "      <td>-0.613083</td>\n",
              "      <td>-2.177762</td>\n",
              "    </tr>\n",
              "    <tr>\n",
              "      <th>9</th>\n",
              "      <td>0.884936</td>\n",
              "      <td>-2.456936</td>\n",
              "      <td>0.696662</td>\n",
              "    </tr>\n",
              "  </tbody>\n",
              "</table>\n",
              "</div>"
            ],
            "text/plain": [
              "          A         B         C\n",
              "0  1.172996  0.447727  0.226860\n",
              "1 -0.001521  0.719649 -0.203905\n",
              "2  1.445909  0.546696 -2.154559\n",
              "3       NaN -0.027842 -0.039825\n",
              "4       NaN       NaN  0.235342\n",
              "5 -1.342692       NaN       NaN\n",
              "6  0.842319 -0.726243       NaN\n",
              "7 -1.277448  2.168065       NaN\n",
              "8 -1.992397 -0.613083 -2.177762\n",
              "9  0.884936 -2.456936  0.696662"
            ]
          },
          "execution_count": 96,
          "metadata": {},
          "output_type": "execute_result"
        }
      ],
      "source": [
        "dff = pd.DataFrame(np.random.randn(10, 3), columns=list('ABC'))\n",
        "dff.iloc[3:5, 0] = np.nan\n",
        "dff.iloc[4:6, 1] = np.nan\n",
        "dff.iloc[5:8, 2] = np.nan\n",
        "dff"
      ]
    },
    {
      "cell_type": "code",
      "execution_count": null,
      "id": "fifteen-reminder",
      "metadata": {
        "id": "fifteen-reminder",
        "outputId": "4c8318fd-1a52-494c-9fdd-a3b4be589690"
      },
      "outputs": [
        {
          "data": {
            "text/plain": [
              "A   -0.033487\n",
              "B    0.007254\n",
              "C   -0.488170\n",
              "dtype: float64"
            ]
          },
          "execution_count": 97,
          "metadata": {},
          "output_type": "execute_result"
        }
      ],
      "source": [
        "dff.mean()"
      ]
    },
    {
      "cell_type": "code",
      "execution_count": null,
      "id": "forty-president",
      "metadata": {
        "id": "forty-president",
        "outputId": "2c2f3554-799f-4a98-a59e-7806e3e8ed1b"
      },
      "outputs": [
        {
          "data": {
            "text/html": [
              "<div>\n",
              "<style scoped>\n",
              "    .dataframe tbody tr th:only-of-type {\n",
              "        vertical-align: middle;\n",
              "    }\n",
              "\n",
              "    .dataframe tbody tr th {\n",
              "        vertical-align: top;\n",
              "    }\n",
              "\n",
              "    .dataframe thead th {\n",
              "        text-align: right;\n",
              "    }\n",
              "</style>\n",
              "<table border=\"1\" class=\"dataframe\">\n",
              "  <thead>\n",
              "    <tr style=\"text-align: right;\">\n",
              "      <th></th>\n",
              "      <th>A</th>\n",
              "      <th>B</th>\n",
              "      <th>C</th>\n",
              "    </tr>\n",
              "  </thead>\n",
              "  <tbody>\n",
              "    <tr>\n",
              "      <th>0</th>\n",
              "      <td>1.172996</td>\n",
              "      <td>0.447727</td>\n",
              "      <td>0.226860</td>\n",
              "    </tr>\n",
              "    <tr>\n",
              "      <th>1</th>\n",
              "      <td>-0.001521</td>\n",
              "      <td>0.719649</td>\n",
              "      <td>-0.203905</td>\n",
              "    </tr>\n",
              "    <tr>\n",
              "      <th>2</th>\n",
              "      <td>1.445909</td>\n",
              "      <td>0.546696</td>\n",
              "      <td>-2.154559</td>\n",
              "    </tr>\n",
              "    <tr>\n",
              "      <th>3</th>\n",
              "      <td>-0.033487</td>\n",
              "      <td>-0.027842</td>\n",
              "      <td>-0.039825</td>\n",
              "    </tr>\n",
              "    <tr>\n",
              "      <th>4</th>\n",
              "      <td>-0.033487</td>\n",
              "      <td>0.007254</td>\n",
              "      <td>0.235342</td>\n",
              "    </tr>\n",
              "    <tr>\n",
              "      <th>5</th>\n",
              "      <td>-1.342692</td>\n",
              "      <td>0.007254</td>\n",
              "      <td>-0.488170</td>\n",
              "    </tr>\n",
              "    <tr>\n",
              "      <th>6</th>\n",
              "      <td>0.842319</td>\n",
              "      <td>-0.726243</td>\n",
              "      <td>-0.488170</td>\n",
              "    </tr>\n",
              "    <tr>\n",
              "      <th>7</th>\n",
              "      <td>-1.277448</td>\n",
              "      <td>2.168065</td>\n",
              "      <td>-0.488170</td>\n",
              "    </tr>\n",
              "    <tr>\n",
              "      <th>8</th>\n",
              "      <td>-1.992397</td>\n",
              "      <td>-0.613083</td>\n",
              "      <td>-2.177762</td>\n",
              "    </tr>\n",
              "    <tr>\n",
              "      <th>9</th>\n",
              "      <td>0.884936</td>\n",
              "      <td>-2.456936</td>\n",
              "      <td>0.696662</td>\n",
              "    </tr>\n",
              "  </tbody>\n",
              "</table>\n",
              "</div>"
            ],
            "text/plain": [
              "          A         B         C\n",
              "0  1.172996  0.447727  0.226860\n",
              "1 -0.001521  0.719649 -0.203905\n",
              "2  1.445909  0.546696 -2.154559\n",
              "3 -0.033487 -0.027842 -0.039825\n",
              "4 -0.033487  0.007254  0.235342\n",
              "5 -1.342692  0.007254 -0.488170\n",
              "6  0.842319 -0.726243 -0.488170\n",
              "7 -1.277448  2.168065 -0.488170\n",
              "8 -1.992397 -0.613083 -2.177762\n",
              "9  0.884936 -2.456936  0.696662"
            ]
          },
          "execution_count": 98,
          "metadata": {},
          "output_type": "execute_result"
        }
      ],
      "source": [
        "# Replace NA with a scalar value\n",
        "dff.fillna(dff.mean())"
      ]
    },
    {
      "cell_type": "code",
      "execution_count": null,
      "id": "fluid-parker",
      "metadata": {
        "id": "fluid-parker",
        "outputId": "364309bd-cb8d-4e79-e2e8-65b7e9d5fe76"
      },
      "outputs": [
        {
          "data": {
            "text/plain": [
              "A   -0.033487\n",
              "B    0.007254\n",
              "C   -0.488170\n",
              "dtype: float64"
            ]
          },
          "execution_count": 99,
          "metadata": {},
          "output_type": "execute_result"
        }
      ],
      "source": [
        "dff.mean()"
      ]
    },
    {
      "cell_type": "markdown",
      "id": "configured-grove",
      "metadata": {
        "id": "configured-grove"
      },
      "source": [
        "### 10.4 Dropping axis labels with missing data: dropna\n",
        "\n",
        "Use dropna() to exclude labels from a data set which refer to missing data."
      ]
    },
    {
      "cell_type": "code",
      "execution_count": null,
      "id": "eight-architect",
      "metadata": {
        "id": "eight-architect",
        "outputId": "16d15eca-d87a-4796-8b87-ec9c5e43eca9"
      },
      "outputs": [
        {
          "data": {
            "text/html": [
              "<div>\n",
              "<style scoped>\n",
              "    .dataframe tbody tr th:only-of-type {\n",
              "        vertical-align: middle;\n",
              "    }\n",
              "\n",
              "    .dataframe tbody tr th {\n",
              "        vertical-align: top;\n",
              "    }\n",
              "\n",
              "    .dataframe thead th {\n",
              "        text-align: right;\n",
              "    }\n",
              "</style>\n",
              "<table border=\"1\" class=\"dataframe\">\n",
              "  <thead>\n",
              "    <tr style=\"text-align: right;\">\n",
              "      <th></th>\n",
              "      <th>A</th>\n",
              "      <th>B</th>\n",
              "      <th>C</th>\n",
              "    </tr>\n",
              "  </thead>\n",
              "  <tbody>\n",
              "    <tr>\n",
              "      <th>0</th>\n",
              "      <td>1.172996</td>\n",
              "      <td>0.447727</td>\n",
              "      <td>0.226860</td>\n",
              "    </tr>\n",
              "    <tr>\n",
              "      <th>1</th>\n",
              "      <td>-0.001521</td>\n",
              "      <td>0.719649</td>\n",
              "      <td>-0.203905</td>\n",
              "    </tr>\n",
              "    <tr>\n",
              "      <th>2</th>\n",
              "      <td>1.445909</td>\n",
              "      <td>0.546696</td>\n",
              "      <td>-2.154559</td>\n",
              "    </tr>\n",
              "    <tr>\n",
              "      <th>8</th>\n",
              "      <td>-1.992397</td>\n",
              "      <td>-0.613083</td>\n",
              "      <td>-2.177762</td>\n",
              "    </tr>\n",
              "    <tr>\n",
              "      <th>9</th>\n",
              "      <td>0.884936</td>\n",
              "      <td>-2.456936</td>\n",
              "      <td>0.696662</td>\n",
              "    </tr>\n",
              "  </tbody>\n",
              "</table>\n",
              "</div>"
            ],
            "text/plain": [
              "          A         B         C\n",
              "0  1.172996  0.447727  0.226860\n",
              "1 -0.001521  0.719649 -0.203905\n",
              "2  1.445909  0.546696 -2.154559\n",
              "8 -1.992397 -0.613083 -2.177762\n",
              "9  0.884936 -2.456936  0.696662"
            ]
          },
          "execution_count": 100,
          "metadata": {},
          "output_type": "execute_result"
        }
      ],
      "source": [
        "dff.dropna()"
      ]
    },
    {
      "cell_type": "markdown",
      "id": "temporal-ottawa",
      "metadata": {
        "id": "temporal-ottawa"
      },
      "source": [
        "# 03 Matplotlib"
      ]
    },
    {
      "cell_type": "code",
      "execution_count": null,
      "id": "virtual-taylor",
      "metadata": {
        "id": "virtual-taylor"
      },
      "outputs": [],
      "source": [
        "import numpy as np\n",
        "import pandas as pd\n",
        "import matplotlib.pyplot as plt"
      ]
    },
    {
      "cell_type": "markdown",
      "id": "coupled-indie",
      "metadata": {
        "id": "coupled-indie"
      },
      "source": [
        "## 1. Plot\n",
        "### 1.1 Plot a graph"
      ]
    },
    {
      "cell_type": "code",
      "execution_count": null,
      "id": "seasonal-webmaster",
      "metadata": {
        "id": "seasonal-webmaster",
        "outputId": "a52bb3db-93c8-4cb7-ec59-5cc01a088285"
      },
      "outputs": [
        {
          "data": {
            "image/png": "[encoded data removed]",
            "text/plain": [
              "<Figure size 432x288 with 1 Axes>"
            ]
          },
          "metadata": {
            "needs_background": "light"
          },
          "output_type": "display_data"
        }
      ],
      "source": [
        "# generate data for plotting\n",
        "x = np.arange(0, 3 * np.pi, 0.1)\n",
        "y = np.sin(x)\n",
        "# matplotlib.pyplot.plot(*args, scalex=True, scaley=True, data=None, **kwargs)\n",
        "# plot y versus x as lines and/or markers. *args inclues data, color, format...et\n",
        "plt.plot(x, y)\n",
        "# show the graph\n",
        "plt.show()"
      ]
    },
    {
      "cell_type": "code",
      "execution_count": null,
      "id": "absolute-retirement",
      "metadata": {
        "id": "absolute-retirement",
        "outputId": "3593d61f-8a7c-4b03-f527-ed34d1a89df2"
      },
      "outputs": [
        {
          "data": {
            "text/plain": [
              "['Solarize_Light2',\n",
              " '_classic_test_patch',\n",
              " 'bmh',\n",
              " 'classic',\n",
              " 'dark_background',\n",
              " 'fast',\n",
              " 'fivethirtyeight',\n",
              " 'ggplot',\n",
              " 'grayscale',\n",
              " 'seaborn',\n",
              " 'seaborn-bright',\n",
              " 'seaborn-colorblind',\n",
              " 'seaborn-dark',\n",
              " 'seaborn-dark-palette',\n",
              " 'seaborn-darkgrid',\n",
              " 'seaborn-deep',\n",
              " 'seaborn-muted',\n",
              " 'seaborn-notebook',\n",
              " 'seaborn-paper',\n",
              " 'seaborn-pastel',\n",
              " 'seaborn-poster',\n",
              " 'seaborn-talk',\n",
              " 'seaborn-ticks',\n",
              " 'seaborn-white',\n",
              " 'seaborn-whitegrid',\n",
              " 'tableau-colorblind10']"
            ]
          },
          "execution_count": 103,
          "metadata": {},
          "output_type": "execute_result"
        }
      ],
      "source": [
        "# check available styles\n",
        "plt.style.available"
      ]
    },
    {
      "cell_type": "code",
      "execution_count": null,
      "id": "experienced-reach",
      "metadata": {
        "id": "experienced-reach"
      },
      "outputs": [],
      "source": [
        "# choose style\n",
        "plt.style.use(\"seaborn-darkgrid\")"
      ]
    },
    {
      "cell_type": "code",
      "execution_count": null,
      "id": "looking-decision",
      "metadata": {
        "id": "looking-decision",
        "outputId": "b172a5c3-becc-40fa-d4f1-bc402d368add"
      },
      "outputs": [
        {
          "data": {
            "image/png": "[encoded data removed]",
            "text/plain": [
              "<Figure size 432x288 with 1 Axes>"
            ]
          },
          "metadata": {},
          "output_type": "display_data"
        }
      ],
      "source": [
        "# generate data for plotting\n",
        "x = np.arange(0, 3 * np.pi, 0.1)\n",
        "y = np.sin(x)\n",
        "# matplotlib.pyplot.plot(*args, scalex=True, scaley=True, data=None, **kwargs)\n",
        "# plot y versus x as lines and/or markers. *args inclues data, color, format...et\n",
        "plt.plot(x, y)\n",
        "# show the graph\n",
        "plt.show()"
      ]
    },
    {
      "cell_type": "markdown",
      "id": "respective-laugh",
      "metadata": {
        "id": "respective-laugh"
      },
      "source": [
        "### 1.2 Combine multiple graphs"
      ]
    },
    {
      "cell_type": "code",
      "execution_count": null,
      "id": "accessible-kennedy",
      "metadata": {
        "id": "accessible-kennedy",
        "outputId": "3d6e8c39-9dac-4b4b-b5e9-dc2ca6b2c23e"
      },
      "outputs": [
        {
          "data": {
            "image/png": "[encoded data removed]",
            "text/plain": [
              "<Figure size 432x288 with 2 Axes>"
            ]
          },
          "metadata": {},
          "output_type": "display_data"
        }
      ],
      "source": [
        "# set style\n",
        "plt.style.use(\"seaborn-whitegrid\")\n",
        "# generate data for plotting\n",
        "x = np.arange(0, 3 * np.pi, 0.1)\n",
        "y_sin = np.sin(x)\n",
        "y_cos = np.cos(x)\n",
        "# matplotlib.pyplot.subplot(* args,** kwargs)\n",
        "# add a subplot to the current figure.*args\n",
        "# *args can be three integers (nrows, ncols, index),\n",
        "# or a 3-digit integer. The digits are interpreted as if given separately as thre\n",
        "plt.subplot(1, 2, 1) # first subplot\n",
        "plt.plot(x, y_sin) # plot the first subplot\n",
        "plt.title('Sine') # set title for the first subplot\n",
        "plt.subplot(1, 2, 2) # second subplot\n",
        "plt.plot(x, y_cos) # plot second subplot\n",
        "plt.title('Cosine') # set title for the second subplot\n",
        "plt.show()"
      ]
    },
    {
      "cell_type": "markdown",
      "id": "interpreted-musical",
      "metadata": {
        "id": "interpreted-musical"
      },
      "source": [
        "### 1.3 Matplotlib custom numerus formatting like color, marker and linestyle."
      ]
    },
    {
      "cell_type": "code",
      "execution_count": null,
      "id": "banned-groove",
      "metadata": {
        "id": "banned-groove",
        "outputId": "676e5b43-7f20-48e6-a42e-634b841bc4fc"
      },
      "outputs": [
        {
          "data": {
            "image/png": "[encoded data removed]",
            "text/plain": [
              "<Figure size 640x480 with 1 Axes>"
            ]
          },
          "metadata": {},
          "output_type": "display_data"
        }
      ],
      "source": [
        "plt.style.use(\"seaborn-dark\")\n",
        "# create a 8x6 (inches) figure, dpi means the resolution of the figure (dpi=80, 8\n",
        "plt.figure(figsize=(8,6), dpi=80)\n",
        "# generate data\n",
        "X = np.linspace(-np.pi, np.pi, 256,endpoint=True)\n",
        "C,S = np.cos(X), np.sin(X)\n",
        "# draw a blue curve with customized format.\n",
        "plt.plot(X, C, color=\"blue\",linewidth=1.0,label=\"Blue\",linestyle=\"--\")\n",
        "# draw a green curve with cusomized format.\n",
        "plt.plot(X, S, color=\"green\", linewidth=1.0, label=\"Green\", linestyle=\"-.\")\n",
        "plt.legend() # place a legend on the axes\n",
        "plt.xlim(-4.0,4.0) # set the scale of the x-axis\n",
        "plt.xticks(np.linspace(-4,4,9,endpoint=True)) # set the current tick locations an\n",
        "plt.ylim(-1.0,1.0) # set the scale of the y-axis\n",
        "plt.yticks(np.linspace(-1,1,5,endpoint=True)) # set the current tick locations an\n",
        "# plt.savefig(\"exercice.png\",dpi=72) # save figure\n",
        "plt.show()"
      ]
    },
    {
      "cell_type": "code",
      "execution_count": null,
      "id": "promising-mambo",
      "metadata": {
        "id": "promising-mambo",
        "outputId": "84e55129-0760-4c85-fc58-a57855612c37"
      },
      "outputs": [
        {
          "data": {
            "image/png": "[encoded data removed]",
            "text/plain": [
              "<Figure size 480x320 with 1 Axes>"
            ]
          },
          "metadata": {},
          "output_type": "display_data"
        }
      ],
      "source": [
        "# Change color and linewidth:\n",
        "plt.figure(dpi=80)\n",
        "plt.plot(X, C, color=\"blue\", linewidth=3.5, linestyle=\"--\")\n",
        "plt.plot(X, S, color=\"red\", linewidth=2.5, linestyle=\"-\")\n",
        "plt.show()"
      ]
    },
    {
      "cell_type": "markdown",
      "id": "unauthorized-agriculture",
      "metadata": {
        "id": "unauthorized-agriculture"
      },
      "source": [
        "##  2. scatter plot"
      ]
    },
    {
      "cell_type": "code",
      "execution_count": null,
      "id": "focused-election",
      "metadata": {
        "id": "focused-election",
        "outputId": "1dcafc48-5f86-498b-b2e2-32453d3d6e5c"
      },
      "outputs": [
        {
          "name": "stdout",
          "output_type": "stream",
          "text": [
            "[ 8 12 14  1 16 14 13 15 14 14  6  3 15 18 15]\n",
            "[ 0  4 16 11 15 15 12 11 14  8  6  2  1  5 10]\n"
          ]
        },
        {
          "data": {
            "image/png": "[encoded data removed]",
            "text/plain": [
              "<Figure size 432x288 with 1 Axes>"
            ]
          },
          "metadata": {},
          "output_type": "display_data"
        }
      ],
      "source": [
        "# generate data\n",
        "a = np.random.randint(0,20,15)\n",
        "b = np.random.randint(0,20,15)\n",
        "print(a)\n",
        "print(b)\n",
        "# matplotlib.pyplot.scatter(x, y, s=None, c=None, marker=None, cmap=None, norm=No\n",
        "# A scatter plot of y vs. x with varying marker size and/or color.\n",
        "plt.scatter(a, b, c='red', s=100, marker='.')# plot scatter\n",
        "plt.show()"
      ]
    },
    {
      "cell_type": "code",
      "execution_count": null,
      "id": "progressive-chamber",
      "metadata": {
        "id": "progressive-chamber",
        "outputId": "569e6cf0-223a-4ec4-919c-ccaadcda1174"
      },
      "outputs": [
        {
          "name": "stdout",
          "output_type": "stream",
          "text": [
            "[11 11 18 14  8 15 19  3 17  9  7 13 12  6  8]\n",
            "[ 6  4 15 14 10 11  8  2 11 17 18  9  5  5  0]\n"
          ]
        },
        {
          "data": {
            "image/png": "[encoded data removed]",
            "text/plain": [
              "<Figure size 432x288 with 1 Axes>"
            ]
          },
          "metadata": {},
          "output_type": "display_data"
        }
      ],
      "source": [
        "# generate data\n",
        "a = np.random.randint(0,20,15)\n",
        "b = np.random.randint(0,20,15)\n",
        "print(a)\n",
        "print(b)\n",
        "# matplotlib.pyplot.scatter(x, y, s=None, c=None, marker=None, cmap=None, norm=No\n",
        "# A scatter plot of y vs. x with varying marker size and/or color.\n",
        "plt.scatter(a, b, c='blue', s=50, marker='x')# plot scatter\n",
        "plt.show()"
      ]
    },
    {
      "cell_type": "markdown",
      "id": "fourth-feedback",
      "metadata": {
        "id": "fourth-feedback"
      },
      "source": [
        "## 3. Bar plot"
      ]
    },
    {
      "cell_type": "code",
      "execution_count": null,
      "id": "prompt-packaging",
      "metadata": {
        "id": "prompt-packaging",
        "outputId": "b613df79-94fc-4bb9-d1ec-bd5919c0b852"
      },
      "outputs": [
        {
          "data": {
            "image/png": "[encoded data removed]",
            "text/plain": [
              "<Figure size 600x400 with 1 Axes>"
            ]
          },
          "metadata": {},
          "output_type": "display_data"
        }
      ],
      "source": [
        "level = ['Excellent', 'good', 'weak']\n",
        "x = range(len(level)) # x-axis\n",
        "y = [1,3,2] # y-axis\n",
        "plt.figure(dpi=100) # create figure\n",
        "# matplotlib.pyplot.bar(x, height, width=0.8, bottom=None, *, align='center', dat\n",
        "# make a bar plot.\n",
        "plt.bar(x, y, width=0.5, color=['b','r','g']) # plot figure\n",
        "plt.xticks(x, level)\n",
        "# add grid\n",
        "plt.grid(linestyle=\"--\", alpha=0.5)\n",
        "plt.show()"
      ]
    },
    {
      "cell_type": "markdown",
      "id": "whole-baghdad",
      "metadata": {
        "id": "whole-baghdad"
      },
      "source": [
        "## 4. Histogram"
      ]
    },
    {
      "cell_type": "code",
      "execution_count": null,
      "id": "external-creator",
      "metadata": {
        "id": "external-creator",
        "outputId": "3cde8484-cd06-49e2-9336-854ff2e16f94"
      },
      "outputs": [
        {
          "name": "stdout",
          "output_type": "stream",
          "text": [
            "[22 26 27 21  1 11 14 28  5 23 27 14 14  0  2  5  2  6  0 26 23 12 12  4\n",
            " 28  1  0 23 26 20 24 10 24  4 16  6  8 17  2 27  5 28  7  9 26 25 13 12\n",
            "  3  7  7 13  6 16 17 29 12 22 24 20 24  3  9 13 28  4 24 10 23 15 26 24\n",
            "  4 12 22  4 28 29 23 28 15 23 21  4  8  5  6 22  5 13]\n"
          ]
        },
        {
          "data": {
            "image/png": "[encoded data removed]",
            "text/plain": [
              "<Figure size 600x400 with 1 Axes>"
            ]
          },
          "metadata": {},
          "output_type": "display_data"
        }
      ],
      "source": [
        "# generate data\n",
        "t = np.random.randint(0,30,90)\n",
        "print(t)\n",
        "# create figure\n",
        "plt.figure(dpi=100)\n",
        "# set group number (i.e. the range of each bin)\n",
        "group_num = 14\n",
        "# matplotlib.pyplot.hist(x, bins=None, range=None, density=False, weights=None, c\n",
        "# plot a histogram. x indicates the the data. bins indicates the number of bins i\n",
        "plt.hist(t, facecolor=\"red\", edgecolor=\"green\", bins=14, alpha=0.5)\n",
        "plt.xticks(range(min(t), max(t))[::2])\n",
        "plt.grid(linestyle=\"--\", alpha=0.5)\n",
        "plt.show()"
      ]
    },
    {
      "cell_type": "code",
      "execution_count": null,
      "id": "c8985ca2-56e3-4673-b7c2-f8d5455bb4ab",
      "metadata": {
        "id": "c8985ca2-56e3-4673-b7c2-f8d5455bb4ab",
        "outputId": "a06110d0-13dc-48ac-ab94-830921272c45"
      },
      "outputs": [
        {
          "data": {
            "image/png": "[encoded data removed]",
            "text/plain": [
              "<Figure size 432x288 with 1 Axes>"
            ]
          },
          "metadata": {
            "needs_background": "light"
          },
          "output_type": "display_data"
        }
      ],
      "source": [
        "#Line Plot:\n",
        "\n",
        "\n",
        "import matplotlib.pyplot as plt\n",
        "\n",
        "x = [1, 2, 3, 4, 5]\n",
        "y = [10, 12, 5, 8, 9]\n",
        "\n",
        "plt.plot(x, y, label='Data')\n",
        "plt.xlabel('X-axis')\n",
        "plt.ylabel('Y-axis')\n",
        "plt.title('Line Plot Example')\n",
        "plt.legend()\n",
        "plt.show()\n"
      ]
    },
    {
      "cell_type": "code",
      "execution_count": null,
      "id": "af3be851-fac0-47e1-874f-76ad27f7365a",
      "metadata": {
        "id": "af3be851-fac0-47e1-874f-76ad27f7365a",
        "outputId": "abd40f99-944e-419c-b13f-ce71b2bdecf0"
      },
      "outputs": [
        {
          "data": {
            "image/png": "[encoded data removed]",
            "text/plain": [
              "<Figure size 432x288 with 1 Axes>"
            ]
          },
          "metadata": {
            "needs_background": "light"
          },
          "output_type": "display_data"
        }
      ],
      "source": [
        "# Scatter plot\n",
        "import matplotlib.pyplot as plt\n",
        "\n",
        "x = [1, 2, 3, 4, 5]\n",
        "y = [10, 12, 5, 8, 9]\n",
        "\n",
        "plt.scatter(x, y, label='Data', color='blue', marker='o')\n",
        "plt.xlabel('X-axis')\n",
        "plt.ylabel('Y-axis')\n",
        "plt.title('Scatter Plot Example')\n",
        "plt.legend()\n",
        "plt.show()\n"
      ]
    },
    {
      "cell_type": "code",
      "execution_count": null,
      "id": "23381b5d-abf4-48ee-8d70-02c49f3c6621",
      "metadata": {
        "id": "23381b5d-abf4-48ee-8d70-02c49f3c6621",
        "outputId": "e353674d-0251-435a-8b5c-585fb9130c7b"
      },
      "outputs": [
        {
          "data": {
            "image/png": "[encoded data removed]",
            "text/plain": [
              "<Figure size 432x288 with 1 Axes>"
            ]
          },
          "metadata": {
            "needs_background": "light"
          },
          "output_type": "display_data"
        }
      ],
      "source": [
        "# Bar chart\n",
        "import matplotlib.pyplot as plt\n",
        "\n",
        "categories = ['Category A', 'Category B', 'Category C']\n",
        "values = [30, 45, 20]\n",
        "\n",
        "plt.bar(categories, values, color='green')\n",
        "plt.xlabel('Categories')\n",
        "plt.ylabel('Values')\n",
        "plt.title('Bar Chart Example')\n",
        "plt.show()\n"
      ]
    },
    {
      "cell_type": "code",
      "execution_count": null,
      "id": "47a6bbdf-1f8f-4739-85c8-b0cf13d15aef",
      "metadata": {
        "id": "47a6bbdf-1f8f-4739-85c8-b0cf13d15aef",
        "outputId": "a1e735fa-65fc-44ff-9480-c12729a49aa7"
      },
      "outputs": [
        {
          "data": {
            "image/png": "[encoded data removed]",
            "text/plain": [
              "<Figure size 432x288 with 1 Axes>"
            ]
          },
          "metadata": {
            "needs_background": "light"
          },
          "output_type": "display_data"
        }
      ],
      "source": [
        "#histogram\n",
        "import matplotlib.pyplot as plt\n",
        "import numpy as np\n",
        "\n",
        "data = np.random.randn(1000)  # Generate random data\n",
        "\n",
        "plt.hist(data, bins=30, color='purple', alpha=0.7)\n",
        "plt.xlabel('Value')\n",
        "plt.ylabel('Frequency')\n",
        "plt.title('Histogram Example')\n",
        "plt.show()\n"
      ]
    },
    {
      "cell_type": "code",
      "execution_count": null,
      "id": "0b65e2d6-4efd-4050-bfda-511362a86918",
      "metadata": {
        "id": "0b65e2d6-4efd-4050-bfda-511362a86918",
        "outputId": "3d896335-0f2a-4193-98d0-38f8c6ffa477"
      },
      "outputs": [
        {
          "data": {
            "image/png": "[encoded data removed]",
            "text/plain": [
              "<Figure size 432x288 with 1 Axes>"
            ]
          },
          "metadata": {},
          "output_type": "display_data"
        }
      ],
      "source": [
        "#Pie chart\n",
        "import matplotlib.pyplot as plt\n",
        "\n",
        "labels = ['Category A', 'Category B', 'Category C']\n",
        "sizes = [25, 40, 35]\n",
        "colors = ['red', 'green', 'blue']\n",
        "\n",
        "plt.pie(sizes, labels=labels, colors=colors, autopct='%1.1f%%')\n",
        "plt.title('Pie Chart Example')\n",
        "plt.show()\n"
      ]
    },
    {
      "cell_type": "markdown",
      "id": "707bf512-cc4f-4251-9c49-1a71a2613651",
      "metadata": {
        "id": "707bf512-cc4f-4251-9c49-1a71a2613651"
      },
      "source": [
        "# Seaborn"
      ]
    },
    {
      "cell_type": "markdown",
      "id": "356cd801-5233-4c69-9eb2-0941f3cff651",
      "metadata": {
        "id": "356cd801-5233-4c69-9eb2-0941f3cff651"
      },
      "source": [
        "## 1. Scatter Plot:\n"
      ]
    },
    {
      "cell_type": "code",
      "execution_count": null,
      "id": "fcf0e275-c3f9-4cce-bbc8-4b8b9ab8a99b",
      "metadata": {
        "id": "fcf0e275-c3f9-4cce-bbc8-4b8b9ab8a99b",
        "outputId": "9bfc76d6-d2dd-4c1c-e613-90a14605b274"
      },
      "outputs": [
        {
          "data": {
            "image/png": "[encoded data removed]",
            "text/plain": [
              "<Figure size 432x288 with 1 Axes>"
            ]
          },
          "metadata": {
            "needs_background": "light"
          },
          "output_type": "display_data"
        }
      ],
      "source": [
        "import seaborn as sns\n",
        "import matplotlib.pyplot as plt\n",
        "\n",
        "# Sample data\n",
        "import pandas as pd\n",
        "data = pd.DataFrame({'X': [1, 2, 3, 4, 5],\n",
        "                     'Y': [10, 12, 5, 8, 9]})\n",
        "\n",
        "# Create a scatter plot\n",
        "sns.scatterplot(x='X', y='Y', data=data)\n",
        "plt.xlabel('X-axis')\n",
        "plt.ylabel('Y-axis')\n",
        "plt.title('Seaborn Scatter Plot')\n",
        "plt.show()\n"
      ]
    },
    {
      "cell_type": "markdown",
      "id": "1d15cdee-d40e-41c9-b84c-6a8956bfcfcf",
      "metadata": {
        "id": "1d15cdee-d40e-41c9-b84c-6a8956bfcfcf"
      },
      "source": [
        "## 2. Bar Plot:\n"
      ]
    },
    {
      "cell_type": "code",
      "execution_count": null,
      "id": "a1eac836-aca0-410d-87b8-1e8c7a527c1e",
      "metadata": {
        "id": "a1eac836-aca0-410d-87b8-1e8c7a527c1e",
        "outputId": "9794ccc2-c3bd-4bf4-e3ee-8ce29629926d"
      },
      "outputs": [
        {
          "data": {
            "image/png": "[encoded data removed]",
            "text/plain": [
              "<Figure size 432x288 with 1 Axes>"
            ]
          },
          "metadata": {
            "needs_background": "light"
          },
          "output_type": "display_data"
        }
      ],
      "source": [
        "import seaborn as sns\n",
        "import matplotlib.pyplot as plt\n",
        "\n",
        "# Sample data\n",
        "data = pd.DataFrame({'Category': ['A', 'B', 'C'],\n",
        "                     'Value': [30, 45, 20]})\n",
        "\n",
        "# Create a bar plot\n",
        "sns.barplot(x='Category', y='Value', data=data)\n",
        "plt.xlabel('Category')\n",
        "plt.ylabel('Value')\n",
        "plt.title('Seaborn Bar Plot')\n",
        "plt.show()\n"
      ]
    },
    {
      "cell_type": "markdown",
      "id": "a5a0d72e-59aa-4cf0-8e23-308b0eb51bef",
      "metadata": {
        "id": "a5a0d72e-59aa-4cf0-8e23-308b0eb51bef"
      },
      "source": [
        "## 3. Box Plot:\n"
      ]
    },
    {
      "cell_type": "code",
      "execution_count": null,
      "id": "a8a13cf8-efa0-4da8-9a21-cb6be4308cfd",
      "metadata": {
        "id": "a8a13cf8-efa0-4da8-9a21-cb6be4308cfd",
        "outputId": "9e009b61-71f5-4983-8393-eb60e1bba60e"
      },
      "outputs": [
        {
          "data": {
            "image/png": "[encoded data removed]",
            "text/plain": [
              "<Figure size 432x288 with 1 Axes>"
            ]
          },
          "metadata": {
            "needs_background": "light"
          },
          "output_type": "display_data"
        }
      ],
      "source": [
        "import seaborn as sns\n",
        "import matplotlib.pyplot as plt\n",
        "import pandas as pd\n",
        "# Sample data\n",
        "data = pd.DataFrame({'Category': ['A', 'A', 'B', 'B', 'C'],\n",
        "                     'Value': [30, 45, 20, 35, 50]})\n",
        "\n",
        "# Create a box plot\n",
        "sns.boxplot(x='Category', y='Value', data=data)\n",
        "plt.xlabel('Category')\n",
        "plt.ylabel('Value')\n",
        "plt.title('Seaborn Box Plot')\n",
        "plt.show()\n"
      ]
    },
    {
      "cell_type": "markdown",
      "id": "0154ab85-877f-4ec0-9215-6c8e54736e59",
      "metadata": {
        "id": "0154ab85-877f-4ec0-9215-6c8e54736e59"
      },
      "source": [
        "## 4. Pair Plot:\n"
      ]
    },
    {
      "cell_type": "code",
      "execution_count": null,
      "id": "6c41d3ef-0b21-488f-95e9-e42227a8eb21",
      "metadata": {
        "id": "6c41d3ef-0b21-488f-95e9-e42227a8eb21",
        "outputId": "c75f0615-3027-4ae8-cbe4-324ec8630b8b"
      },
      "outputs": [
        {
          "data": {
            "image/png": "[encoded data removed]",
            "text/plain": [
              "<Figure size 804.75x720 with 20 Axes>"
            ]
          },
          "metadata": {
            "needs_background": "light"
          },
          "output_type": "display_data"
        }
      ],
      "source": [
        "import seaborn as sns\n",
        "import matplotlib.pyplot as plt\n",
        "\n",
        "# Sample data\n",
        "data = sns.load_dataset('iris')  # Load the Iris dataset for demonstration\n",
        "\n",
        "# Create a pair plot\n",
        "sns.pairplot(data=data, hue='species')\n",
        "plt.title('Seaborn Pair Plot')\n",
        "plt.show()\n"
      ]
    },
    {
      "cell_type": "markdown",
      "id": "f73427ed-73b3-47d6-8fd8-fc89abf9d437",
      "metadata": {
        "id": "f73427ed-73b3-47d6-8fd8-fc89abf9d437"
      },
      "source": [
        "## 5. Heatmap:\n"
      ]
    },
    {
      "cell_type": "code",
      "execution_count": null,
      "id": "b99449e4-1af7-460c-a303-12da5377361b",
      "metadata": {
        "id": "b99449e4-1af7-460c-a303-12da5377361b"
      },
      "outputs": [],
      "source": [
        "import seaborn as sns\n",
        "import matplotlib.pyplot as plt\n",
        "\n",
        "# Sample data (you can replace this with your own dataset)\n",
        "import pandas as pd\n",
        "data = pd.DataFrame({'A': [1, 2, 3, 4, 5],\n",
        "                     'B': [5, 4, 3, 2, 1],\n",
        "                     'C': [2, 3, 2, 3, 4],\n",
        "                     'D': [3, 3, 3, 3, 3]})\n",
        "\n",
        "# Calculate the correlation matrix\n",
        "corr_matrix = data.corr()\n",
        "\n",
        "\n"
      ]
    },
    {
      "cell_type": "code",
      "execution_count": null,
      "id": "f5508461-5166-43d1-ba61-9df45c0b2d7f",
      "metadata": {
        "id": "f5508461-5166-43d1-ba61-9df45c0b2d7f",
        "outputId": "d1da0ecd-0511-4a72-a4f9-5deb31930b5e"
      },
      "outputs": [
        {
          "data": {
            "image/png": "[encoded data removed]",
            "text/plain": [
              "<Figure size 432x288 with 2 Axes>"
            ]
          },
          "metadata": {
            "needs_background": "light"
          },
          "output_type": "display_data"
        }
      ],
      "source": [
        "# Create a heatmap\n",
        "sns.heatmap(data=corr_matrix, annot=True, cmap='coolwarm', linewidths=0.5)\n",
        "\n",
        "plt.title('Correlation Heatmap')\n",
        "plt.show()\n"
      ]
    },
    {
      "cell_type": "code",
      "execution_count": null,
      "id": "900c5b2a-2915-4749-8bfc-70be617f7abd",
      "metadata": {
        "id": "900c5b2a-2915-4749-8bfc-70be617f7abd"
      },
      "outputs": [],
      "source": []
    }
  ],
  "metadata": {
    "colab": {
      "collapsed_sections": [
        "encouraging-cambodia",
        "modular-timer",
        "agreed-proposal",
        "detailed-attempt",
        "cheap-seeking",
        "arctic-large",
        "welsh-appreciation",
        "chubby-mother",
        "descending-smooth",
        "narrow-response",
        "empirical-option",
        "chronic-dancing",
        "behavioral-grass",
        "ruled-lemon",
        "floating-plaintiff",
        "sixth-faith",
        "educated-recall",
        "minor-livestock",
        "fossil-punishment",
        "humanitarian-evans",
        "romance-russian",
        "normal-render",
        "endangered-night",
        "found-values",
        "absent-feature",
        "supreme-blair",
        "efficient-childhood",
        "difficult-amazon",
        "streaming-cattle",
        "corrected-transcript",
        "large-server",
        "choice-frank",
        "medical-constraint",
        "color-material",
        "binary-farmer",
        "extreme-morning",
        "august-laundry",
        "commercial-freeze",
        "indoor-lawsuit",
        "buried-wales",
        "medical-falls",
        "ancient-connecticut",
        "optical-audio",
        "cordless-intake",
        "generous-title",
        "handmade-vietnam",
        "bacterial-reference",
        "statistical-longitude",
        "artificial-boulder",
        "authorized-warrant",
        "configured-grove",
        "coupled-indie",
        "respective-laugh",
        "interpreted-musical",
        "unauthorized-agriculture",
        "fourth-feedback"
      ],
      "provenance": [],
      "include_colab_link": true
    },
    "kernelspec": {
      "display_name": "Python 3 (ipykernel)",
      "language": "python",
      "name": "python3"
    },
    "language_info": {
      "codemirror_mode": {
        "name": "ipython",
        "version": 3
      },
      "file_extension": ".py",
      "mimetype": "text/x-python",
      "name": "python",
      "nbconvert_exporter": "python",
      "pygments_lexer": "ipython3",
      "version": "3.9.12"
    }
  },
  "nbformat": 4,
  "nbformat_minor": 5
}